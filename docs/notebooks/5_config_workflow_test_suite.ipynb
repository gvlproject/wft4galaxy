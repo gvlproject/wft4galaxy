{
 "cells": [
  {
   "cell_type": "markdown",
   "metadata": {},
   "source": [
    "# Configure a test suite"
   ]
  },
  {
   "cell_type": "code",
   "execution_count": 1,
   "metadata": {
    "collapsed": true
   },
   "outputs": [],
   "source": [
    "EXAMPLES_FOLDER = \"../examples\""
   ]
  },
  {
   "cell_type": "code",
   "execution_count": 2,
   "metadata": {
    "collapsed": false
   },
   "outputs": [
    {
     "data": {
      "text/plain": [
       "['change_case',\n",
       " 'multivariate',\n",
       " 'sacurine',\n",
       " 'workflow-test-suite-full.yml',\n",
       " 'workflow-test-suite-min.yml',\n",
       " 'workflows.json']"
      ]
     },
     "execution_count": 2,
     "metadata": {},
     "output_type": "execute_result"
    }
   ],
   "source": [
    "import os, pprint\n",
    "[f for f in os.listdir(EXAMPLES_FOLDER) if not f.startswith('.')]"
   ]
  },
  {
   "cell_type": "code",
   "execution_count": 3,
   "metadata": {
    "collapsed": true
   },
   "outputs": [],
   "source": [
    "suite_conf_filename = os.path.join(EXAMPLES_FOLDER, \"workflow-test-suite-min.yml\")"
   ]
  },
  {
   "cell_type": "code",
   "execution_count": 4,
   "metadata": {
    "collapsed": false
   },
   "outputs": [
    {
     "name": "stdout",
     "output_type": "stream",
     "text": [
      "workflows:\n",
      "  change_case:\n",
      "    expected:\n",
      "      OutputText: change_case/expected_output\n",
      "    inputs:\n",
      "      InputText: change_case/input\n",
      "    file: change_case/workflow.ga\n",
      "  multivariate:\n",
      "    expected:\n",
      "      variableMetadata_out: multivariate/variableMetadata_out\n",
      "      sampleMetadata_out: multivariate/sampleMetadata_out\n",
      "    inputs:\n",
      "      DataMatrix: multivariate/dataMatrix.tsv\n",
      "      SampleMetadata: multivariate/sampleMetadata.tsv\n",
      "      VariableMetadata: multivariate/variableMetadata.tsv\n",
      "    params:\n",
      "      3:\n",
      "        predI: '1'\n",
      "        respC: gender\n",
      "        orthoI: NA\n",
      "        testL: 'FALSE'\n",
      "    file: multivariate/workflow.ga\n",
      "\n"
     ]
    }
   ],
   "source": [
    "import ruamel.yaml as yaml\n",
    "with open(suite_conf_filename, \"r\") as fp:\n",
    "    data = yaml.load(fp)\n",
    "    print yaml.round_trip_dump(data, indent=2, block_seq_indent=3)"
   ]
  },
  {
   "cell_type": "code",
   "execution_count": 5,
   "metadata": {
    "collapsed": false
   },
   "outputs": [],
   "source": [
    "from wft4galaxy import WorkflowTestConfiguration"
   ]
  },
  {
   "cell_type": "code",
   "execution_count": 6,
   "metadata": {
    "collapsed": false
   },
   "outputs": [],
   "source": [
    "wft1 = WorkflowTestConfiguration.load(suite_conf_filename, \"change_case\")\n",
    "wft2 = WorkflowTestConfiguration.load(suite_conf_filename, \"multivariate\")"
   ]
  },
  {
   "cell_type": "code",
   "execution_count": 7,
   "metadata": {
    "collapsed": false
   },
   "outputs": [],
   "source": [
    "from wft4galaxy import WorkflowTestSuite"
   ]
  },
  {
   "cell_type": "code",
   "execution_count": 8,
   "metadata": {
    "collapsed": false
   },
   "outputs": [],
   "source": [
    "suite = WorkflowTestSuite()"
   ]
  },
  {
   "cell_type": "code",
   "execution_count": 9,
   "metadata": {
    "collapsed": true
   },
   "outputs": [],
   "source": [
    "suite.add_workflow_test(wft1)\n",
    "suite.add_workflow_test(wft2)"
   ]
  },
  {
   "cell_type": "code",
   "execution_count": 10,
   "metadata": {
    "collapsed": false
   },
   "outputs": [
    {
     "data": {
      "text/plain": [
       "{'change_case': WorkflowTestConfig: name=change_case, file=change_case/workflow.ga, inputs=[InputText], expected_outputs=[OutputText],\n",
       " 'multivariate': WorkflowTestConfig: name=multivariate, file=multivariate/workflow.ga, inputs=[DataMatrix,SampleMetadata,VariableMetadata], expected_outputs=[variableMetadata_out,sampleMetadata_out]}"
      ]
     },
     "execution_count": 10,
     "metadata": {},
     "output_type": "execute_result"
    }
   ],
   "source": [
    "suite.workflow_tests"
   ]
  },
  {
   "cell_type": "code",
   "execution_count": 11,
   "metadata": {
    "collapsed": false
   },
   "outputs": [
    {
     "name": "stderr",
     "output_type": "stream",
     "text": [
      "2016-11-11 16:07:07,171 INFO: Create a history '_WorkflowTestHistory_82ca6f42-a820-11e6-8d64-a45e60c4fc6b' (id: u'03552bdee8c8190f')\n",
      "2016-11-11 16:07:08,840 INFO: Workflow '_WorkflowTest_Change Case (imported from API)' (id: 25d23a09c720d5c6) running ...\n",
      "2016-11-11 16:07:17,000 INFO: Workflow '_WorkflowTest_Change Case (imported from API)' (id: 25d23a09c720d5c6) executed\n",
      "2016-11-11 16:07:17,004 INFO: Checking test output: ...\n",
      "2016-11-11 16:07:17,068 INFO: Checking test output: DONE\n",
      "2016-11-11 16:07:18,291 INFO: Create a history '_WorkflowTestHistory_8966d7c7-a820-11e6-8420-a45e60c4fc6b' (id: u'f6509e58756240f2')\n",
      "2016-11-11 16:07:26,172 INFO: Workflow '_WorkflowTest_Multivariate (imported from API)' (id: e2132aef71b11dbf) running ...\n",
      "2016-11-11 16:07:39,743 INFO: Workflow '_WorkflowTest_Multivariate (imported from API)' (id: e2132aef71b11dbf) executed\n",
      "2016-11-11 16:07:39,746 INFO: Checking test output: ...\n",
      "2016-11-11 16:07:39,834 INFO: Checking test output: DONE\n"
     ]
    }
   ],
   "source": [
    "test_results = suite.run_tests(enable_logger=True)"
   ]
  },
  {
   "cell_type": "code",
   "execution_count": 12,
   "metadata": {
    "collapsed": false
   },
   "outputs": [
    {
     "name": "stdout",
     "output_type": "stream",
     "text": [
      "Test 82ca6f42-a820-11e6-8d64-a45e60c4fc6b:\n",
      "\t - workflow: [_WorkflowTest_Change Case (imported from API)] \n",
      "\t - results: {u'OutputText': True}\n",
      "Test 8966d7c7-a820-11e6-8420-a45e60c4fc6b:\n",
      "\t - workflow: [_WorkflowTest_Multivariate (imported from API)] \n",
      "\t - results: {u'variableMetadata_out': True, u'sampleMetadata_out': True}\n"
     ]
    }
   ],
   "source": [
    "for r in test_results:\n",
    "    print(\"Test %s:\\n\\t - workflow: [%s] \\n\\t - results: %r\" % (r.test_id, r.workflow.name, r.results))"
   ]
  }
 ],
 "metadata": {
  "kernelspec": {
   "display_name": "Python 2",
   "language": "python",
   "name": "python2"
  },
  "language_info": {
   "codemirror_mode": {
    "name": "ipython",
    "version": 2
   },
   "file_extension": ".py",
   "mimetype": "text/x-python",
   "name": "python",
   "nbconvert_exporter": "python",
   "pygments_lexer": "ipython2",
   "version": "2.7.11"
  }
 },
 "nbformat": 4,
 "nbformat_minor": 1
}
