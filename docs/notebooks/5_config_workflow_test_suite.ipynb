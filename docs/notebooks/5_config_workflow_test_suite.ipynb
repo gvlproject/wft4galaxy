{
 "cells": [
  {
   "cell_type": "markdown",
   "metadata": {},
   "source": [
    "# Configure a test suite"
   ]
  },
  {
   "cell_type": "code",
   "execution_count": 1,
   "metadata": {
    "collapsed": false
   },
   "outputs": [],
   "source": [
    "import os, pprint"
   ]
  },
  {
   "cell_type": "code",
   "execution_count": 2,
   "metadata": {
    "collapsed": true
   },
   "outputs": [],
   "source": [
    "EXAMPLES_FOLDER = \"../examples\""
   ]
  },
  {
   "cell_type": "code",
   "execution_count": 3,
   "metadata": {
    "collapsed": false
   },
   "outputs": [
    {
     "data": {
      "text/plain": [
       "['.tools',\n",
       " 'change_case',\n",
       " 'multivariate',\n",
       " 'results',\n",
       " 'sacurine',\n",
       " 'workflow-test-suite-full.yml',\n",
       " 'workflow-test-suite-min.yml',\n",
       " 'workflows.json']"
      ]
     },
     "execution_count": 3,
     "metadata": {},
     "output_type": "execute_result"
    }
   ],
   "source": [
    "[f for f in os.listdir(EXAMPLES_FOLDER) if f not in [\".DS_Store\", \".ipynb_checkpoints\"]]"
   ]
  },
  {
   "cell_type": "code",
   "execution_count": 4,
   "metadata": {
    "collapsed": true
   },
   "outputs": [],
   "source": [
    "suite_conf_filename = os.path.join(EXAMPLES_FOLDER, \"workflow-test-suite-min.yml\")"
   ]
  },
  {
   "cell_type": "code",
   "execution_count": 5,
   "metadata": {
    "collapsed": false
   },
   "outputs": [
    {
     "name": "stdout",
     "output_type": "stream",
     "text": [
      "enable_logger: false\n",
      "workflows:\n",
      "  change_case:\n",
      "    expected:\n",
      "      OutputText: change_case/expected_output\n",
      "    inputs:\n",
      "      InputText: change_case/input\n",
      "    file: change_case/workflow.ga\n",
      "  multivariate:\n",
      "    expected:\n",
      "      variableMetadata_out: multivariate/variableMetadata_out\n",
      "      sampleMetadata_out: multivariate/sampleMetadata_out\n",
      "    inputs:\n",
      "      DataMatrix: multivariate/dataMatrix.tsv\n",
      "      SampleMetadata: multivariate/sampleMetadata.tsv\n",
      "      VariableMetadata: multivariate/variableMetadata.tsv\n",
      "    params:\n",
      "      3:\n",
      "        predI: '1'\n",
      "        respC: gender\n",
      "        orthoI: NA\n",
      "        testL: 'FALSE'\n",
      "    file: multivariate/workflow.ga\n",
      "\n"
     ]
    }
   ],
   "source": [
    "import ruamel.yaml as yaml\n",
    "with open(suite_conf_filename, \"r\") as fp:\n",
    "    data = yaml.load(fp)\n",
    "    print yaml.round_trip_dump(data, indent=2, block_seq_indent=3)"
   ]
  },
  {
   "cell_type": "code",
   "execution_count": 6,
   "metadata": {
    "collapsed": false
   },
   "outputs": [],
   "source": [
    "from wft4galaxy import WorkflowTestConfiguration"
   ]
  },
  {
   "cell_type": "code",
   "execution_count": 7,
   "metadata": {
    "collapsed": false
   },
   "outputs": [],
   "source": [
    "wft1 = WorkflowTestConfiguration.load(suite_conf_filename, \"change_case\")\n",
    "wft2 = WorkflowTestConfiguration.load(suite_conf_filename, \"multivariate\")"
   ]
  },
  {
   "cell_type": "code",
   "execution_count": 8,
   "metadata": {
    "collapsed": false
   },
   "outputs": [],
   "source": [
    "from wft4galaxy import WorkflowTestSuite"
   ]
  },
  {
   "cell_type": "code",
   "execution_count": 9,
   "metadata": {
    "collapsed": false
   },
   "outputs": [],
   "source": [
    "suite = WorkflowTestSuite()"
   ]
  },
  {
   "cell_type": "code",
   "execution_count": 10,
   "metadata": {
    "collapsed": true
   },
   "outputs": [],
   "source": [
    "suite.add_workflow_test(wft1)\n",
    "suite.add_workflow_test(wft2)"
   ]
  },
  {
   "cell_type": "code",
   "execution_count": 11,
   "metadata": {
    "collapsed": false
   },
   "outputs": [
    {
     "data": {
      "text/plain": [
       "{'change_case': WorkflowTestConfig: name=change_case, file=change_case/workflow.ga, inputs=[InputText], expected_outputs=[OutputText],\n",
       " 'multivariate': WorkflowTestConfig: name=multivariate, file=multivariate/workflow.ga, inputs=[DataMatrix,SampleMetadata,VariableMetadata], expected_outputs=[variableMetadata_out,sampleMetadata_out]}"
      ]
     },
     "execution_count": 11,
     "metadata": {},
     "output_type": "execute_result"
    }
   ],
   "source": [
    "suite.workflow_tests"
   ]
  },
  {
   "cell_type": "code",
   "execution_count": 12,
   "metadata": {
    "collapsed": false
   },
   "outputs": [
    {
     "name": "stderr",
     "output_type": "stream",
     "text": [
      "2016-11-09 07:25:12,181 DEBUG: Using default params\n",
      "2016-11-09 07:25:12,226 DEBUG: Checking required tools ...\n",
      "2016-11-09 07:25:12,354 DEBUG: Missing tools: None\n",
      "2016-11-09 07:25:12,355 DEBUG: Checking required tools: DONE\n",
      "2016-11-09 07:25:13,226 INFO: Create a history '_WorkflowTestHistory_44fdeff5-a645-11e6-835f-a8667f33b7fc' (id: u'c851ab275e52f8af')\n",
      "2016-11-09 07:25:14,853 INFO: Workflow '_WorkflowTest_Change Case (imported from API)' (id: c851ab275e52f8af) running ...\n",
      "2016-11-09 07:25:24,195 INFO: Workflow '_WorkflowTest_Change Case (imported from API)' (id: c851ab275e52f8af) executed\n",
      "2016-11-09 07:25:24,197 INFO: Checking test output: ...\n",
      "2016-11-09 07:25:24,198 DEBUG: Checking OUTPUT 'OutputText' ...\n",
      "2016-11-09 07:25:24,302 DEBUG: Downloaded output OutputText: dataset_id 'b72738259af9fa3d', filename 'results/change_case/OutputText'\n",
      "2016-11-09 07:25:24,304 DEBUG: Configured comparator function: None\n",
      "2016-11-09 07:25:24,305 DEBUG: Using default comparator....\n",
      "2016-11-09 07:25:24,326 DEBUG: Output 'OutputText' is equal to the expected: dataset 'b72738259af9fa3d', actual-output 'results/change_case/OutputText', expected-output '/Users/kikkomep/CloudDrives/Dropbox/Work/Crs4/Projects/PhenoMeNal/Repositories/WorkflowTester/docs/examples/change_case/expected_output'\n",
      "2016-11-09 07:25:24,328 DEBUG: Checking OUTPUT 'OutputText': DONE\n",
      "2016-11-09 07:25:24,331 INFO: Checking test output: DONE\n",
      "2016-11-09 07:25:24,333 DEBUG: Cleanup of workflow test '44fdeff5-a645-11e6-835f-a8667f33b7fc'...\n",
      "2016-11-09 07:25:24,632 DEBUG: Cleaning output folder: OutputText\n",
      "2016-11-09 07:25:24,634 DEBUG: Deleted output file 'results/change_case/OutputText'.\n",
      "2016-11-09 07:25:24,800 DEBUG: Cleanup of workflow test '44fdeff5-a645-11e6-835f-a8667f33b7fc': DONE\n",
      "2016-11-09 07:25:25,217 DEBUG: Using default params\n",
      "2016-11-09 07:25:25,218 DEBUG: Checking required tools ...\n",
      "2016-11-09 07:25:25,295 DEBUG: Missing tools: None\n",
      "2016-11-09 07:25:25,296 DEBUG: Checking required tools: DONE\n",
      "2016-11-09 07:25:26,431 INFO: Create a history '_WorkflowTestHistory_4cc2ffe8-a645-11e6-8ff1-a8667f33b7fc' (id: u'12e4b4feedfe9f3f')\n",
      "2016-11-09 07:25:35,136 INFO: Workflow '_WorkflowTest_Multivariate (imported from API)' (id: 12e4b4feedfe9f3f) running ...\n",
      "2016-11-09 07:25:53,983 INFO: Workflow '_WorkflowTest_Multivariate (imported from API)' (id: 12e4b4feedfe9f3f) executed\n",
      "2016-11-09 07:25:53,985 INFO: Checking test output: ...\n",
      "2016-11-09 07:25:53,986 DEBUG: Checking OUTPUT 'variableMetadata_out' ...\n",
      "2016-11-09 07:25:54,104 DEBUG: Downloaded output variableMetadata_out: dataset_id '43d619180bf1008a', filename 'results/multivariate/variableMetadata_out'\n",
      "2016-11-09 07:25:54,106 DEBUG: Configured comparator function: None\n",
      "2016-11-09 07:25:54,107 DEBUG: Using default comparator....\n",
      "2016-11-09 07:25:54,112 DEBUG: Output 'variableMetadata_out' is equal to the expected: dataset '43d619180bf1008a', actual-output 'results/multivariate/variableMetadata_out', expected-output '/Users/kikkomep/CloudDrives/Dropbox/Work/Crs4/Projects/PhenoMeNal/Repositories/WorkflowTester/docs/examples/multivariate/variableMetadata_out'\n",
      "2016-11-09 07:25:54,114 DEBUG: Checking OUTPUT 'variableMetadata_out': DONE\n",
      "2016-11-09 07:25:54,116 DEBUG: Checking OUTPUT 'sampleMetadata_out' ...\n",
      "2016-11-09 07:25:54,196 DEBUG: Downloaded output sampleMetadata_out: dataset_id '9c18ad129e678b2a', filename 'results/multivariate/sampleMetadata_out'\n",
      "2016-11-09 07:25:54,198 DEBUG: Configured comparator function: None\n",
      "2016-11-09 07:25:54,200 DEBUG: Using default comparator....\n",
      "2016-11-09 07:25:54,204 DEBUG: Output 'sampleMetadata_out' is equal to the expected: dataset '9c18ad129e678b2a', actual-output 'results/multivariate/sampleMetadata_out', expected-output '/Users/kikkomep/CloudDrives/Dropbox/Work/Crs4/Projects/PhenoMeNal/Repositories/WorkflowTester/docs/examples/multivariate/sampleMetadata_out'\n",
      "2016-11-09 07:25:54,205 DEBUG: Checking OUTPUT 'sampleMetadata_out': DONE\n",
      "2016-11-09 07:25:54,207 INFO: Checking test output: DONE\n",
      "2016-11-09 07:25:54,210 DEBUG: Cleanup of workflow test '4cc2ffe8-a645-11e6-8ff1-a8667f33b7fc'...\n",
      "2016-11-09 07:25:54,490 DEBUG: Cleaning output folder: variableMetadata_out\n",
      "2016-11-09 07:25:54,495 DEBUG: Deleted output file 'results/multivariate/variableMetadata_out'.\n",
      "2016-11-09 07:25:54,495 DEBUG: Cleaning output folder: sampleMetadata_out\n",
      "2016-11-09 07:25:54,497 DEBUG: Deleted output file 'results/multivariate/sampleMetadata_out'.\n",
      "2016-11-09 07:25:54,637 DEBUG: Cleanup of workflow test '4cc2ffe8-a645-11e6-8ff1-a8667f33b7fc': DONE\n",
      "2016-11-09 07:25:54,638 DEBUG: Cleanup of workflow test '44fdeff5-a645-11e6-835f-a8667f33b7fc'...\n",
      "2016-11-09 07:25:54,797 DEBUG: Cleaning output folder: OutputText\n",
      "2016-11-09 07:25:54,798 DEBUG: Cleanup of workflow test '44fdeff5-a645-11e6-835f-a8667f33b7fc': DONE\n",
      "2016-11-09 07:25:54,799 DEBUG: Cleanup of workflow test '4cc2ffe8-a645-11e6-8ff1-a8667f33b7fc'...\n",
      "2016-11-09 07:25:54,992 DEBUG: Cleaning output folder: variableMetadata_out\n",
      "2016-11-09 07:25:54,993 DEBUG: Cleaning output folder: sampleMetadata_out\n",
      "2016-11-09 07:25:54,994 DEBUG: Cleanup of workflow test '4cc2ffe8-a645-11e6-8ff1-a8667f33b7fc': DONE\n"
     ]
    }
   ],
   "source": [
    "test_results = suite.run_tests(enable_debug=True)"
   ]
  },
  {
   "cell_type": "code",
   "execution_count": 13,
   "metadata": {
    "collapsed": false
   },
   "outputs": [
    {
     "name": "stdout",
     "output_type": "stream",
     "text": [
      "Test 44fdeff5-a645-11e6-835f-a8667f33b7fc:\n",
      "\t - workflow: [_WorkflowTest_Change Case (imported from API)] \n",
      "\t - results: {u'OutputText': True}\n",
      "Test 4cc2ffe8-a645-11e6-8ff1-a8667f33b7fc:\n",
      "\t - workflow: [_WorkflowTest_Multivariate (imported from API)] \n",
      "\t - results: {u'variableMetadata_out': True, u'sampleMetadata_out': True}\n"
     ]
    }
   ],
   "source": [
    "for r in test_results:\n",
    "    print(\"Test %s:\\n\\t - workflow: [%s] \\n\\t - results: %r\" % (r.test_id, r.workflow.name, r.results))"
   ]
  },
  {
   "cell_type": "code",
   "execution_count": null,
   "metadata": {
    "collapsed": true
   },
   "outputs": [],
   "source": []
  }
 ],
 "metadata": {
  "kernelspec": {
   "display_name": "Python 2",
   "language": "python",
   "name": "python2"
  },
  "language_info": {
   "codemirror_mode": {
    "name": "ipython",
    "version": 2
   },
   "file_extension": ".py",
   "mimetype": "text/x-python",
   "name": "python",
   "nbconvert_exporter": "python",
   "pygments_lexer": "ipython2",
   "version": "2.7.11"
  }
 },
 "nbformat": 4,
 "nbformat_minor": 1
}
