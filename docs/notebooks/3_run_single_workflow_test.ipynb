{
 "cells": [
  {
   "cell_type": "markdown",
   "metadata": {},
   "source": [
    "# Run a single test"
   ]
  },
  {
   "cell_type": "code",
   "execution_count": 3,
   "metadata": {
    "collapsed": false
   },
   "outputs": [],
   "source": [
    "import os, pprint"
   ]
  },
  {
   "cell_type": "code",
   "execution_count": 4,
   "metadata": {
    "collapsed": true
   },
   "outputs": [],
   "source": [
    "EXAMPLES_FOLDER = \"../examples\""
   ]
  },
  {
   "cell_type": "code",
   "execution_count": 5,
   "metadata": {
    "collapsed": false
   },
   "outputs": [
    {
     "data": {
      "text/plain": [
       "['.tools',\n",
       " 'change_case',\n",
       " 'multivariate',\n",
       " 'results',\n",
       " 'sacurine',\n",
       " 'workflow-test-suite-2.yml',\n",
       " 'workflow-test-suite-1.yml',\n",
       " 'workflows.json']"
      ]
     },
     "execution_count": 5,
     "metadata": {},
     "output_type": "execute_result"
    }
   ],
   "source": [
    "[f for f in os.listdir(EXAMPLES_FOLDER) if f not in [\".DS_Store\", \".ipynb_checkpoints\"]]"
   ]
  },
  {
   "cell_type": "code",
   "execution_count": 6,
   "metadata": {
    "collapsed": true
   },
   "outputs": [],
   "source": [
    "suite_conf_filename = os.path.join(EXAMPLES_FOLDER, \"workflow-test-suite-2.yml\")\n",
    "suite_conf_filename = os.path.join(EXAMPLES_FOLDER, \"workflow-test-suite-1.yml\")"
   ]
  },
  {
   "cell_type": "code",
   "execution_count": 7,
   "metadata": {
    "collapsed": false
   },
   "outputs": [
    {
     "name": "stdout",
     "output_type": "stream",
     "text": [
      "enable_logger: false\n",
      "workflows:\n",
      "  change_case:\n",
      "    expected:\n",
      "      output2: expected_output_2\n",
      "      output1: expected_output_1\n",
      "    inputs:\n",
      "      Input Dataset: input\n",
      "    base_path: change_case\n",
      "    file: workflow.ga\n",
      "\n"
     ]
    }
   ],
   "source": [
    "import ruamel.yaml as yaml\n",
    "with open(suite_conf_filename, \"r\") as fp:\n",
    "    data = yaml.load(fp)\n",
    "    print yaml.round_trip_dump(data, indent=2, block_seq_indent=3)"
   ]
  },
  {
   "cell_type": "code",
   "execution_count": 8,
   "metadata": {
    "collapsed": false
   },
   "outputs": [],
   "source": [
    "from wft4galaxy import WorkflowTestConfiguration"
   ]
  },
  {
   "cell_type": "code",
   "execution_count": 9,
   "metadata": {
    "collapsed": false
   },
   "outputs": [
    {
     "name": "stdout",
     "output_type": "stream",
     "text": [
      "Help on function load in module wft4galaxy:\n",
      "\n",
      "load(filename='workflows.yml', workflow_test_name=None, file_format='YAML', output_folder=None)\n",
      "    Load the configuration of a workflow test suite or a single workflow test\n",
      "    from a YAML or JSON configuration file.\n",
      "    \n",
      "    :type filename: str\n",
      "    :param filename: the path of the file containing the suite definition\n",
      "    \n",
      "    :type workflow_test_name: str\n",
      "    :param workflow_test_name: the optional name of a workflow test\n",
      "    \n",
      "    :type file_format: str\n",
      "    :param file_format: ``YAML`` or ``JSON``\n",
      "    \n",
      "    :rtype: dict or :class:`WorkflowTestConfiguration`\n",
      "    :return: a dictionary containing the configuration of a workflow test suite or\n",
      "        a single workflow test configuration (i.e., an instance of :class:`WorkflowTestConfiguration`)\n",
      "\n"
     ]
    }
   ],
   "source": [
    "help(WorkflowTestConfiguration.load)"
   ]
  },
  {
   "cell_type": "code",
   "execution_count": 10,
   "metadata": {
    "collapsed": false
   },
   "outputs": [],
   "source": [
    "test_conf = WorkflowTestConfiguration.load(suite_conf_filename, \"change_case\")"
   ]
  },
  {
   "cell_type": "code",
   "execution_count": 11,
   "metadata": {
    "collapsed": false
   },
   "outputs": [
    {
     "name": "stdout",
     "output_type": "stream",
     "text": [
      "WorkflowTestConfig: name=change_case, file=workflow.ga, inputs=[Input Dataset], expected_outputs=[output2,output1]\n"
     ]
    }
   ],
   "source": [
    "print test_conf"
   ]
  },
  {
   "cell_type": "code",
   "execution_count": 12,
   "metadata": {
    "collapsed": false
   },
   "outputs": [],
   "source": [
    "from wft4galaxy import WorkflowTestRunner"
   ]
  },
  {
   "cell_type": "code",
   "execution_count": 13,
   "metadata": {
    "collapsed": false
   },
   "outputs": [
    {
     "name": "stdout",
     "output_type": "stream",
     "text": [
      "Help on function new_instance in module wft4galaxy:\n",
      "\n",
      "new_instance(workflow_test_config, galaxy_url=None, galaxy_api_key=None)\n",
      "    Factory method to create and initialize a new :class:`WorkflowTestRunner` instance.\n",
      "    \n",
      "    :type workflow_test_config: :class:`WorkflowTestConfiguration`\n",
      "    :param workflow_test_config: the configuration of a workflow test\n",
      "    \n",
      "    :type galaxy_url: str\n",
      "    :param galaxy_url: url of your Galaxy server instance.  If ``none``, the environment variable\n",
      "        ``BIOBLEND_GALAXY_URL`` is used. An error is raised when such a variable cannot be found.\n",
      "    \n",
      "    :type galaxy_api_key: str\n",
      "    :param galaxy_api_key: an API key from your Galaxy server instance.  If ``none``, the environment variable\n",
      "        ``BIOBLEND_GALAXY_API_KEY`` is used. An error is raised when such a variable cannot be found.\n",
      "    \n",
      "    :rtype: :class:`WorkflowTestRunner`\n",
      "    :return: a :class:`WorkflowTestRunner` instance\n",
      "\n"
     ]
    }
   ],
   "source": [
    "help(WorkflowTestRunner.new_instance)"
   ]
  },
  {
   "cell_type": "code",
   "execution_count": 14,
   "metadata": {
    "collapsed": false
   },
   "outputs": [],
   "source": [
    "test_runner = WorkflowTestRunner.new_instance(test_conf)"
   ]
  },
  {
   "cell_type": "raw",
   "metadata": {},
   "source": [
    "print(test_runner)"
   ]
  },
  {
   "cell_type": "code",
   "execution_count": 15,
   "metadata": {
    "collapsed": false
   },
   "outputs": [
    {
     "name": "stdout",
     "output_type": "stream",
     "text": [
      "Help on method run_test in module wft4galaxy:\n",
      "\n",
      "run_test(self, base_path=None, inputs=None, params=None, expected_outputs=None, output_folder=None, disable_assertions=None, disable_cleanup=None, enable_logger=None, enable_debug=None) method of wft4galaxy.WorkflowTestRunner instance\n",
      "    Run the workflow test which this runner is associated to.\n",
      "    The parameters ``base_path``, ``inputs``, ``outputs``, ``expected_outputs``\n",
      "    ``output_folder``, ``disable_assertions``, ``disable_cleanup``, ``enable_logger``, ``enable_debug``\n",
      "    can be provided to override the corresponding defined in the :class:`WorkflowTestConfiguration` instance\n",
      "    which this runner is related to (see :class:`WorkflowTestConfiguration` for more details).\n",
      "    \n",
      "    :rtype: :class:`WorkflowTestResult`\n",
      "    :return: the :class:`WorkflowTestResult` instance which represents the test result\n",
      "\n"
     ]
    }
   ],
   "source": [
    "help(test_runner.run_test)"
   ]
  },
  {
   "cell_type": "code",
   "execution_count": 16,
   "metadata": {
    "collapsed": false
   },
   "outputs": [
    {
     "name": "stderr",
     "output_type": "stream",
     "text": [
      "2016-11-09 05:44:57,762 DEBUG: Using default params\n",
      "2016-11-09 05:44:57,787 DEBUG: Checking required tools ...\n",
      "2016-11-09 05:44:57,897 DEBUG: Missing tools: None\n",
      "2016-11-09 05:44:57,898 DEBUG: Checking required tools: DONE\n",
      "2016-11-09 05:44:58,309 INFO: Create a history '_WorkflowTestHistory_441e6517-a637-11e6-b006-a8667f33b7fc' (id: u'fa6833a4eadf9064')\n",
      "2016-11-09 05:44:59,506 INFO: Workflow '_WorkflowTest_TestWorkflow (imported from API)' (id: b701da857886499b) running ...\n",
      "2016-11-09 05:45:16,084 INFO: Workflow '_WorkflowTest_TestWorkflow (imported from API)' (id: b701da857886499b) executed\n",
      "2016-11-09 05:45:16,085 INFO: Checking test output: ...\n",
      "2016-11-09 05:45:16,086 DEBUG: Checking OUTPUT 'output1' ...\n",
      "2016-11-09 05:45:16,200 DEBUG: Downloaded output output1: dataset_id 'c4fa4dcd0ef9867a', filename 'results/change_case/output1'\n",
      "2016-11-09 05:45:16,201 DEBUG: Configured comparator function: None\n",
      "2016-11-09 05:45:16,203 DEBUG: Using default comparator....\n",
      "2016-11-09 05:45:16,221 DEBUG: Output 'output1' is equal to the expected: dataset 'c4fa4dcd0ef9867a', actual-output 'results/change_case/output1', expected-output '/Users/kikkomep/CloudDrives/Dropbox/Work/Crs4/Projects/PhenoMeNal/Repositories/WorkflowTester/docs/examples/change_case/expected_output_1'\n",
      "2016-11-09 05:45:16,223 DEBUG: Checking OUTPUT 'output1': DONE\n",
      "2016-11-09 05:45:16,225 DEBUG: Checking OUTPUT 'output2' ...\n",
      "2016-11-09 05:45:16,322 DEBUG: Downloaded output output2: dataset_id '9082c3dc6588cf4d', filename 'results/change_case/output2'\n",
      "2016-11-09 05:45:16,324 DEBUG: Configured comparator function: None\n",
      "2016-11-09 05:45:16,325 DEBUG: Using default comparator....\n",
      "2016-11-09 05:45:16,346 DEBUG: Output 'output2' is equal to the expected: dataset '9082c3dc6588cf4d', actual-output 'results/change_case/output2', expected-output '/Users/kikkomep/CloudDrives/Dropbox/Work/Crs4/Projects/PhenoMeNal/Repositories/WorkflowTester/docs/examples/change_case/expected_output_2'\n",
      "2016-11-09 05:45:16,347 DEBUG: Checking OUTPUT 'output2': DONE\n",
      "2016-11-09 05:45:16,349 INFO: Checking test output: DONE\n",
      "2016-11-09 05:45:16,350 DEBUG: Cleanup of workflow test '441e6517-a637-11e6-b006-a8667f33b7fc'...\n",
      "2016-11-09 05:45:16,723 DEBUG: Cleaning output folder: output2\n",
      "2016-11-09 05:45:16,725 DEBUG: Deleted output file 'results/change_case/output2'.\n",
      "2016-11-09 05:45:16,726 DEBUG: Cleaning output folder: output1\n",
      "2016-11-09 05:45:16,727 DEBUG: Deleted output file 'results/change_case/output1'.\n",
      "2016-11-09 05:45:16,938 DEBUG: Cleanup of workflow test '441e6517-a637-11e6-b006-a8667f33b7fc': DONE\n"
     ]
    }
   ],
   "source": [
    "test_result = test_runner.run_test(enable_debug=True)"
   ]
  },
  {
   "cell_type": "code",
   "execution_count": 17,
   "metadata": {
    "collapsed": false
   },
   "outputs": [
    {
     "name": "stdout",
     "output_type": "stream",
     "text": [
      "Test 441e6517-a637-11e6-b006-a8667f33b7fc:\n",
      "\t - workflow: [_WorkflowTest_TestWorkflow (imported from API)] \n",
      "\t - results: {u'output2': True, u'output1': True}\n"
     ]
    }
   ],
   "source": [
    "print(\"Test %s:\\n\\t - workflow: [%s] \\n\\t - results: %r\" % \\\n",
    "      (test_result.test_id, test_result.workflow.name, test_result.results))"
   ]
  },
  {
   "cell_type": "code",
   "execution_count": 18,
   "metadata": {
    "collapsed": false
   },
   "outputs": [
    {
     "name": "stdout",
     "output_type": "stream",
     "text": [
      "Outputs:  [u'output2', u'output1']\n"
     ]
    }
   ],
   "source": [
    "print \"Outputs: \", test_result.results.keys()"
   ]
  },
  {
   "cell_type": "code",
   "execution_count": 19,
   "metadata": {
    "collapsed": false
   },
   "outputs": [
    {
     "data": {
      "text/plain": [
       "(True, False)"
      ]
     },
     "execution_count": 19,
     "metadata": {},
     "output_type": "execute_result"
    }
   ],
   "source": [
    "test_result.passed(), test_result.failed()"
   ]
  },
  {
   "cell_type": "code",
   "execution_count": 20,
   "metadata": {
    "collapsed": false
   },
   "outputs": [
    {
     "data": {
      "text/plain": [
       "True"
      ]
     },
     "execution_count": 20,
     "metadata": {},
     "output_type": "execute_result"
    }
   ],
   "source": [
    "test_result.check_output(\"output1\")"
   ]
  }
 ],
 "metadata": {
  "kernelspec": {
   "display_name": "Python 2",
   "language": "python",
   "name": "python2"
  },
  "language_info": {
   "codemirror_mode": {
    "name": "ipython",
    "version": 2
   },
   "file_extension": ".py",
   "mimetype": "text/x-python",
   "name": "python",
   "nbconvert_exporter": "python",
   "pygments_lexer": "ipython2",
   "version": "2.7.11"
  }
 },
 "nbformat": 4,
 "nbformat_minor": 1
}
