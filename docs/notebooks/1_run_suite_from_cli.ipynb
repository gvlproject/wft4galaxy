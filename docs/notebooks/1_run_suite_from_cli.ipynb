{
 "cells": [
  {
   "cell_type": "markdown",
   "metadata": {},
   "source": [
    "    # Example: run suite from CLI "
   ]
  },
  {
   "cell_type": "markdown",
   "metadata": {},
   "source": [
    "This first example shows how to configure a **wft4galaxy** workflow test for Galaxy."
   ]
  },
  {
   "cell_type": "markdown",
   "metadata": {},
   "source": [
    "Main steps:\n",
    "\n",
    "1. prepare the Galaxy workflow to test: check workflow consistency and export it from Galaxy as a **.ga** file;\n",
    "2. choose its **input datasets** and generate its **expected output files**;\n",
    "3. write a workflow test **configuration file**;\n",
    "4. launch wft4galaxy to execute the test."
   ]
  },
  {
   "cell_type": "markdown",
   "metadata": {},
   "source": [
    "As an example, we consider the workflow **change_case** whose files are in the folder `examples/change_case`:"
   ]
  },
  {
   "cell_type": "code",
   "execution_count": 1,
   "metadata": {
    "collapsed": false
   },
   "outputs": [
    {
     "name": "stdout",
     "output_type": "stream",
     "text": [
      "\u001b[0;0mexpected_output\u001b[0m    \u001b[0;0minput\u001b[0m              \u001b[0;0mworkflow-test.yml\u001b[0m  \u001b[0;0mworkflow.ga\u001b[0m\r\n"
     ]
    }
   ],
   "source": [
    "SUITE_FOLDER=\"../examples/change_case\"\n",
    "cd ${SUITE_FOLDER}\n",
    "ls"
   ]
  },
  {
   "cell_type": "markdown",
   "metadata": {},
   "source": [
    "## 1. Workflow preparation"
   ]
  },
  {
   "cell_type": "markdown",
   "metadata": {},
   "source": [
    "Consider the following simple workflow **''ChangeCase''** which simply changes (to upper) the case of an input text by using only one Galaxy text transformation tool: the *ChangeCase* tool."
   ]
  },
  {
   "cell_type": "markdown",
   "metadata": {},
   "source": [
    "<center>![wf-changecase-workflow](../images/ChangeCaseWorkflow.png \"Workflow ChangeCase\")</center>\n",
    "<center>**Figure 1.** Workflow *\"ChangeCase\"*</center>"
   ]
  },
  {
   "cell_type": "markdown",
   "metadata": {},
   "source": [
    "As Fig. 1 shows, the workflow has one input and one output. To test it, both the input and the output must be uniquely identified. Typically, Galaxy identifies them using **Names** and **Labels**, respectively.  For our sample workflow, the identifiers are:\n",
    "\n",
    "* Name **\"InputText\"** for the input (Fig. 2);\n",
    "* Label **\"OutputText\"** for the output (Fig. 3)."
   ]
  },
  {
   "cell_type": "markdown",
   "metadata": {},
   "source": [
    "<div>\n",
    "<div style=\"display: inline-block; width: 50%; margin: 0 auto;\">\n",
    "<center>![wf-changecase-inputdataset](../images/ChangeCaseInputDataset.png \"Workflow “Input Dataset“\")</center>\n",
    "<center>**Figure 2.** Workflow input: *\"Input Dataset\"*</center>\n",
    "</div>\n",
    "<div style=\"display: inline-block\">\n",
    "<center>![wf-changecase-outputdataset](../images/ChangeCaseOutputDataset.png \"Workflow “Output Dataset“\")</center>\n",
    "<center>**Figure 3.** Workflow output: *\"output1\"*</center>\n",
    "</div>\n",
    "</div>"
   ]
  },
  {
   "cell_type": "markdown",
   "metadata": {},
   "source": [
    "Satisfied that both input and outputs are uniquely identified, we can download the Galaxy workflow definition, i.e., the **.ga** file. To obtain the .ga file you have to select your workflow from the *Workflows* menu of the Galaxy web interface, click *Share or Download* and finally click the button *Download*.\n",
    "\n",
    "<!-- Future work:  In principle, we could support downloading the .ga file on-the-fly within our wft4galaxy tool -->"
   ]
  },
  {
   "cell_type": "markdown",
   "metadata": {},
   "source": [
    "## 2. Choose inputs and expected outputs"
   ]
  },
  {
   "cell_type": "markdown",
   "metadata": {},
   "source": [
    "As input for this workflow, we can use any text file (e.g., `examples/change_case/input.txt`) and, as expected output, a file containing the same text but in upper case (e.g., `examples/change_case/expected_output.txt`)."
   ]
  },
  {
   "cell_type": "markdown",
   "metadata": {},
   "source": [
    "## 3. Define the workflow test"
   ]
  },
  {
   "cell_type": "markdown",
   "metadata": {},
   "source": [
    "The code below defines a simple test for our sample workflow.  It's in the file `workflows-test.yml`:"
   ]
  },
  {
   "cell_type": "markdown",
   "metadata": {},
   "source": [
    "```yaml\n",
    "workflows:\n",
    "  # workflow test \"change case\"\n",
    "  change_case:\n",
    "    file: \"change_case/workflow.ga\"\n",
    "    inputs:\n",
    "      \"Input Dataset\": \"change_case/input\"\n",
    "    expected:\n",
    "      output1: \"change_case/expected_output_1\"\n",
    "```"
   ]
  },
  {
   "cell_type": "markdown",
   "metadata": {},
   "source": [
    "See the Section \"Test Definition File\" of the documentation for more details about the legal test definition syntax."
   ]
  },
  {
   "cell_type": "markdown",
   "metadata": {},
   "source": [
    "## 4. Execute the defined test"
   ]
  },
  {
   "cell_type": "markdown",
   "metadata": {},
   "source": [
    "The only mandatory argument to run the test is the definition file, which can be specified using the option `-f | --file`:"
   ]
  },
  {
   "cell_type": "code",
   "execution_count": 5,
   "metadata": {
    "collapsed": false,
    "scrolled": true
   },
   "outputs": [
    {
     "name": "stdout",
     "output_type": "stream",
     "text": [
      "2016-11-09 16:57:55,282 INFO: Configuration: {'galaxy_url': None, 'enable_logger': True, 'galaxy_api_key': None, 'enable_debug': False, 'disable_cleanup': False, 'output_folder': 'results', 'workflows': {'change_case': WorkflowTestConfig: name=change_case, file=workflow.ga, inputs=[InputText], expected_outputs=[OutputText]}, 'disable_assertions': False, 'logger_level': 20}\r\n",
      "Workflow Test: 'change_case' ... ERROR\r\n",
      "\r\n",
      "======================================================================\r\n",
      "ERROR: Workflow Test: 'change_case'\r\n",
      "----------------------------------------------------------------------\r\n",
      "Traceback (most recent call last):\r\n",
      "  File \"build/bdist.linux-x86_64/egg/wft4galaxy.py\", line 1087, in run_test\r\n",
      "    workflow = self.get_galaxy_workflow()\r\n",
      "  File \"build/bdist.linux-x86_64/egg/wft4galaxy.py\", line 1063, in get_galaxy_workflow\r\n",
      "    self._galaxy_workflow = self._workflow_loader.load_workflow(self._workflow_test_config)\r\n",
      "  File \"build/bdist.linux-x86_64/egg/wft4galaxy.py\", line 670, in load_workflow\r\n",
      "    return self.load_workflow_by_filename(workflow_filename, workflow_name)\r\n",
      "  File \"build/bdist.linux-x86_64/egg/wft4galaxy.py\", line 688, in load_workflow_by_filename\r\n",
      "    wf_info = self._galaxy_workflow_client.import_workflow_json(wf_json)\r\n",
      "  File \"/usr/lib/python2.7/site-packages/bioblend-0.8.0-py2.7.egg/bioblend/galaxy/workflows/__init__.py\", line 104, in import_workflow_json\r\n",
      "    return Client._post(self, url=url, payload=payload)\r\n",
      "  File \"/usr/lib/python2.7/site-packages/bioblend-0.8.0-py2.7.egg/bioblend/galaxy/client.py\", line 157, in _post\r\n",
      "    files_attached=files_attached)\r\n",
      "  File \"/usr/lib/python2.7/site-packages/bioblend-0.8.0-py2.7.egg/bioblend/galaxyclient.py\", line 125, in make_post_request\r\n",
      "    verify=self.verify, params=post_params)\r\n",
      "  File \"/usr/lib/python2.7/site-packages/requests-2.11.1-py2.7.egg/requests/api.py\", line 110, in post\r\n",
      "    return request('post', url, data=data, json=json, **kwargs)\r\n",
      "  File \"/usr/lib/python2.7/site-packages/requests-2.11.1-py2.7.egg/requests/api.py\", line 56, in request\r\n",
      "    return session.request(method=method, url=url, **kwargs)\r\n",
      "  File \"/usr/lib/python2.7/site-packages/requests-2.11.1-py2.7.egg/requests/sessions.py\", line 475, in request\r\n",
      "    resp = self.send(prep, **send_kwargs)\r\n",
      "  File \"/usr/lib/python2.7/site-packages/requests-2.11.1-py2.7.egg/requests/sessions.py\", line 596, in send\r\n",
      "    r = adapter.send(request, **kwargs)\r\n",
      "  File \"/usr/lib/python2.7/site-packages/requests-2.11.1-py2.7.egg/requests/adapters.py\", line 487, in send\r\n",
      "    raise ConnectionError(e, request=request)\r\n",
      "ConnectionError: HTTPConnectionPool(host='--api-key', port=80): Max retries exceeded with url: /api/workflows/upload (Caused by NewConnectionError('<requests.packages.urllib3.connection.HTTPConnection object at 0x7f51aea8d5d0>: Failed to establish a new connection: [Errno -2] Name does not resolve',))\r\n",
      "\r\n",
      "----------------------------------------------------------------------\r\n",
      "Ran 1 test in 0.026s\r\n",
      "\r\n",
      "FAILED (errors=1)\r\n",
      "<wft4galaxy.WorkflowTestSuite instance at 0x7f51aead8a28>\r\n"
     ]
    }
   ],
   "source": [
    "wft4galaxy -f \"workflow-test.yml\" --server http://localhost:30700 --api-key pippo"
   ]
  }
 ],
 "metadata": {
  "kernelspec": {
   "display_name": "Bash",
   "language": "bash",
   "name": "bash"
  },
  "language_info": {
   "codemirror_mode": "shell",
   "file_extension": ".sh",
   "mimetype": "text/x-sh",
   "name": "bash"
  }
 },
 "nbformat": 4,
 "nbformat_minor": 1
}
