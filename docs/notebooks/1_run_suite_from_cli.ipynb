{
 "cells": [
  {
   "cell_type": "markdown",
   "metadata": {},
   "source": [
    "# Run test suite from CLI"
   ]
  },
  {
   "cell_type": "markdown",
   "metadata": {},
   "source": [
    "This first example shows how to configure a **wft4galaxy** workflow test for Galaxy."
   ]
  },
  {
   "cell_type": "markdown",
   "metadata": {},
   "source": [
    "Main steps:\n",
    "\n",
    "1. prepare the Galaxy workflow to test by doing a consistency checking and download its **.ga** file;\n",
    "2. choose its **input datasets** and define which are its **expected outputs**;\n",
    "3. write a workflow test **configuration file**;\n",
    "4. launch wft4galaxy to execute the test."
   ]
  },
  {
   "cell_type": "markdown",
   "metadata": {},
   "source": [
    "As example,we consider the workflow **change_case** whose main files are within the folder `examples/change_case`:"
   ]
  },
  {
   "cell_type": "code",
   "execution_count": null,
   "metadata": {
    "collapsed": false
   },
   "outputs": [],
   "source": [
    "SUITE_FOLDER=\"../examples\"\n",
    "cd ${SUITE_FOLDER}\n",
    "ls"
   ]
  },
  {
   "cell_type": "markdown",
   "metadata": {},
   "source": [
    "## 1. Workflow preparation"
   ]
  },
  {
   "cell_type": "markdown",
   "metadata": {},
   "source": [
    "Consider the following simple workflow **''ChangeCase''** which simply changes (to upper) the case of an input text by using only one Galaxy text transformation tool, i.e., the *ChangeCase* tool."
   ]
  },
  {
   "cell_type": "markdown",
   "metadata": {},
   "source": [
    "<center>![wf-changecase-workflow](../images/ChangeCaseWorkflow.png \"Workflow ChangeCase\")</center>\n",
    "<center>**Figure 1.** Workflow *\"ChangeCase\"*</center>"
   ]
  },
  {
   "cell_type": "markdown",
   "metadata": {},
   "source": [
    "As the fig.1 shows, the workflow has one input and one output. In order to test it the both of them must be uniquely identified. Tipically, Galaxy identifies them using labels:\n",
    "\n",
    "* **\"Input Dataset\"** for the input (fig.2);\n",
    "* **\"output1\"** for the output (fig.3)."
   ]
  },
  {
   "cell_type": "markdown",
   "metadata": {},
   "source": [
    "<div>\n",
    "<div style=\"display: inline-block; width: 50%; margin: 0 auto;\">\n",
    "<center>![wf-changecase-inputdataset](../images/ChangeCaseInputDataset.png \"Workflow “Input Dataset“\")</center>\n",
    "<center>**Figure 2.** Workflow input: *\"Input Dataset\"*</center>\n",
    "</div>\n",
    "<div style=\"display: inline-block\">\n",
    "<center>![wf-changecase-outputdataset](../images/ChangeCaseOutputDataset.png \"Workflow “Output Dataset“\")</center>\n",
    "<center>**Figure 3.** Workflow output: *\"output1\"*</center>\n",
    "</div>\n",
    "</div>"
   ]
  },
  {
   "cell_type": "markdown",
   "metadata": {},
   "source": [
    "Satisfied that both input and outputs are uniquely identified, we can download the Galaxy workflow definition, i.e., the **.ga** file. To obtain the .ga file you have to select the workflow you are interested in from the *Workflows* menu of the Galaxy web interface and then click *Share or Download* and finally click the button *Download*.\n",
    "\n",
    "> In principle, we could support another scenario in which you do not need to do the boring step of downloading the .ga file. In the next version of our tool will allow users to simply specify which the workflow that they want to test without requiring any explicit download for them."
   ]
  },
  {
   "cell_type": "markdown",
   "metadata": {},
   "source": [
    "## 2. Choose inputs and expected outputs"
   ]
  },
  {
   "cell_type": "markdown",
   "metadata": {},
   "source": [
    "As workflow input, we can use any text file (e.g., `examples/change_case/input.txt`) and, as expected output, a file containing the same text of the former but in upper case (e.g., `examples/change_case/expected_output.txt`)."
   ]
  },
  {
   "cell_type": "code",
   "execution_count": null,
   "metadata": {
    "collapsed": false
   },
   "outputs": [],
   "source": [
    "ls"
   ]
  },
  {
   "cell_type": "markdown",
   "metadata": {},
   "source": [
    "## 3. Define the workflow test configuration"
   ]
  },
  {
   "cell_type": "markdown",
   "metadata": {},
   "source": [
    "The code below shows a very simple example of workflow test configuration file (i.e., `workflows-test.yml`):"
   ]
  },
  {
   "cell_type": "markdown",
   "metadata": {},
   "source": [
    "```yaml\n",
    "workflows:\n",
    "  # workflow test \"change case\"\n",
    "  change_case:\n",
    "    file: \"change_case/workflow.ga\"\n",
    "    inputs:\n",
    "      \"Input Dataset\": \"change_case/input\"\n",
    "    expected:\n",
    "      output1: \"change_case/expected_output_1\"\n",
    "```"
   ]
  },
  {
   "cell_type": "markdown",
   "metadata": {},
   "source": [
    "See [config-file](../config-file.html) for more details about the legal syntax of the configuration file. # FIXME: switch the right link"
   ]
  },
  {
   "cell_type": "markdown",
   "metadata": {},
   "source": [
    "## 4. Execute the configured test"
   ]
  },
  {
   "cell_type": "markdown",
   "metadata": {},
   "source": [
    "The only mandatory parameter to run the test is the configuration file, which can be specified using the option `-f | --file` of the `wft4galaxy` script:"
   ]
  },
  {
   "cell_type": "code",
   "execution_count": null,
   "metadata": {
    "collapsed": false
   },
   "outputs": [],
   "source": [
    "wft4galaxy -f \"workflows.yml\" -o results --debug"
   ]
  }
 ],
 "metadata": {
  "kernelspec": {
   "display_name": "Bash",
   "language": "bash",
   "name": "bash"
  },
  "language_info": {
   "codemirror_mode": "shell",
   "file_extension": ".sh",
   "mimetype": "text/x-sh",
   "name": "bash"
  }
 },
 "nbformat": 4,
 "nbformat_minor": 1
}
