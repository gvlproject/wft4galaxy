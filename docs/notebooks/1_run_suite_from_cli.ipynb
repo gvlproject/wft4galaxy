{
 "cells": [
  {
   "cell_type": "markdown",
   "metadata": {},
   "source": [
    "# Run test suite from CLI"
   ]
  },
  {
   "cell_type": "markdown",
   "metadata": {},
   "source": [
    "This first example shows how to configure a **wft4galaxy** workflow test for Galaxy."
   ]
  },
  {
   "cell_type": "markdown",
   "metadata": {},
   "source": [
    "Main steps:\n",
    "\n",
    "1. prepare the Galaxy workflow to test by doing a consistency checking and download its **.ga** file;\n",
    "2. choose its **input datasets** and define which are its **expected outputs**;\n",
    "3. write a workflow test **configuration file**;\n",
    "4. launch wft4galaxy to execute the test."
   ]
  },
  {
   "cell_type": "markdown",
   "metadata": {},
   "source": [
    "As example,we consider the workflow **change_case** whose main files are within the folder `examples/change_case`:"
   ]
  },
  {
   "cell_type": "code",
   "execution_count": 2,
   "metadata": {
    "collapsed": false
   },
   "outputs": [
    {
     "name": "stdout",
     "output_type": "stream",
     "text": [
      "change_case\t\t\tworkflow-test-suite-full.yml\r\n",
      "multivariate\t\t\tworkflow-test-suite-min.yml\r\n",
      "results\t\t\t\tworkflows.json\r\n",
      "sacurine\r\n"
     ]
    }
   ],
   "source": [
    "SUITE_FOLDER=\"../examples\"\n",
    "cd ${SUITE_FOLDER}\n",
    "ls"
   ]
  },
  {
   "cell_type": "markdown",
   "metadata": {},
   "source": [
    "## 1. Workflow preparation"
   ]
  },
  {
   "cell_type": "markdown",
   "metadata": {},
   "source": [
    "Consider the following simple workflow **''ChangeCase''** which simply changes (to upper) the case of an input text by using only one Galaxy text transformation tool, i.e., the *ChangeCase* tool."
   ]
  },
  {
   "cell_type": "markdown",
   "metadata": {},
   "source": [
    "<center>![wf-changecase-workflow](../images/ChangeCaseWorkflow.png \"Workflow ChangeCase\")</center>\n",
    "<center>**Figure 1.** Workflow *\"ChangeCase\"*</center>"
   ]
  },
  {
   "cell_type": "markdown",
   "metadata": {},
   "source": [
    "As the fig.1 shows, the workflow has one input and one output. In order to test it the both of them must be uniquely identified. Tipically, Galaxy identifies them using labels:\n",
    "\n",
    "* **\"Input Dataset\"** for the input (fig.2);\n",
    "* **\"output1\"** for the output (fig.3)."
   ]
  },
  {
   "cell_type": "markdown",
   "metadata": {},
   "source": [
    "<div>\n",
    "<div style=\"display: inline-block; width: 50%; margin: 0 auto;\">\n",
    "<center>![wf-changecase-inputdataset](../images/ChangeCaseInputDataset.png \"Workflow “Input Dataset“\")</center>\n",
    "<center>**Figure 2.** Workflow input: *\"Input Dataset\"*</center>\n",
    "</div>\n",
    "<div style=\"display: inline-block\">\n",
    "<center>![wf-changecase-outputdataset](../images/ChangeCaseOutputDataset.png \"Workflow “Output Dataset“\")</center>\n",
    "<center>**Figure 3.** Workflow output: *\"output1\"*</center>\n",
    "</div>\n",
    "</div>"
   ]
  },
  {
   "cell_type": "markdown",
   "metadata": {},
   "source": [
    "Satisfied that both input and outputs are uniquely identified, we can download the Galaxy workflow definition, i.e., the **.ga** file. To obtain the .ga file you have to select the workflow you are interested in from the *Workflows* menu of the Galaxy web interface and then click *Share or Download* and finally click the button *Download*.\n",
    "\n",
    "> In principle, we could support another scenario in which you do not need to do the boring step of downloading the .ga file. In the next version of our tool will allow users to simply specify which the workflow that they want to test without requiring any explicit download for them."
   ]
  },
  {
   "cell_type": "markdown",
   "metadata": {},
   "source": [
    "## 2. Choose inputs and expected outputs"
   ]
  },
  {
   "cell_type": "markdown",
   "metadata": {},
   "source": [
    "As workflow input, we can use any text file (e.g., `examples/change_case/input.txt`) and, as expected output, a file containing the same text of the former but in upper case (e.g., `examples/change_case/expected_output.txt`)."
   ]
  },
  {
   "cell_type": "code",
   "execution_count": null,
   "metadata": {
    "collapsed": false
   },
   "outputs": [],
   "source": [
    "ls"
   ]
  },
  {
   "cell_type": "markdown",
   "metadata": {},
   "source": [
    "## 3. Define the workflow test configuration"
   ]
  },
  {
   "cell_type": "markdown",
   "metadata": {},
   "source": [
    "The code below shows a very simple example of workflow test configuration file (i.e., `workflows-test.yml`):"
   ]
  },
  {
   "cell_type": "markdown",
   "metadata": {},
   "source": [
    "```yaml\n",
    "workflows:\n",
    "  # workflow test \"change case\"\n",
    "  change_case:\n",
    "    file: \"change_case/workflow.ga\"\n",
    "    inputs:\n",
    "      \"Input Dataset\": \"change_case/input\"\n",
    "    expected:\n",
    "      output1: \"change_case/expected_output_1\"\n",
    "```"
   ]
  },
  {
   "cell_type": "markdown",
   "metadata": {},
   "source": [
    "See [config-file](../config-file.html) for more details about the legal syntax of the configuration file. # FIXME: switch the right link"
   ]
  },
  {
   "cell_type": "markdown",
   "metadata": {},
   "source": [
    "## 4. Execute the configured test"
   ]
  },
  {
   "cell_type": "markdown",
   "metadata": {},
   "source": [
    "The only mandatory parameter to run the test is the configuration file, which can be specified using the option `-f | --file` of the `wft4galaxy` script:"
   ]
  },
  {
   "cell_type": "code",
   "execution_count": 3,
   "metadata": {
    "collapsed": false
   },
   "outputs": [
    {
     "name": "stdout",
     "output_type": "stream",
     "text": [
      "2016-11-09 07:17:16,336 INFO: Configuration: {'galaxy_url': None, 'enable_logger': False, 'galaxy_api_key': None, 'enable_debug': True, 'disable_cleanup': False, 'output_folder': 'results', 'workflows': {'change_case': WorkflowTestConfig: name=change_case, file=change_case/workflow.ga, inputs=[InputText], expected_outputs=[OutputText], 'multivariate': WorkflowTestConfig: name=multivariate, file=multivariate/workflow.ga, inputs=[DataMatrix,SampleMetadata,VariableMetadata], expected_outputs=[variableMetadata_out,sampleMetadata_out]}, 'disable_assertions': False, 'logger_level': 10}\r\n",
      "2016-11-09 07:17:16,336 DEBUG: Creating a new WorflowLoader instance...\r\n",
      "Workflow Test: 'change_case' ... 2016-11-09 07:17:16,791 DEBUG: Using default params\r\n",
      "2016-11-09 07:17:16,807 DEBUG: Checking required tools ...\r\n",
      "2016-11-09 07:17:16,863 DEBUG: Missing tools: None\r\n",
      "2016-11-09 07:17:16,863 DEBUG: Checking required tools: DONE\r\n",
      "2016-11-09 07:17:17,201 INFO: Create a history '_WorkflowTestHistory_29a30f23-a644-11e6-975d-a8667f33b7fc' (id: u'500665cb113baad6')\r\n",
      "2016-11-09 07:17:18,403 INFO: Workflow '_WorkflowTest_Change Case (imported from API)' (id: 500665cb113baad6) running ...\r\n",
      "2016-11-09 07:17:31,223 INFO: Workflow '_WorkflowTest_Change Case (imported from API)' (id: 500665cb113baad6) executed\r\n",
      "2016-11-09 07:17:31,223 INFO: Checking test output: ...\r\n",
      "2016-11-09 07:17:31,223 DEBUG: Checking OUTPUT 'OutputText' ...\r\n",
      "2016-11-09 07:17:31,322 DEBUG: Downloaded output OutputText: dataset_id '8c59bbd49fe7aae1', filename 'results/change_case/OutputText'\r\n",
      "2016-11-09 07:17:31,322 DEBUG: Configured comparator function: None\r\n",
      "2016-11-09 07:17:31,322 DEBUG: Using default comparator....\r\n",
      "2016-11-09 07:17:31,339 DEBUG: Output 'OutputText' is equal to the expected: dataset '8c59bbd49fe7aae1', actual-output 'results/change_case/OutputText', expected-output '/Users/kikkomep/CloudDrives/Dropbox/Work/Crs4/Projects/PhenoMeNal/Repositories/WorkflowTester/examples/change_case/expected_output'\r\n",
      "2016-11-09 07:17:31,339 DEBUG: Checking OUTPUT 'OutputText': DONE\r\n",
      "2016-11-09 07:17:31,339 INFO: Checking test output: DONE\r\n",
      "2016-11-09 07:17:31,339 DEBUG: Cleanup of workflow test '29a30f23-a644-11e6-975d-a8667f33b7fc'...\r\n",
      "2016-11-09 07:17:31,626 DEBUG: Cleaning output folder: OutputText\r\n",
      "2016-11-09 07:17:31,628 DEBUG: Deleted output file 'results/change_case/OutputText'.\r\n",
      "2016-11-09 07:17:31,774 DEBUG: Cleanup of workflow test '29a30f23-a644-11e6-975d-a8667f33b7fc': DONE\r\n",
      "ok\r\n",
      "Workflow Test: 'multivariate' ... 2016-11-09 07:17:32,089 DEBUG: Using default params\r\n",
      "2016-11-09 07:17:32,089 DEBUG: Checking required tools ...\r\n",
      "2016-11-09 07:17:32,131 DEBUG: Missing tools: None\r\n",
      "2016-11-09 07:17:32,131 DEBUG: Checking required tools: DONE\r\n",
      "2016-11-09 07:17:32,425 INFO: Create a history '_WorkflowTestHistory_32c15899-a644-11e6-8366-a8667f33b7fc' (id: u'a0c15f4d91084599')\r\n",
      "2016-11-09 07:17:46,988 INFO: Workflow '_WorkflowTest_Multivariate (imported from API)' (id: a0c15f4d91084599) running ...\r\n",
      "2016-11-09 07:18:14,278 INFO: Workflow '_WorkflowTest_Multivariate (imported from API)' (id: a0c15f4d91084599) executed\r\n",
      "2016-11-09 07:18:14,278 INFO: Checking test output: ...\r\n",
      "2016-11-09 07:18:14,278 DEBUG: Checking OUTPUT 'variableMetadata_out' ...\r\n",
      "2016-11-09 07:18:14,335 DEBUG: Downloaded output variableMetadata_out: dataset_id '2992db8cf1d3093e', filename 'results/multivariate/variableMetadata_out'\r\n",
      "2016-11-09 07:18:14,335 DEBUG: Configured comparator function: None\r\n",
      "2016-11-09 07:18:14,335 DEBUG: Using default comparator....\r\n",
      "2016-11-09 07:18:14,337 DEBUG: Output 'variableMetadata_out' is equal to the expected: dataset '2992db8cf1d3093e', actual-output 'results/multivariate/variableMetadata_out', expected-output '/Users/kikkomep/CloudDrives/Dropbox/Work/Crs4/Projects/PhenoMeNal/Repositories/WorkflowTester/examples/multivariate/variableMetadata_out'\r\n",
      "2016-11-09 07:18:14,337 DEBUG: Checking OUTPUT 'variableMetadata_out': DONE\r\n",
      "2016-11-09 07:18:14,337 DEBUG: Checking OUTPUT 'sampleMetadata_out' ...\r\n",
      "2016-11-09 07:18:14,398 DEBUG: Downloaded output sampleMetadata_out: dataset_id '13120e62d0fbb985', filename 'results/multivariate/sampleMetadata_out'\r\n",
      "2016-11-09 07:18:14,398 DEBUG: Configured comparator function: None\r\n",
      "2016-11-09 07:18:14,398 DEBUG: Using default comparator....\r\n",
      "2016-11-09 07:18:14,400 DEBUG: Output 'sampleMetadata_out' is equal to the expected: dataset '13120e62d0fbb985', actual-output 'results/multivariate/sampleMetadata_out', expected-output '/Users/kikkomep/CloudDrives/Dropbox/Work/Crs4/Projects/PhenoMeNal/Repositories/WorkflowTester/examples/multivariate/sampleMetadata_out'\r\n",
      "2016-11-09 07:18:14,400 DEBUG: Checking OUTPUT 'sampleMetadata_out': DONE\r\n",
      "2016-11-09 07:18:14,400 INFO: Checking test output: DONE\r\n",
      "2016-11-09 07:18:14,400 DEBUG: Cleanup of workflow test '32c15899-a644-11e6-8366-a8667f33b7fc'...\r\n",
      "2016-11-09 07:18:14,662 DEBUG: Cleaning output folder: variableMetadata_out\r\n",
      "2016-11-09 07:18:14,662 DEBUG: Deleted output file 'results/multivariate/variableMetadata_out'.\r\n",
      "2016-11-09 07:18:14,662 DEBUG: Cleaning output folder: sampleMetadata_out\r\n",
      "2016-11-09 07:18:14,662 DEBUG: Deleted output file 'results/multivariate/sampleMetadata_out'.\r\n",
      "2016-11-09 07:18:14,913 DEBUG: Cleanup of workflow test '32c15899-a644-11e6-8366-a8667f33b7fc': DONE\r\n",
      "ok\r\n",
      "\r\n",
      "----------------------------------------------------------------------\r\n",
      "Ran 2 tests in 58.579s\r\n",
      "\r\n",
      "OK\r\n",
      "2016-11-09 07:18:14,917 DEBUG: Cleanup of workflow test '29a30f23-a644-11e6-975d-a8667f33b7fc'...\r\n",
      "2016-11-09 07:18:15,423 DEBUG: Cleaning output folder: OutputText\r\n",
      "2016-11-09 07:18:15,426 DEBUG: Deleted output file 'results/change_case/OutputText'.\r\n",
      "2016-11-09 07:18:15,426 DEBUG: Cleanup of workflow test '29a30f23-a644-11e6-975d-a8667f33b7fc': DONE\r\n",
      "2016-11-09 07:18:15,426 DEBUG: Cleanup of workflow test '32c15899-a644-11e6-8366-a8667f33b7fc'...\r\n",
      "2016-11-09 07:18:15,734 DEBUG: Cleaning output folder: variableMetadata_out\r\n",
      "2016-11-09 07:18:15,734 DEBUG: Cleaning output folder: sampleMetadata_out\r\n",
      "2016-11-09 07:18:15,734 DEBUG: Cleanup of workflow test '32c15899-a644-11e6-8366-a8667f33b7fc': DONE\r\n"
     ]
    }
   ],
   "source": [
    "wft4galaxy -f \"workflow-test-suite-min.yml\" -o results --debug"
   ]
  }
 ],
 "metadata": {
  "kernelspec": {
   "display_name": "Bash",
   "language": "bash",
   "name": "bash"
  },
  "language_info": {
   "codemirror_mode": "shell",
   "file_extension": ".sh",
   "mimetype": "text/x-sh",
   "name": "bash"
  }
 },
 "nbformat": 4,
 "nbformat_minor": 1
}
