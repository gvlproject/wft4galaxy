{
 "cells": [
  {
   "cell_type": "markdown",
   "metadata": {},
   "source": [
    "# Run test suite from CLI"
   ]
  },
  {
   "cell_type": "markdown",
   "metadata": {},
   "source": [
    "This first example shows how to configure a **wft4galaxy** workflow test for Galaxy."
   ]
  },
  {
   "cell_type": "markdown",
   "metadata": {},
   "source": [
    "Main steps:\n",
    "\n",
    "1. prepare the Galaxy workflow to test by doing a consistency checking and download its **.ga** file;\n",
    "2. choose its **input datasets** and define which are its **expected outputs**;\n",
    "3. write a workflow test **configuration file**;\n",
    "4. launch wft4galaxy to execute the test."
   ]
  },
  {
   "cell_type": "markdown",
   "metadata": {},
   "source": [
    "As example,we consider the workflow **change_case** whose main files are within the folder `examples/change_case`:"
   ]
  },
  {
   "cell_type": "code",
   "execution_count": 1,
   "metadata": {
    "collapsed": false
   },
   "outputs": [
    {
     "name": "stdout",
     "output_type": "stream",
     "text": []
    }
   ],
   "source": [
    "EXAMPLES_FOLDER=\"../examples\""
   ]
  },
  {
   "cell_type": "code",
   "execution_count": 2,
   "metadata": {
    "collapsed": false
   },
   "outputs": [
    {
     "name": "stdout",
     "output_type": "stream",
     "text": []
    }
   ],
   "source": [
    "CHANGE_CASE_FOLDER=\"${EXAMPLES_FOLDER}/change_case\""
   ]
  },
  {
   "cell_type": "code",
   "execution_count": 3,
   "metadata": {
    "collapsed": false
   },
   "outputs": [
    {
     "name": "stdout",
     "output_type": "stream",
     "text": []
    }
   ],
   "source": [
    "cd ${CHANGE_CASE_FOLDER}"
   ]
  },
  {
   "cell_type": "code",
   "execution_count": 4,
   "metadata": {
    "collapsed": false
   },
   "outputs": [
    {
     "name": "stdout",
     "output_type": "stream",
     "text": [
      "ChangeCaseInputDataset.png\tinput\r\n",
      "ChangeCaseOutputDataset.png\tpluto\r\n",
      "ChangeCaseWorkflow.png\t\tresults\r\n",
      "expected_output_1\t\tworkflow.ga\r\n",
      "expected_output_2\t\tworkflows.yml\r\n"
     ]
    }
   ],
   "source": [
    "ls"
   ]
  },
  {
   "cell_type": "markdown",
   "metadata": {},
   "source": [
    "## 1. Workflow preparation"
   ]
  },
  {
   "cell_type": "markdown",
   "metadata": {},
   "source": [
    "Consider the following simple workflow **''ChangeCase''** which simply changes (to upper) the case of an input text by using only one Galaxy text transformation tool, i.e., the *ChangeCase* tool."
   ]
  },
  {
   "cell_type": "markdown",
   "metadata": {},
   "source": [
    "<center>![wf-changecase-workflow](../images/ChangeCaseWorkflow.png \"Workflow ChangeCase\")</center>\n",
    "<center>**Figure 1.** Workflow *\"ChangeCase\"*</center>"
   ]
  },
  {
   "cell_type": "markdown",
   "metadata": {},
   "source": [
    "As the fig.1 shows, the workflow has one input and one output. In order to test it the both of them must be uniquely identified. Tipically, Galaxy identifies them using labels:\n",
    "\n",
    "* **\"Input Dataset\"** for the input (fig.2);\n",
    "* **\"output1\"** for the output (fig.3)."
   ]
  },
  {
   "cell_type": "markdown",
   "metadata": {},
   "source": [
    "<div>\n",
    "<div style=\"display: inline-block; width: 50%; margin: 0 auto;\">\n",
    "<center>![wf-changecase-inputdataset](../images/ChangeCaseInputDataset.png \"Workflow “Input Dataset“\")</center>\n",
    "<center>**Figure 2.** Workflow input: *\"Input Dataset\"*</center>\n",
    "</div>\n",
    "<div style=\"display: inline-block\">\n",
    "<center>![wf-changecase-outputdataset](../images/ChangeCaseOutputDataset.png \"Workflow “Output Dataset“\")</center>\n",
    "<center>**Figure 3.** Workflow output: *\"output1\"*</center>\n",
    "</div>\n",
    "</div>"
   ]
  },
  {
   "cell_type": "markdown",
   "metadata": {},
   "source": [
    "Satisfied that both input and outputs are uniquely identified, we can download the Galaxy workflow definition, i.e., the **.ga** file. To obtain the .ga file you have to select the workflow you are interested in from the *Workflows* menu of the Galaxy web interface and then click *Share or Download* and finally click the button *Download*.\n",
    "\n",
    "> In principle, we could support another scenario in which you do not need to do the boring step of downloading the .ga file. In the next version of our tool will allow users to simply specify which the workflow that they want to test without requiring any explicit download for them."
   ]
  },
  {
   "cell_type": "markdown",
   "metadata": {},
   "source": [
    "## 2. Choose inputs and expected outputs"
   ]
  },
  {
   "cell_type": "markdown",
   "metadata": {},
   "source": [
    "As workflow input, we can use any text file (e.g., `examples/change_case/input.txt`) and, as expected output, a file containing the same text of the former but in upper case (e.g., `examples/change_case/expected_output.txt`)."
   ]
  },
  {
   "cell_type": "code",
   "execution_count": 6,
   "metadata": {
    "collapsed": false
   },
   "outputs": [
    {
     "name": "stdout",
     "output_type": "stream",
     "text": [
      "ChangeCaseInputDataset.png\tinput\r\n",
      "ChangeCaseOutputDataset.png\tpluto\r\n",
      "ChangeCaseWorkflow.png\t\tresults\r\n",
      "expected_output_1\t\tworkflow.ga\r\n",
      "expected_output_2\t\tworkflows.yml\r\n"
     ]
    }
   ],
   "source": [
    "ls"
   ]
  },
  {
   "cell_type": "markdown",
   "metadata": {},
   "source": [
    "## 3. Define the workflow test configuration"
   ]
  },
  {
   "cell_type": "markdown",
   "metadata": {},
   "source": [
    "The code below shows a very simple example of workflow test configuration file (i.e., `workflows-test.yml`):"
   ]
  },
  {
   "cell_type": "markdown",
   "metadata": {},
   "source": [
    "```yaml\n",
    "workflows:\n",
    "  # workflow test \"change case\"\n",
    "  change_case:\n",
    "    file: \"change_case/workflow.ga\"\n",
    "    inputs:\n",
    "      \"Input Dataset\": \"change_case/input\"\n",
    "    expected:\n",
    "      output1: \"change_case/expected_output_1\"\n",
    "```"
   ]
  },
  {
   "cell_type": "markdown",
   "metadata": {},
   "source": [
    "See [config-file](../config-file.html) for more details about the legal syntax of the configuration file. # FIXME: switch the right link"
   ]
  },
  {
   "cell_type": "markdown",
   "metadata": {},
   "source": [
    "## 4. Execute the configured test"
   ]
  },
  {
   "cell_type": "markdown",
   "metadata": {},
   "source": [
    "The only mandatory parameter to run the test is the configuration file, which can be specified using the option `-f | --file` of the `wft4galaxy` script:"
   ]
  },
  {
   "cell_type": "code",
   "execution_count": 7,
   "metadata": {
    "collapsed": false
   },
   "outputs": [
    {
     "name": "stdout",
     "output_type": "stream",
     "text": [
      "2016-11-09 05:42:30,436 INFO: Configuration: {'galaxy_url': None, 'enable_logger': True, 'galaxy_api_key': None, 'enable_debug': True, 'disable_cleanup': False, 'output_folder': 'results', 'workflows': {'change_case': WorkflowTestConfig: name=change_case, file=workflow.ga, inputs=[Input Dataset], expected_outputs=[output1]}, 'disable_assertions': False, 'logger_level': 10}\r\n",
      "2016-11-09 05:42:30,437 DEBUG: Creating a new WorflowLoader instance...\r\n",
      "Workflow Test: 'change_case' ... 2016-11-09 05:42:30,732 DEBUG: Using default params\r\n",
      "2016-11-09 05:42:30,744 DEBUG: Checking required tools ...\r\n",
      "2016-11-09 05:42:30,795 DEBUG: Missing tools: None\r\n",
      "2016-11-09 05:42:30,795 DEBUG: Checking required tools: DONE\r\n",
      "2016-11-09 05:42:31,229 INFO: Create a history '_WorkflowTestHistory_ec7b3fe8-a636-11e6-9e16-a8667f33b7fc' (id: u'b701da857886499b')\r\n",
      "2016-11-09 05:42:32,462 INFO: Workflow '_WorkflowTest_TestWorkflow (imported from API)' (id: 3cc0effd29705aa3) running ...\r\n",
      "2016-11-09 05:42:47,220 INFO: Workflow '_WorkflowTest_TestWorkflow (imported from API)' (id: 3cc0effd29705aa3) executed\r\n",
      "2016-11-09 05:42:47,221 INFO: Checking test output: ...\r\n",
      "2016-11-09 05:42:47,221 DEBUG: Checking OUTPUT 'output1' ...\r\n",
      "2016-11-09 05:42:47,308 DEBUG: Downloaded output output1: dataset_id '2db84b196cb92302', filename 'results/change_case/output1'\r\n",
      "2016-11-09 05:42:47,308 DEBUG: Configured comparator function: None\r\n",
      "2016-11-09 05:42:47,309 DEBUG: Using default comparator....\r\n",
      "2016-11-09 05:42:47,322 DEBUG: Output 'output1' is equal to the expected: dataset '2db84b196cb92302', actual-output 'results/change_case/output1', expected-output '/Users/kikkomep/CloudDrives/Dropbox/Work/Crs4/Projects/PhenoMeNal/Repositories/WorkflowTester/examples/change_case/expected_output_1'\r\n",
      "2016-11-09 05:42:47,323 DEBUG: Checking OUTPUT 'output1': DONE\r\n",
      "2016-11-09 05:42:47,323 INFO: Checking test output: DONE\r\n",
      "2016-11-09 05:42:47,323 DEBUG: Cleanup of workflow test 'ec7b3fe8-a636-11e6-9e16-a8667f33b7fc'...\r\n",
      "2016-11-09 05:42:47,631 DEBUG: Cleaning output folder: output1\r\n",
      "2016-11-09 05:42:47,632 DEBUG: Deleted output file 'results/change_case/output1'.\r\n",
      "2016-11-09 05:42:47,788 DEBUG: Cleanup of workflow test 'ec7b3fe8-a636-11e6-9e16-a8667f33b7fc': DONE\r\n",
      "ok\r\n",
      "\r\n",
      "----------------------------------------------------------------------\r\n",
      "Ran 1 test in 17.352s\r\n",
      "\r\n",
      "OK\r\n",
      "2016-11-09 05:42:47,788 DEBUG: Cleanup of workflow test 'ec7b3fe8-a636-11e6-9e16-a8667f33b7fc'...\r\n",
      "2016-11-09 05:42:47,889 DEBUG: Cleaning output folder: output1\r\n",
      "2016-11-09 05:42:47,889 DEBUG: Cleanup of workflow test 'ec7b3fe8-a636-11e6-9e16-a8667f33b7fc': DONE\r\n",
      "<wft4galaxy.WorkflowTestSuite instance at 0x10d2e79e0>\r\n"
     ]
    }
   ],
   "source": [
    "wft4galaxy -f \"workflows.yml\" -o results --debug"
   ]
  }
 ],
 "metadata": {
  "kernelspec": {
   "display_name": "Bash",
   "language": "bash",
   "name": "bash"
  },
  "language_info": {
   "codemirror_mode": "shell",
   "file_extension": ".sh",
   "mimetype": "text/x-sh",
   "name": "bash"
  }
 },
 "nbformat": 4,
 "nbformat_minor": 1
}
