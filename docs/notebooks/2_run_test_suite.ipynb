{
 "cells": [
  {
   "cell_type": "markdown",
   "metadata": {
    "deletable": true,
    "editable": true
   },
   "source": [
    "# Run a test suite programmatically"
   ]
  },
  {
   "cell_type": "markdown",
   "metadata": {
    "deletable": true,
    "editable": true
   },
   "source": [
    "See the folder *example*:"
   ]
  },
  {
   "cell_type": "code",
   "execution_count": 1,
   "metadata": {
    "collapsed": true,
    "deletable": true,
    "editable": true
   },
   "outputs": [],
   "source": [
    "EXAMPLES_FOLDER = \"../examples\""
   ]
  },
  {
   "cell_type": "markdown",
   "metadata": {
    "deletable": true,
    "editable": true
   },
   "source": [
    "... where you can find the following files:"
   ]
  },
  {
   "cell_type": "code",
   "execution_count": 2,
   "metadata": {
    "collapsed": false,
    "deletable": true,
    "editable": true
   },
   "outputs": [
    {
     "data": {
      "text/plain": [
       "['change_case',\n",
       " 'fluxomics_stationary',\n",
       " 'multivariate',\n",
       " 'sacurine',\n",
       " 'workflow-test-suite-full.yml',\n",
       " 'workflow-test-suite-min.yml',\n",
       " 'workflow-test-suite.yml',\n",
       " 'workflows.json']"
      ]
     },
     "execution_count": 2,
     "metadata": {},
     "output_type": "execute_result"
    }
   ],
   "source": [
    "import os, pprint\n",
    "[f for f in os.listdir(EXAMPLES_FOLDER) if not f.startswith('.')]"
   ]
  },
  {
   "cell_type": "markdown",
   "metadata": {
    "deletable": true,
    "editable": true
   },
   "source": [
    "To run a test suite you need test suite **definition file** (see [here](../test-definition-file.html) for more details) like ``workflow-test-suite-min.yml`` that you can find in ``EXAMPLES_FOLDER``:"
   ]
  },
  {
   "cell_type": "code",
   "execution_count": 3,
   "metadata": {
    "collapsed": false,
    "deletable": true,
    "editable": true
   },
   "outputs": [],
   "source": [
    "suite_conf_filename = os.path.join(EXAMPLES_FOLDER, \"workflow-test-suite-min.yml\")"
   ]
  },
  {
   "cell_type": "markdown",
   "metadata": {
    "deletable": true,
    "editable": true
   },
   "source": [
    "The content of the definition file is:"
   ]
  },
  {
   "cell_type": "code",
   "execution_count": 4,
   "metadata": {
    "collapsed": false,
    "deletable": true,
    "editable": true
   },
   "outputs": [
    {
     "name": "stdout",
     "output_type": "stream",
     "text": [
      "{\n",
      "    \"enable_logger\": false, \n",
      "    \"workflows\": {\n",
      "        \"change_case\": {\n",
      "            \"expected\": {\n",
      "                \"OutputText\": \"change_case/expected_output\"\n",
      "            }, \n",
      "            \"inputs\": {\n",
      "                \"InputText\": \"change_case/input\"\n",
      "            }, \n",
      "            \"file\": \"change_case/workflow.ga\"\n",
      "        }, \n",
      "        \"multivariate\": {\n",
      "            \"expected\": {\n",
      "                \"variableMetadata_out\": \"multivariate/variableMetadata_out\", \n",
      "                \"sampleMetadata_out\": \"multivariate/sampleMetadata_out\"\n",
      "            }, \n",
      "            \"inputs\": {\n",
      "                \"DataMatrix\": \"multivariate/dataMatrix.tsv\", \n",
      "                \"SampleMetadata\": \"multivariate/sampleMetadata.tsv\", \n",
      "                \"VariableMetadata\": \"multivariate/variableMetadata.tsv\"\n",
      "            }, \n",
      "            \"params\": {\n",
      "                \"3\": {\n",
      "                    \"predI\": \"1\", \n",
      "                    \"respC\": \"gender\", \n",
      "                    \"orthoI\": \"NA\", \n",
      "                    \"testL\": \"FALSE\"\n",
      "                }\n",
      "            }, \n",
      "            \"file\": \"multivariate/workflow.ga\"\n",
      "        }\n",
      "    }\n",
      "}\n"
     ]
    }
   ],
   "source": [
    "import yaml, json\n",
    "with open(suite_conf_filename, \"r\") as fp:\n",
    "    data = yaml.load(fp)\n",
    "    print(json.dumps(data, indent=4))"
   ]
  },
  {
   "cell_type": "markdown",
   "metadata": {
    "deletable": true,
    "editable": true
   },
   "source": [
    "To run a test suite programmatically, you need an instance of ``wft4galaxy.core.WorkflowTestSuite`` which mantains the configuration of the whole test suite. You can directly instantiate that starting from the test definition file above (cell [4]) by means of the class function ``load`` (steps [5-6]):"
   ]
  },
  {
   "cell_type": "code",
   "execution_count": 5,
   "metadata": {
    "collapsed": false,
    "deletable": true,
    "editable": true
   },
   "outputs": [],
   "source": [
    "from wft4galaxy.core import WorkflowTestSuite"
   ]
  },
  {
   "cell_type": "code",
   "execution_count": 6,
   "metadata": {
    "collapsed": true,
    "deletable": true,
    "editable": true
   },
   "outputs": [],
   "source": [
    "suite = WorkflowTestSuite.load(suite_conf_filename)"
   ]
  },
  {
   "cell_type": "markdown",
   "metadata": {
    "deletable": true,
    "editable": true
   },
   "source": [
    "The property ``workflows_test`` of the suite configuration object contains a dictionary which maps the name of the workflow test to its configuration (step [7]). Notice that the configuration of a workflow test is wrapped by a ``wft4galaxy.core.WorkflowTestCase`` instance (step[8]). "
   ]
  },
  {
   "cell_type": "code",
   "execution_count": 7,
   "metadata": {
    "collapsed": false,
    "deletable": true,
    "editable": true
   },
   "outputs": [
    {
     "name": "stdout",
     "output_type": "stream",
     "text": [
      "change_case ==> WorkflowTestConfig: name=change_case, file=change_case/workflow.ga, inputs=[InputText], expected_outputs=[OutputText]\n",
      "\n",
      "multivariate ==> WorkflowTestConfig: name=multivariate, file=multivariate/workflow.ga, inputs=[DataMatrix,SampleMetadata,VariableMetadata], expected_outputs=[variableMetadata_out,sampleMetadata_out]\n",
      "\n"
     ]
    }
   ],
   "source": [
    "for wft_name, wft_config in suite.workflow_tests.items():\n",
    "    print(\"{0} ==> {1}\\n\".format(wft_name, wft_config))"
   ]
  },
  {
   "cell_type": "markdown",
   "metadata": {
    "deletable": true,
    "editable": true
   },
   "source": [
    "Now, having the suite definition loaded, we can run the test suite, by calling the ``run`` method of the suite instance (step [9]) and collect their results:"
   ]
  },
  {
   "cell_type": "code",
   "execution_count": 8,
   "metadata": {
    "collapsed": false,
    "deletable": true,
    "editable": true
   },
   "outputs": [
    {
     "name": "stderr",
     "output_type": "stream",
     "text": [
      "Workflow Test: 'change_case' ... 2017-03-30 11:48:34,390 [wft4galaxy] [ INFO]  Create a history '_WorkflowTestHistory_0a12a39e-152e-11e7-875d-a45e60c4fc6b' (id: u'0aab0e4c25198ad8')\n",
      "2017-03-30 11:48:35,583 [wft4galaxy] [ INFO]  Workflow '_WorkflowTest_Change Case (imported from API)' (id: 0aab0e4c25198ad8) running ...\n",
      "2017-03-30 11:48:37,457 [wft4galaxy] [ INFO]  waiting for datasets\n",
      "2017-03-30 11:48:40,115 [wft4galaxy] [ INFO]  5148364840389881: new\n",
      "2017-03-30 11:48:41,313 [wft4galaxy] [ INFO]  5148364840389881: queued\n",
      "2017-03-30 11:48:42,371 [wft4galaxy] [ INFO]  5148364840389881: queued\n",
      "2017-03-30 11:48:43,015 [wft4galaxy] [ INFO]  5148364840389881: running\n",
      "2017-03-30 11:48:43,734 [wft4galaxy] [ INFO]  5148364840389881: running\n",
      "2017-03-30 11:48:44,614 [wft4galaxy] [ INFO]  5148364840389881: running\n",
      "2017-03-30 11:48:45,510 [wft4galaxy] [ INFO]  5148364840389881: ok\n",
      "2017-03-30 11:48:46,011 [wft4galaxy] [ INFO]  Workflow '_WorkflowTest_Change Case (imported from API)' (id: 0aab0e4c25198ad8) executed\n",
      "2017-03-30 11:48:46,013 [wft4galaxy] [ INFO]  Checking test output: ...\n",
      "2017-03-30 11:48:46,146 [wft4galaxy] [ INFO]  Checking test output: DONE\n",
      "ok\n",
      "Workflow Test: 'multivariate' ... 2017-03-30 11:48:47,557 [wft4galaxy] [ INFO]  Create a history '_WorkflowTestHistory_11e13235-152e-11e7-9e12-a45e60c4fc6b' (id: u'32ff5cf1b96c1df7')\n",
      "2017-03-30 11:48:58,185 [wft4galaxy] [ INFO]  Workflow '_WorkflowTest_Multivariate (imported from API)' (id: 32ff5cf1b96c1df7) running ...\n",
      "2017-03-30 11:49:03,892 [wft4galaxy] [ INFO]  waiting for datasets\n",
      "2017-03-30 11:49:04,361 [wft4galaxy] [ INFO]  2d0caaef345630d8: queued\n",
      "2017-03-30 11:49:04,738 [wft4galaxy] [ INFO]  72e7b234f232ef23: queued\n",
      "2017-03-30 11:49:04,879 [wft4galaxy] [ INFO]  dbc510811ab4034e: queued\n",
      "2017-03-30 11:49:05,351 [wft4galaxy] [ INFO]  b7e089dc153354a5: queued\n",
      "2017-03-30 11:49:05,980 [wft4galaxy] [ INFO]  2d0caaef345630d8: queued\n",
      "2017-03-30 11:49:06,270 [wft4galaxy] [ INFO]  72e7b234f232ef23: queued\n",
      "2017-03-30 11:49:06,598 [wft4galaxy] [ INFO]  dbc510811ab4034e: queued\n",
      "2017-03-30 11:49:06,741 [wft4galaxy] [ INFO]  b7e089dc153354a5: queued\n",
      "2017-03-30 11:49:07,383 [wft4galaxy] [ INFO]  2d0caaef345630d8: queued\n",
      "2017-03-30 11:49:07,610 [wft4galaxy] [ INFO]  72e7b234f232ef23: queued\n",
      "2017-03-30 11:49:07,756 [wft4galaxy] [ INFO]  dbc510811ab4034e: queued\n",
      "2017-03-30 11:49:07,905 [wft4galaxy] [ INFO]  b7e089dc153354a5: queued\n",
      "2017-03-30 11:49:08,558 [wft4galaxy] [ INFO]  2d0caaef345630d8: queued\n",
      "2017-03-30 11:49:08,709 [wft4galaxy] [ INFO]  72e7b234f232ef23: queued\n",
      "2017-03-30 11:49:08,871 [wft4galaxy] [ INFO]  dbc510811ab4034e: queued\n",
      "2017-03-30 11:49:08,990 [wft4galaxy] [ INFO]  b7e089dc153354a5: queued\n",
      "2017-03-30 11:49:09,729 [wft4galaxy] [ INFO]  2d0caaef345630d8: queued\n",
      "2017-03-30 11:49:10,058 [wft4galaxy] [ INFO]  72e7b234f232ef23: queued\n",
      "2017-03-30 11:49:10,316 [wft4galaxy] [ INFO]  dbc510811ab4034e: queued\n",
      "2017-03-30 11:49:10,561 [wft4galaxy] [ INFO]  b7e089dc153354a5: queued\n",
      "2017-03-30 11:49:11,336 [wft4galaxy] [ INFO]  2d0caaef345630d8: ok\n",
      "2017-03-30 11:49:11,467 [wft4galaxy] [ INFO]  72e7b234f232ef23: ok\n",
      "2017-03-30 11:49:11,608 [wft4galaxy] [ INFO]  dbc510811ab4034e: ok\n",
      "2017-03-30 11:49:11,762 [wft4galaxy] [ INFO]  b7e089dc153354a5: ok\n",
      "2017-03-30 11:49:12,268 [wft4galaxy] [ INFO]  Workflow '_WorkflowTest_Multivariate (imported from API)' (id: 32ff5cf1b96c1df7) executed\n",
      "2017-03-30 11:49:12,271 [wft4galaxy] [ INFO]  Checking test output: ...\n",
      "2017-03-30 11:49:12,470 [wft4galaxy] [ INFO]  Checking test output: DONE\n",
      "ok\n",
      "\n",
      "----------------------------------------------------------------------\n",
      "Ran 2 tests in 39.369s\n",
      "\n",
      "OK\n"
     ]
    }
   ],
   "source": [
    "test_results = suite.run(enable_logger=True)"
   ]
  },
  {
   "cell_type": "markdown",
   "metadata": {
    "deletable": true,
    "editable": true
   },
   "source": [
    "``test_results`` is a list of instances of ``WorkflowTestResult``, a class which contains several information about an executed workflow, like its ID (dynamically generated when the test starts), the workflow definition and the results of the comparator function for each step (step[9]):"
   ]
  },
  {
   "cell_type": "code",
   "execution_count": 9,
   "metadata": {
    "collapsed": false,
    "deletable": true,
    "editable": true
   },
   "outputs": [
    {
     "name": "stdout",
     "output_type": "stream",
     "text": [
      "Test 0a12a39e-152e-11e7-875d-a45e60c4fc6b:\n",
      "\t - workflow: [_WorkflowTest_Change Case (imported from API)] \n",
      "\t - results: {u'OutputText': True}\n",
      "Test 11e13235-152e-11e7-9e12-a45e60c4fc6b:\n",
      "\t - workflow: [_WorkflowTest_Multivariate (imported from API)] \n",
      "\t - results: {u'variableMetadata_out': True, u'sampleMetadata_out': True}\n"
     ]
    }
   ],
   "source": [
    "for r in test_results:\n",
    "    print(\"Test %s:\\n\\t - workflow: [%s] \\n\\t - results: %r\" % (r.test_id, r.workflow.name, r.results))"
   ]
  },
  {
   "cell_type": "markdown",
   "metadata": {
    "deletable": true,
    "editable": true
   },
   "source": [
    "Given a ``WorkflowTestResult`` instance:"
   ]
  },
  {
   "cell_type": "code",
   "execution_count": 10,
   "metadata": {
    "collapsed": true,
    "deletable": true,
    "editable": true
   },
   "outputs": [],
   "source": [
    "a_result = test_results[0]"
   ]
  },
  {
   "cell_type": "markdown",
   "metadata": {
    "deletable": true,
    "editable": true
   },
   "source": [
    "the list of available methods for inspecting the results of the workflow test are:"
   ]
  },
  {
   "cell_type": "code",
   "execution_count": 11,
   "metadata": {
    "collapsed": false,
    "deletable": true,
    "editable": true
   },
   "outputs": [
    {
     "name": "stdout",
     "output_type": "stream",
     "text": [
      "Help on WorkflowTestResult in module wft4galaxy.core object:\n",
      "\n",
      "class WorkflowTestResult(__builtin__.object)\n",
      " |  Class for representing the result of a workflow test.\n",
      " |  \n",
      " |  Methods defined here:\n",
      " |  \n",
      " |  __init__(self, test_id, workflow, inputs, outputs, output_history, expected_outputs, missing_tools, results, output_file_map, output_folder='results', errors=None)\n",
      " |  \n",
      " |  __repr__(self)\n",
      " |  \n",
      " |  __str__(self)\n",
      " |  \n",
      " |  check_output(self, output)\n",
      " |      Assert whether the actual `output` is equal to the expected accordingly\n",
      " |      to its associated `comparator` function.\n",
      " |      \n",
      " |      :type output: str or dict\n",
      " |      :param output: output name\n",
      " |      \n",
      " |      :rtype: bool\n",
      " |      :return: ``True`` if the test is passed; ``False`` otherwise.\n",
      " |  \n",
      " |  check_outputs(self)\n",
      " |      Return a map of pairs <OUTPUT_NAME>:<RESULT>, where <RESULT> is ``True``\n",
      " |      if the actual `OUTPUT_NAME` is equal to the expected accordingly\n",
      " |      to its associated `comparator` function.\n",
      " |      \n",
      " |      :rtype: dict\n",
      " |      :return: map of output results\n",
      " |  \n",
      " |  failed(self)\n",
      " |      Assert whether the test is failed.\n",
      " |      \n",
      " |      :rtype: bool\n",
      " |      :return: ``True`` if the test is failed; ``False`` otherwise.\n",
      " |  \n",
      " |  passed(self)\n",
      " |      Assert whether the test is passed.\n",
      " |      \n",
      " |      :rtype: bool\n",
      " |      :return: ``True`` if the test is passed; ``False`` otherwise.\n",
      " |  \n",
      " |  ----------------------------------------------------------------------\n",
      " |  Data descriptors defined here:\n",
      " |  \n",
      " |  __dict__\n",
      " |      dictionary for instance variables (if defined)\n",
      " |  \n",
      " |  __weakref__\n",
      " |      list of weak references to the object (if defined)\n",
      "\n"
     ]
    }
   ],
   "source": [
    "help(a_result)"
   ]
  },
  {
   "cell_type": "markdown",
   "metadata": {
    "deletable": true,
    "editable": true
   },
   "source": [
    "For example, you can extract the list of tested outputs:"
   ]
  },
  {
   "cell_type": "code",
   "execution_count": 12,
   "metadata": {
    "collapsed": false,
    "deletable": true,
    "editable": true
   },
   "outputs": [
    {
     "name": "stdout",
     "output_type": "stream",
     "text": [
      "Outputs:  [u'OutputText']\n"
     ]
    }
   ],
   "source": [
    "print \"Outputs: \", a_result.results.keys()"
   ]
  },
  {
   "cell_type": "markdown",
   "metadata": {
    "deletable": true,
    "editable": true
   },
   "source": [
    "... or explicitly check if the test is globally passed or failed (all actual outputs are equal to the expected):"
   ]
  },
  {
   "cell_type": "code",
   "execution_count": 13,
   "metadata": {
    "collapsed": false,
    "deletable": true,
    "editable": true
   },
   "outputs": [
    {
     "data": {
      "text/plain": [
       "(True, False)"
      ]
     },
     "execution_count": 13,
     "metadata": {},
     "output_type": "execute_result"
    }
   ],
   "source": [
    "a_result.passed(), a_result.failed()"
   ]
  },
  {
   "cell_type": "markdown",
   "metadata": {
    "deletable": true,
    "editable": true
   },
   "source": [
    "... or check whether a specific actual output is equal or not to the expected one:"
   ]
  },
  {
   "cell_type": "code",
   "execution_count": 14,
   "metadata": {
    "collapsed": false,
    "deletable": true,
    "editable": true
   },
   "outputs": [
    {
     "data": {
      "text/plain": [
       "True"
      ]
     },
     "execution_count": 14,
     "metadata": {},
     "output_type": "execute_result"
    }
   ],
   "source": [
    "a_result.check_output(\"OutputText\")"
   ]
  }
 ],
 "metadata": {
  "kernelspec": {
   "display_name": "Python 2",
   "language": "python",
   "name": "python2"
  },
  "language_info": {
   "codemirror_mode": {
    "name": "ipython",
    "version": 2
   },
   "file_extension": ".py",
   "mimetype": "text/x-python",
   "name": "python",
   "nbconvert_exporter": "python",
   "pygments_lexer": "ipython2",
   "version": "2.7.13"
  }
 },
 "nbformat": 4,
 "nbformat_minor": 1
}
