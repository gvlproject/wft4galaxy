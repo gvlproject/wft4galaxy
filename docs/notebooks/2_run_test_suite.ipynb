{
 "cells": [
  {
   "cell_type": "markdown",
   "metadata": {},
   "source": [
    "# Run a test suite"
   ]
  },
  {
   "cell_type": "code",
   "execution_count": 18,
   "metadata": {
    "collapsed": false
   },
   "outputs": [],
   "source": [
    "import os, pprint"
   ]
  },
  {
   "cell_type": "code",
   "execution_count": 19,
   "metadata": {
    "collapsed": true
   },
   "outputs": [],
   "source": [
    "EXAMPLES_FOLDER = \"../examples\""
   ]
  },
  {
   "cell_type": "code",
   "execution_count": 20,
   "metadata": {
    "collapsed": false
   },
   "outputs": [
    {
     "data": {
      "text/plain": [
       "['.tools',\n",
       " 'change_case',\n",
       " 'multivariate',\n",
       " 'results',\n",
       " 'sacurine',\n",
       " 'workflow-test-suite-full.yml',\n",
       " 'workflow-test-suite-min.yml',\n",
       " 'workflows.json']"
      ]
     },
     "execution_count": 20,
     "metadata": {},
     "output_type": "execute_result"
    }
   ],
   "source": [
    "[f for f in os.listdir(EXAMPLES_FOLDER) if f not in [\".DS_Store\", \".ipynb_checkpoints\"]]"
   ]
  },
  {
   "cell_type": "code",
   "execution_count": 21,
   "metadata": {
    "collapsed": true
   },
   "outputs": [],
   "source": [
    "suite_conf_filename = os.path.join(EXAMPLES_FOLDER, \"workflow-test-suite-min.yml\")"
   ]
  },
  {
   "cell_type": "code",
   "execution_count": 22,
   "metadata": {
    "collapsed": false
   },
   "outputs": [
    {
     "name": "stdout",
     "output_type": "stream",
     "text": [
      "enable_logger: false\n",
      "workflows:\n",
      "  change_case:\n",
      "    expected:\n",
      "      OutputText: change_case/expected_output\n",
      "    inputs:\n",
      "      InputText: change_case/input\n",
      "    file: change_case/workflow.ga\n",
      "  multivariate:\n",
      "    expected:\n",
      "      variableMetadata_out: multivariate/variableMetadata_out\n",
      "      sampleMetadata_out: multivariate/sampleMetadata_out\n",
      "    inputs:\n",
      "      DataMatrix: multivariate/dataMatrix.tsv\n",
      "      SampleMetadata: multivariate/sampleMetadata.tsv\n",
      "      VariableMetadata: multivariate/variableMetadata.tsv\n",
      "    params:\n",
      "      3:\n",
      "        predI: '1'\n",
      "        respC: gender\n",
      "        orthoI: NA\n",
      "        testL: 'FALSE'\n",
      "    file: multivariate/workflow.ga\n",
      "\n"
     ]
    }
   ],
   "source": [
    "import ruamel.yaml as yaml\n",
    "with open(suite_conf_filename, \"r\") as fp:\n",
    "    data = yaml.load(fp)\n",
    "    print yaml.round_trip_dump(data, indent=2, block_seq_indent=3)"
   ]
  },
  {
   "cell_type": "code",
   "execution_count": 23,
   "metadata": {
    "collapsed": false
   },
   "outputs": [],
   "source": [
    "from wft4galaxy import WorkflowTestConfiguration"
   ]
  },
  {
   "cell_type": "code",
   "execution_count": 24,
   "metadata": {
    "collapsed": false
   },
   "outputs": [
    {
     "name": "stdout",
     "output_type": "stream",
     "text": [
      "Help on function load in module wft4galaxy:\n",
      "\n",
      "load(filename='workflows.yml', workflow_test_name=None, file_format='YAML', output_folder=None)\n",
      "    Load the configuration of a workflow test suite or a single workflow test\n",
      "    from a YAML or JSON configuration file.\n",
      "    \n",
      "    :type filename: str\n",
      "    :param filename: the path of the file containing the suite definition\n",
      "    \n",
      "    :type workflow_test_name: str\n",
      "    :param workflow_test_name: the optional name of a workflow test\n",
      "    \n",
      "    :type file_format: str\n",
      "    :param file_format: ``YAML`` or ``JSON``\n",
      "    \n",
      "    :rtype: dict or :class:`WorkflowTestConfiguration`\n",
      "    :return: a dictionary containing the configuration of a workflow test suite or\n",
      "        a single workflow test configuration (i.e., an instance of :class:`WorkflowTestConfiguration`)\n",
      "\n"
     ]
    }
   ],
   "source": [
    "help(WorkflowTestConfiguration.load)"
   ]
  },
  {
   "cell_type": "code",
   "execution_count": 25,
   "metadata": {
    "collapsed": true
   },
   "outputs": [],
   "source": [
    "suite_conf = WorkflowTestConfiguration.load(suite_conf_filename)"
   ]
  },
  {
   "cell_type": "code",
   "execution_count": 26,
   "metadata": {
    "collapsed": false
   },
   "outputs": [
    {
     "name": "stdout",
     "output_type": "stream",
     "text": [
      "{   'enable_logger': False,\n",
      "    'galaxy_api_key': None,\n",
      "    'galaxy_url': None,\n",
      "    'output_folder': 'results',\n",
      "    'workflows': {   'change_case': WorkflowTestConfig: name=change_case, file=change_case/workflow.ga, inputs=[InputText], expected_outputs=[OutputText],\n",
      "                     'multivariate': WorkflowTestConfig: name=multivariate, file=multivariate/workflow.ga, inputs=[DataMatrix,SampleMetadata,VariableMetadata], expected_outputs=[variableMetadata_out,sampleMetadata_out]}}\n"
     ]
    }
   ],
   "source": [
    "pp = pprint.PrettyPrinter(indent=4)\n",
    "pp.pprint(suite_conf)"
   ]
  },
  {
   "cell_type": "code",
   "execution_count": 27,
   "metadata": {
    "collapsed": false
   },
   "outputs": [
    {
     "name": "stdout",
     "output_type": "stream",
     "text": [
      "{'change_case': WorkflowTestConfig: name=change_case, file=change_case/workflow.ga, inputs=[InputText], expected_outputs=[OutputText],\n",
      " 'multivariate': WorkflowTestConfig: name=multivariate, file=multivariate/workflow.ga, inputs=[DataMatrix,SampleMetadata,VariableMetadata], expected_outputs=[variableMetadata_out,sampleMetadata_out]}\n"
     ]
    }
   ],
   "source": [
    "import pprint\n",
    "pprint.pprint(suite_conf[\"workflows\"])"
   ]
  },
  {
   "cell_type": "code",
   "execution_count": 28,
   "metadata": {
    "collapsed": false
   },
   "outputs": [
    {
     "name": "stdout",
     "output_type": "stream",
     "text": [
      "WorkflowTestConfig: name=change_case, file=change_case/workflow.ga, inputs=[InputText], expected_outputs=[OutputText]\n"
     ]
    }
   ],
   "source": [
    "print(suite_conf[\"workflows\"][\"change_case\"])"
   ]
  },
  {
   "cell_type": "code",
   "execution_count": 29,
   "metadata": {
    "collapsed": false
   },
   "outputs": [
    {
     "name": "stderr",
     "output_type": "stream",
     "text": [
      "2016-11-09 07:18:11,054 DEBUG: Initializing the existing WorkflowLoader instance...\n"
     ]
    }
   ],
   "source": [
    "from wft4galaxy import WorkflowTestSuite\n",
    "suite_runner = WorkflowTestSuite()"
   ]
  },
  {
   "cell_type": "code",
   "execution_count": 30,
   "metadata": {
    "collapsed": false
   },
   "outputs": [
    {
     "name": "stderr",
     "output_type": "stream",
     "text": [
      "Workflow Test: 'change_case' ... 2016-11-09 07:18:15,734 DEBUG: Using default params\n",
      "2016-11-09 07:18:15,736 DEBUG: Checking required tools ...\n",
      "2016-11-09 07:18:15,861 DEBUG: Missing tools: None\n",
      "2016-11-09 07:18:15,862 DEBUG: Checking required tools: DONE\n",
      "2016-11-09 07:18:16,382 INFO: Create a history '_WorkflowTestHistory_4cc53eb5-a644-11e6-99d7-a8667f33b7fc' (id: u'bf0806da5b28c6d9')\n",
      "2016-11-09 07:18:18,296 INFO: Workflow '_WorkflowTest_Change Case (imported from API)' (id: bf0806da5b28c6d9) running ...\n",
      "2016-11-09 07:18:30,049 INFO: Workflow '_WorkflowTest_Change Case (imported from API)' (id: bf0806da5b28c6d9) executed\n",
      "2016-11-09 07:18:30,052 INFO: Checking test output: ...\n",
      "2016-11-09 07:18:30,053 DEBUG: Checking OUTPUT 'OutputText' ...\n",
      "2016-11-09 07:18:30,139 DEBUG: Downloaded output OutputText: dataset_id '7e1ddb768ae0c642', filename 'results/change_case/OutputText'\n",
      "2016-11-09 07:18:30,141 DEBUG: Configured comparator function: None\n",
      "2016-11-09 07:18:30,144 DEBUG: Using default comparator....\n",
      "2016-11-09 07:18:30,181 DEBUG: Output 'OutputText' is equal to the expected: dataset '7e1ddb768ae0c642', actual-output 'results/change_case/OutputText', expected-output '/Users/kikkomep/CloudDrives/Dropbox/Work/Crs4/Projects/PhenoMeNal/Repositories/WorkflowTester/docs/examples/change_case/expected_output'\n",
      "2016-11-09 07:18:30,182 DEBUG: Checking OUTPUT 'OutputText': DONE\n",
      "2016-11-09 07:18:30,183 INFO: Checking test output: DONE\n",
      "2016-11-09 07:18:30,184 DEBUG: Cleanup of workflow test '4cc53eb5-a644-11e6-99d7-a8667f33b7fc'...\n",
      "2016-11-09 07:18:30,973 DEBUG: Cleaning output folder: OutputText\n",
      "2016-11-09 07:18:30,976 DEBUG: Deleted output file 'results/change_case/OutputText'.\n",
      "2016-11-09 07:18:31,199 DEBUG: Cleanup of workflow test '4cc53eb5-a644-11e6-99d7-a8667f33b7fc': DONE\n",
      "ok\n",
      "Workflow Test: 'multivariate' ... 2016-11-09 07:18:31,990 DEBUG: Using default params\n",
      "2016-11-09 07:18:31,991 DEBUG: Checking required tools ...\n",
      "2016-11-09 07:18:32,086 DEBUG: Missing tools: None\n",
      "2016-11-09 07:18:32,087 DEBUG: Checking required tools: DONE\n",
      "2016-11-09 07:18:32,534 INFO: Create a history '_WorkflowTestHistory_5675a840-a644-11e6-a7a1-a8667f33b7fc' (id: u'290670ee50ab85f0')\n",
      "2016-11-09 07:18:45,376 INFO: Workflow '_WorkflowTest_Multivariate (imported from API)' (id: 290670ee50ab85f0) running ...\n",
      "2016-11-09 07:19:03,490 INFO: Workflow '_WorkflowTest_Multivariate (imported from API)' (id: 290670ee50ab85f0) executed\n",
      "2016-11-09 07:19:03,494 INFO: Checking test output: ...\n",
      "2016-11-09 07:19:03,496 DEBUG: Checking OUTPUT 'variableMetadata_out' ...\n",
      "2016-11-09 07:19:03,575 DEBUG: Downloaded output variableMetadata_out: dataset_id 'dfaae394464c0006', filename 'results/multivariate/variableMetadata_out'\n",
      "2016-11-09 07:19:03,576 DEBUG: Configured comparator function: None\n",
      "2016-11-09 07:19:03,576 DEBUG: Using default comparator....\n",
      "2016-11-09 07:19:03,579 DEBUG: Output 'variableMetadata_out' is equal to the expected: dataset 'dfaae394464c0006', actual-output 'results/multivariate/variableMetadata_out', expected-output '/Users/kikkomep/CloudDrives/Dropbox/Work/Crs4/Projects/PhenoMeNal/Repositories/WorkflowTester/docs/examples/multivariate/variableMetadata_out'\n",
      "2016-11-09 07:19:03,580 DEBUG: Checking OUTPUT 'variableMetadata_out': DONE\n",
      "2016-11-09 07:19:03,581 DEBUG: Checking OUTPUT 'sampleMetadata_out' ...\n",
      "2016-11-09 07:19:03,674 DEBUG: Downloaded output sampleMetadata_out: dataset_id '56688e7db014eaac', filename 'results/multivariate/sampleMetadata_out'\n",
      "2016-11-09 07:19:03,676 DEBUG: Configured comparator function: None\n",
      "2016-11-09 07:19:03,678 DEBUG: Using default comparator....\n",
      "2016-11-09 07:19:03,684 DEBUG: Output 'sampleMetadata_out' is equal to the expected: dataset '56688e7db014eaac', actual-output 'results/multivariate/sampleMetadata_out', expected-output '/Users/kikkomep/CloudDrives/Dropbox/Work/Crs4/Projects/PhenoMeNal/Repositories/WorkflowTester/docs/examples/multivariate/sampleMetadata_out'\n",
      "2016-11-09 07:19:03,687 DEBUG: Checking OUTPUT 'sampleMetadata_out': DONE\n",
      "2016-11-09 07:19:03,689 INFO: Checking test output: DONE\n",
      "2016-11-09 07:19:03,691 DEBUG: Cleanup of workflow test '5675a840-a644-11e6-a7a1-a8667f33b7fc'...\n",
      "2016-11-09 07:19:04,007 DEBUG: Cleaning output folder: variableMetadata_out\n",
      "2016-11-09 07:19:04,010 DEBUG: Deleted output file 'results/multivariate/variableMetadata_out'.\n",
      "2016-11-09 07:19:04,012 DEBUG: Cleaning output folder: sampleMetadata_out\n",
      "2016-11-09 07:19:04,013 DEBUG: Deleted output file 'results/multivariate/sampleMetadata_out'.\n",
      "2016-11-09 07:19:04,209 DEBUG: Cleanup of workflow test '5675a840-a644-11e6-a7a1-a8667f33b7fc': DONE\n",
      "ok\n",
      "\n",
      "----------------------------------------------------------------------\n",
      "Ran 2 tests in 49.475s\n",
      "\n",
      "OK\n",
      "2016-11-09 07:19:04,210 DEBUG: Cleanup of workflow test '4cc53eb5-a644-11e6-99d7-a8667f33b7fc'...\n",
      "2016-11-09 07:19:04,353 DEBUG: Cleaning output folder: OutputText\n",
      "2016-11-09 07:19:04,354 DEBUG: Cleanup of workflow test '4cc53eb5-a644-11e6-99d7-a8667f33b7fc': DONE\n",
      "2016-11-09 07:19:04,354 DEBUG: Cleanup of workflow test '5675a840-a644-11e6-a7a1-a8667f33b7fc'...\n",
      "2016-11-09 07:19:04,454 DEBUG: Cleaning output folder: variableMetadata_out\n",
      "2016-11-09 07:19:04,455 DEBUG: Cleaning output folder: sampleMetadata_out\n",
      "2016-11-09 07:19:04,455 DEBUG: Cleanup of workflow test '5675a840-a644-11e6-a7a1-a8667f33b7fc': DONE\n"
     ]
    }
   ],
   "source": [
    "suite_runner.run_test_suite(suite_conf, enable_debug=True)"
   ]
  },
  {
   "cell_type": "code",
   "execution_count": 31,
   "metadata": {
    "collapsed": false
   },
   "outputs": [
    {
     "name": "stderr",
     "output_type": "stream",
     "text": [
      "2016-11-09 07:20:32,720 DEBUG: Using default params\n",
      "2016-11-09 07:20:32,720 DEBUG: Checking required tools ...\n",
      "2016-11-09 07:20:32,852 DEBUG: Missing tools: None\n",
      "2016-11-09 07:20:32,853 DEBUG: Checking required tools: DONE\n",
      "2016-11-09 07:20:35,774 INFO: Create a history '_WorkflowTestHistory_9e6b786e-a644-11e6-9512-a8667f33b7fc' (id: u'81991b32733a4fc4')\n",
      "2016-11-09 07:20:38,189 INFO: Workflow '_WorkflowTest_Change Case (imported from API)' (id: 81991b32733a4fc4) running ...\n",
      "2016-11-09 07:20:51,383 INFO: Workflow '_WorkflowTest_Change Case (imported from API)' (id: 81991b32733a4fc4) executed\n",
      "2016-11-09 07:20:51,384 INFO: Checking test output: ...\n",
      "2016-11-09 07:20:51,385 DEBUG: Checking OUTPUT 'OutputText' ...\n",
      "2016-11-09 07:20:51,554 DEBUG: Downloaded output OutputText: dataset_id 'a8539f6d9115ffe7', filename 'results/change_case/OutputText'\n",
      "2016-11-09 07:20:51,555 DEBUG: Configured comparator function: None\n",
      "2016-11-09 07:20:51,556 DEBUG: Using default comparator....\n",
      "2016-11-09 07:20:51,574 DEBUG: Output 'OutputText' is equal to the expected: dataset 'a8539f6d9115ffe7', actual-output 'results/change_case/OutputText', expected-output '/Users/kikkomep/CloudDrives/Dropbox/Work/Crs4/Projects/PhenoMeNal/Repositories/WorkflowTester/docs/examples/change_case/expected_output'\n",
      "2016-11-09 07:20:51,575 DEBUG: Checking OUTPUT 'OutputText': DONE\n",
      "2016-11-09 07:20:51,577 INFO: Checking test output: DONE\n",
      "2016-11-09 07:20:51,578 DEBUG: Cleanup of workflow test '9e6b786e-a644-11e6-9512-a8667f33b7fc'...\n",
      "2016-11-09 07:20:51,985 DEBUG: Cleaning output folder: OutputText\n",
      "2016-11-09 07:20:51,988 DEBUG: Deleted output file 'results/change_case/OutputText'.\n",
      "2016-11-09 07:20:52,255 DEBUG: Cleanup of workflow test '9e6b786e-a644-11e6-9512-a8667f33b7fc': DONE\n",
      "2016-11-09 07:20:54,094 DEBUG: Using default params\n",
      "2016-11-09 07:20:54,095 DEBUG: Checking required tools ...\n",
      "2016-11-09 07:20:54,298 DEBUG: Missing tools: None\n",
      "2016-11-09 07:20:54,299 DEBUG: Checking required tools: DONE\n",
      "2016-11-09 07:20:54,941 INFO: Create a history '_WorkflowTestHistory_ab290711-a644-11e6-a351-a8667f33b7fc' (id: u'be0a27b9edd0db03')\n",
      "2016-11-09 07:21:08,968 INFO: Workflow '_WorkflowTest_Multivariate (imported from API)' (id: be0a27b9edd0db03) running ...\n",
      "2016-11-09 07:21:32,366 INFO: Workflow '_WorkflowTest_Multivariate (imported from API)' (id: be0a27b9edd0db03) executed\n",
      "2016-11-09 07:21:32,367 INFO: Checking test output: ...\n",
      "2016-11-09 07:21:32,367 DEBUG: Checking OUTPUT 'variableMetadata_out' ...\n",
      "2016-11-09 07:21:32,439 DEBUG: Downloaded output variableMetadata_out: dataset_id '66219e410e539604', filename 'results/multivariate/variableMetadata_out'\n",
      "2016-11-09 07:21:32,440 DEBUG: Configured comparator function: None\n",
      "2016-11-09 07:21:32,441 DEBUG: Using default comparator....\n",
      "2016-11-09 07:21:32,446 DEBUG: Output 'variableMetadata_out' is equal to the expected: dataset '66219e410e539604', actual-output 'results/multivariate/variableMetadata_out', expected-output '/Users/kikkomep/CloudDrives/Dropbox/Work/Crs4/Projects/PhenoMeNal/Repositories/WorkflowTester/docs/examples/multivariate/variableMetadata_out'\n",
      "2016-11-09 07:21:32,447 DEBUG: Checking OUTPUT 'variableMetadata_out': DONE\n",
      "2016-11-09 07:21:32,448 DEBUG: Checking OUTPUT 'sampleMetadata_out' ...\n",
      "2016-11-09 07:21:32,537 DEBUG: Downloaded output sampleMetadata_out: dataset_id '14a3106b3b289bac', filename 'results/multivariate/sampleMetadata_out'\n",
      "2016-11-09 07:21:32,538 DEBUG: Configured comparator function: None\n",
      "2016-11-09 07:21:32,539 DEBUG: Using default comparator....\n",
      "2016-11-09 07:21:32,543 DEBUG: Output 'sampleMetadata_out' is equal to the expected: dataset '14a3106b3b289bac', actual-output 'results/multivariate/sampleMetadata_out', expected-output '/Users/kikkomep/CloudDrives/Dropbox/Work/Crs4/Projects/PhenoMeNal/Repositories/WorkflowTester/docs/examples/multivariate/sampleMetadata_out'\n",
      "2016-11-09 07:21:32,545 DEBUG: Checking OUTPUT 'sampleMetadata_out': DONE\n",
      "2016-11-09 07:21:32,546 INFO: Checking test output: DONE\n",
      "2016-11-09 07:21:32,547 DEBUG: Cleanup of workflow test 'ab290711-a644-11e6-a351-a8667f33b7fc'...\n",
      "2016-11-09 07:21:32,802 DEBUG: Cleaning output folder: variableMetadata_out\n",
      "2016-11-09 07:21:32,803 DEBUG: Deleted output file 'results/multivariate/variableMetadata_out'.\n",
      "2016-11-09 07:21:32,803 DEBUG: Cleaning output folder: sampleMetadata_out\n",
      "2016-11-09 07:21:32,805 DEBUG: Deleted output file 'results/multivariate/sampleMetadata_out'.\n",
      "2016-11-09 07:21:33,125 DEBUG: Cleanup of workflow test 'ab290711-a644-11e6-a351-a8667f33b7fc': DONE\n",
      "2016-11-09 07:21:33,126 DEBUG: Cleanup of workflow test '4cc53eb5-a644-11e6-99d7-a8667f33b7fc'...\n",
      "2016-11-09 07:21:33,303 DEBUG: Cleaning output folder: OutputText\n",
      "2016-11-09 07:21:33,303 DEBUG: Cleanup of workflow test '4cc53eb5-a644-11e6-99d7-a8667f33b7fc': DONE\n",
      "2016-11-09 07:21:33,304 DEBUG: Cleanup of workflow test '5675a840-a644-11e6-a7a1-a8667f33b7fc'...\n",
      "2016-11-09 07:21:33,449 DEBUG: Cleaning output folder: variableMetadata_out\n",
      "2016-11-09 07:21:33,449 DEBUG: Cleaning output folder: sampleMetadata_out\n",
      "2016-11-09 07:21:33,450 DEBUG: Cleanup of workflow test '5675a840-a644-11e6-a7a1-a8667f33b7fc': DONE\n",
      "2016-11-09 07:21:33,451 DEBUG: Cleanup of workflow test '9e6b786e-a644-11e6-9512-a8667f33b7fc'...\n",
      "2016-11-09 07:21:33,652 DEBUG: Cleaning output folder: OutputText\n",
      "2016-11-09 07:21:33,653 DEBUG: Cleanup of workflow test '9e6b786e-a644-11e6-9512-a8667f33b7fc': DONE\n",
      "2016-11-09 07:21:33,654 DEBUG: Cleanup of workflow test 'ab290711-a644-11e6-a351-a8667f33b7fc'...\n",
      "2016-11-09 07:21:33,794 DEBUG: Cleaning output folder: variableMetadata_out\n",
      "2016-11-09 07:21:33,795 DEBUG: Cleaning output folder: sampleMetadata_out\n",
      "2016-11-09 07:21:33,796 DEBUG: Cleanup of workflow test 'ab290711-a644-11e6-a351-a8667f33b7fc': DONE\n"
     ]
    }
   ],
   "source": [
    "test_results = suite_runner.run_tests(suite_conf, enable_debug=True)"
   ]
  },
  {
   "cell_type": "code",
   "execution_count": 32,
   "metadata": {
    "collapsed": false
   },
   "outputs": [
    {
     "name": "stdout",
     "output_type": "stream",
     "text": [
      "[Test 9e6b786e-a644-11e6-9512-a8667f33b7fc: workflow _WorkflowTest_Change Case (imported from API), intputs=[InputText], outputs=[OutputText: OK], Test ab290711-a644-11e6-a351-a8667f33b7fc: workflow _WorkflowTest_Multivariate (imported from API), intputs=[DataMatrix,SampleMetadata,VariableMetadata], outputs=[variableMetadata_out: OK, sampleMetadata_out: OK]]\n"
     ]
    }
   ],
   "source": [
    "print test_results"
   ]
  },
  {
   "cell_type": "code",
   "execution_count": 33,
   "metadata": {
    "collapsed": false
   },
   "outputs": [
    {
     "name": "stdout",
     "output_type": "stream",
     "text": [
      "Test 9e6b786e-a644-11e6-9512-a8667f33b7fc:\n",
      "\t - workflow: [_WorkflowTest_Change Case (imported from API)] \n",
      "\t - results: {u'OutputText': True}\n",
      "Test ab290711-a644-11e6-a351-a8667f33b7fc:\n",
      "\t - workflow: [_WorkflowTest_Multivariate (imported from API)] \n",
      "\t - results: {u'variableMetadata_out': True, u'sampleMetadata_out': True}\n"
     ]
    }
   ],
   "source": [
    "for r in test_results:\n",
    "    print(\"Test %s:\\n\\t - workflow: [%s] \\n\\t - results: %r\" % (r.test_id, r.workflow.name, r.results))"
   ]
  },
  {
   "cell_type": "code",
   "execution_count": 34,
   "metadata": {
    "collapsed": true
   },
   "outputs": [],
   "source": [
    "a_result = test_results[0]"
   ]
  },
  {
   "cell_type": "code",
   "execution_count": 35,
   "metadata": {
    "collapsed": false
   },
   "outputs": [
    {
     "name": "stdout",
     "output_type": "stream",
     "text": [
      "Help on instance of WorkflowTestResult in module wft4galaxy:\n",
      "\n",
      "class WorkflowTestResult\n",
      " |  Class for representing the result of a workflow test.\n",
      " |  \n",
      " |  Methods defined here:\n",
      " |  \n",
      " |  __init__(self, test_id, workflow, inputs, outputs, output_history, expected_outputs, missing_tools, results, output_file_map, output_folder='results')\n",
      " |  \n",
      " |  __repr__(self)\n",
      " |  \n",
      " |  __str__(self)\n",
      " |  \n",
      " |  check_output(self, output)\n",
      " |      Assert whether the actual `output` is equal to the expected accordingly\n",
      " |      to its associated `comparator` function.\n",
      " |      \n",
      " |      :type output: str or dict\n",
      " |      :param output: output name\n",
      " |      \n",
      " |      :rtype: bool\n",
      " |      :return: ``True`` if the test is passed; ``False`` otherwise.\n",
      " |  \n",
      " |  check_outputs(self)\n",
      " |      Return a map of pairs <OUTPUT_NAME>:<RESULT>, where <RESULT> is ``True``\n",
      " |      if the actual `OUTPUT_NAME` is equal to the expected accordingly\n",
      " |      to its associated `comparator` function.\n",
      " |      \n",
      " |      :rtype: dict\n",
      " |      :return: map of output results\n",
      " |  \n",
      " |  failed(self)\n",
      " |      Assert whether the test is failed.\n",
      " |      \n",
      " |      :rtype: bool\n",
      " |      :return: ``True`` if the test is failed; ``False`` otherwise.\n",
      " |  \n",
      " |  passed(self)\n",
      " |      Assert whether the test is passed.\n",
      " |      \n",
      " |      :rtype: bool\n",
      " |      :return: ``True`` if the test is passed; ``False`` otherwise.\n",
      "\n"
     ]
    }
   ],
   "source": [
    "help(a_result)"
   ]
  },
  {
   "cell_type": "code",
   "execution_count": 36,
   "metadata": {
    "collapsed": false
   },
   "outputs": [
    {
     "name": "stdout",
     "output_type": "stream",
     "text": [
      "Outputs:  [u'OutputText']\n"
     ]
    }
   ],
   "source": [
    "print \"Outputs: \", a_result.results.keys()"
   ]
  },
  {
   "cell_type": "code",
   "execution_count": 37,
   "metadata": {
    "collapsed": false
   },
   "outputs": [
    {
     "data": {
      "text/plain": [
       "(True, False)"
      ]
     },
     "execution_count": 37,
     "metadata": {},
     "output_type": "execute_result"
    }
   ],
   "source": [
    "a_result.passed(), a_result.failed()"
   ]
  },
  {
   "cell_type": "code",
   "execution_count": 39,
   "metadata": {
    "collapsed": false
   },
   "outputs": [
    {
     "data": {
      "text/plain": [
       "True"
      ]
     },
     "execution_count": 39,
     "metadata": {},
     "output_type": "execute_result"
    }
   ],
   "source": [
    "a_result.check_output(\"OutputText\")"
   ]
  }
 ],
 "metadata": {
  "kernelspec": {
   "display_name": "Python 2",
   "language": "python",
   "name": "python2"
  },
  "language_info": {
   "codemirror_mode": {
    "name": "ipython",
    "version": 2
   },
   "file_extension": ".py",
   "mimetype": "text/x-python",
   "name": "python",
   "nbconvert_exporter": "python",
   "pygments_lexer": "ipython2",
   "version": "2.7.11"
  }
 },
 "nbformat": 4,
 "nbformat_minor": 1
}
