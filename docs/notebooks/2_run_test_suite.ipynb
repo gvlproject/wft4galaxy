{
 "cells": [
  {
   "cell_type": "markdown",
   "metadata": {},
   "source": [
    "# Run a test suite programmatically"
   ]
  },
  {
   "cell_type": "code",
   "execution_count": 1,
   "metadata": {
    "collapsed": true
   },
   "outputs": [],
   "source": [
    "EXAMPLES_FOLDER = \"../examples\""
   ]
  },
  {
   "cell_type": "code",
   "execution_count": 2,
   "metadata": {
    "collapsed": false
   },
   "outputs": [
    {
     "data": {
      "text/plain": [
       "['change_case',\n",
       " 'multivariate',\n",
       " 'sacurine',\n",
       " 'workflow-test-suite-full.yml',\n",
       " 'workflow-test-suite-min.yml',\n",
       " 'workflows.json']"
      ]
     },
     "execution_count": 2,
     "metadata": {},
     "output_type": "execute_result"
    }
   ],
   "source": [
    "import os, pprint\n",
    "[f for f in os.listdir(EXAMPLES_FOLDER) if not f.startswith('.')]"
   ]
  },
  {
   "cell_type": "code",
   "execution_count": 3,
   "metadata": {
    "collapsed": true
   },
   "outputs": [],
   "source": [
    "suite_conf_filename = os.path.join(EXAMPLES_FOLDER, \"workflow-test-suite-min.yml\")"
   ]
  },
  {
   "cell_type": "code",
   "execution_count": 4,
   "metadata": {
    "collapsed": false
   },
   "outputs": [
    {
     "name": "stdout",
     "output_type": "stream",
     "text": [
      "workflows:\n",
      "  change_case:\n",
      "    expected:\n",
      "      OutputText: change_case/expected_output\n",
      "    inputs:\n",
      "      InputText: change_case/input\n",
      "    file: change_case/workflow.ga\n",
      "  multivariate:\n",
      "    expected:\n",
      "      variableMetadata_out: multivariate/variableMetadata_out\n",
      "      sampleMetadata_out: multivariate/sampleMetadata_out\n",
      "    inputs:\n",
      "      DataMatrix: multivariate/dataMatrix.tsv\n",
      "      SampleMetadata: multivariate/sampleMetadata.tsv\n",
      "      VariableMetadata: multivariate/variableMetadata.tsv\n",
      "    params:\n",
      "      3:\n",
      "        predI: '1'\n",
      "        respC: gender\n",
      "        orthoI: NA\n",
      "        testL: 'FALSE'\n",
      "    file: multivariate/workflow.ga\n",
      "\n"
     ]
    }
   ],
   "source": [
    "import ruamel.yaml as yaml\n",
    "with open(suite_conf_filename, \"r\") as fp:\n",
    "    data = yaml.load(fp)\n",
    "    print yaml.round_trip_dump(data, indent=2, block_seq_indent=3)"
   ]
  },
  {
   "cell_type": "code",
   "execution_count": 5,
   "metadata": {
    "collapsed": false
   },
   "outputs": [],
   "source": [
    "from wft4galaxy import WorkflowTestConfiguration"
   ]
  },
  {
   "cell_type": "code",
   "execution_count": 6,
   "metadata": {
    "collapsed": false
   },
   "outputs": [
    {
     "name": "stdout",
     "output_type": "stream",
     "text": [
      "Help on function load in module wft4galaxy:\n",
      "\n",
      "load(filename='workflow-test-suite.yml', workflow_test_name=None, file_format='YAML', output_folder=None)\n",
      "    Load the configuration of a workflow test suite or a single workflow test\n",
      "    from a YAML or JSON configuration file.\n",
      "    \n",
      "    :type filename: str\n",
      "    :param filename: the path of the file containing the suite definition\n",
      "    \n",
      "    :type workflow_test_name: str\n",
      "    :param workflow_test_name: the optional name of a workflow test\n",
      "    \n",
      "    :type file_format: str\n",
      "    :param file_format: ``YAML`` or ``JSON``\n",
      "    \n",
      "    :rtype: dict or :class:`WorkflowTestConfiguration`\n",
      "    :return: a dictionary containing the configuration of a workflow test suite or\n",
      "        a single workflow test configuration (i.e., an instance of :class:`WorkflowTestConfiguration`)\n",
      "\n"
     ]
    }
   ],
   "source": [
    "help(WorkflowTestConfiguration.load)"
   ]
  },
  {
   "cell_type": "code",
   "execution_count": 7,
   "metadata": {
    "collapsed": true
   },
   "outputs": [],
   "source": [
    "suite_conf = WorkflowTestConfiguration.load(suite_conf_filename)"
   ]
  },
  {
   "cell_type": "code",
   "execution_count": 8,
   "metadata": {
    "collapsed": false
   },
   "outputs": [
    {
     "name": "stdout",
     "output_type": "stream",
     "text": [
      "{   'enable_logger': False,\n",
      "    'galaxy_api_key': None,\n",
      "    'galaxy_url': None,\n",
      "    'output_folder': 'results',\n",
      "    'workflows': {   'change_case': WorkflowTestConfig: name=change_case, file=change_case/workflow.ga, inputs=[InputText], expected_outputs=[OutputText],\n",
      "                     'multivariate': WorkflowTestConfig: name=multivariate, file=multivariate/workflow.ga, inputs=[DataMatrix,SampleMetadata,VariableMetadata], expected_outputs=[variableMetadata_out,sampleMetadata_out]}}\n"
     ]
    }
   ],
   "source": [
    "pp = pprint.PrettyPrinter(indent=4)\n",
    "pp.pprint(suite_conf)"
   ]
  },
  {
   "cell_type": "code",
   "execution_count": 9,
   "metadata": {
    "collapsed": false
   },
   "outputs": [
    {
     "name": "stdout",
     "output_type": "stream",
     "text": [
      "{'change_case': WorkflowTestConfig: name=change_case, file=change_case/workflow.ga, inputs=[InputText], expected_outputs=[OutputText],\n",
      " 'multivariate': WorkflowTestConfig: name=multivariate, file=multivariate/workflow.ga, inputs=[DataMatrix,SampleMetadata,VariableMetadata], expected_outputs=[variableMetadata_out,sampleMetadata_out]}\n"
     ]
    }
   ],
   "source": [
    "pprint.pprint(suite_conf[\"workflows\"])"
   ]
  },
  {
   "cell_type": "code",
   "execution_count": 10,
   "metadata": {
    "collapsed": false
   },
   "outputs": [
    {
     "name": "stdout",
     "output_type": "stream",
     "text": [
      "WorkflowTestConfig: name=change_case, file=change_case/workflow.ga, inputs=[InputText], expected_outputs=[OutputText]\n"
     ]
    }
   ],
   "source": [
    "print(suite_conf[\"workflows\"][\"change_case\"])"
   ]
  },
  {
   "cell_type": "code",
   "execution_count": 11,
   "metadata": {
    "collapsed": false
   },
   "outputs": [],
   "source": [
    "from wft4galaxy import WorkflowTestSuite\n",
    "suite_runner = WorkflowTestSuite()"
   ]
  },
  {
   "cell_type": "code",
   "execution_count": 12,
   "metadata": {
    "collapsed": false
   },
   "outputs": [
    {
     "name": "stderr",
     "output_type": "stream",
     "text": [
      "Workflow Test: 'change_case' ... 2016-11-11 15:58:43,623 INFO: Create a history '_WorkflowTestHistory_569f11a6-a81f-11e6-8d9a-a45e60c4fc6b' (id: u'1e3a7ada6d556982')\n",
      "2016-11-11 15:58:45,054 INFO: Workflow '_WorkflowTest_Change Case (imported from API)' (id: ddaca2bad6847b13) running ...\n",
      "2016-11-11 15:58:54,386 INFO: Workflow '_WorkflowTest_Change Case (imported from API)' (id: ddaca2bad6847b13) executed\n",
      "2016-11-11 15:58:54,389 INFO: Checking test output: ...\n",
      "2016-11-11 15:58:54,459 INFO: Checking test output: DONE\n",
      "ok\n",
      "Workflow Test: 'multivariate' ... 2016-11-11 15:58:55,604 INFO: Create a history '_WorkflowTestHistory_5dc325b3-a81f-11e6-96c3-a45e60c4fc6b' (id: u'1343954bc98f8001')\n",
      "2016-11-11 15:59:05,915 INFO: Workflow '_WorkflowTest_Multivariate (imported from API)' (id: 110f865fb6a7a80b) running ...\n",
      "2016-11-11 15:59:21,084 INFO: Workflow '_WorkflowTest_Multivariate (imported from API)' (id: 110f865fb6a7a80b) executed\n",
      "2016-11-11 15:59:21,088 INFO: Checking test output: ...\n",
      "2016-11-11 15:59:21,216 INFO: Checking test output: DONE\n",
      "ok\n",
      "\n",
      "----------------------------------------------------------------------\n",
      "Ran 2 tests in 38.901s\n",
      "\n",
      "OK\n"
     ]
    }
   ],
   "source": [
    "suite_runner.run_test_suite(suite_conf, enable_logger=True)"
   ]
  },
  {
   "cell_type": "code",
   "execution_count": 13,
   "metadata": {
    "collapsed": false
   },
   "outputs": [
    {
     "name": "stderr",
     "output_type": "stream",
     "text": [
      "2016-11-11 15:59:29,745 INFO: Create a history '_WorkflowTestHistory_7224727d-a81f-11e6-b55e-a45e60c4fc6b' (id: u'c8a1d1385ed48f8d')\n",
      "2016-11-11 15:59:31,213 INFO: Workflow '_WorkflowTest_Change Case (imported from API)' (id: 0b900c60f93c0654) running ...\n",
      "2016-11-11 15:59:43,757 INFO: Workflow '_WorkflowTest_Change Case (imported from API)' (id: 0b900c60f93c0654) executed\n",
      "2016-11-11 15:59:43,758 INFO: Checking test output: ...\n",
      "2016-11-11 15:59:43,802 INFO: Checking test output: DONE\n",
      "2016-11-11 15:59:44,882 INFO: Create a history '_WorkflowTestHistory_7b272663-a81f-11e6-896c-a45e60c4fc6b' (id: u'2d190d7d262b60f4')\n",
      "2016-11-11 15:59:53,943 INFO: Workflow '_WorkflowTest_Multivariate (imported from API)' (id: 59ace41fc068d3ad) running ...\n",
      "2016-11-11 16:00:08,216 INFO: Workflow '_WorkflowTest_Multivariate (imported from API)' (id: 59ace41fc068d3ad) executed\n",
      "2016-11-11 16:00:08,219 INFO: Checking test output: ...\n",
      "2016-11-11 16:00:08,336 INFO: Checking test output: DONE\n"
     ]
    }
   ],
   "source": [
    "test_results = suite_runner.run_tests(suite_conf, enable_logger=True)"
   ]
  },
  {
   "cell_type": "code",
   "execution_count": 14,
   "metadata": {
    "collapsed": false
   },
   "outputs": [
    {
     "name": "stdout",
     "output_type": "stream",
     "text": [
      "[Test 7224727d-a81f-11e6-b55e-a45e60c4fc6b: workflow _WorkflowTest_Change Case (imported from API), intputs=[InputText], outputs=[OutputText: OK], Test 7b272663-a81f-11e6-896c-a45e60c4fc6b: workflow _WorkflowTest_Multivariate (imported from API), intputs=[DataMatrix,SampleMetadata,VariableMetadata], outputs=[variableMetadata_out: OK, sampleMetadata_out: OK]]\n"
     ]
    }
   ],
   "source": [
    "print test_results"
   ]
  },
  {
   "cell_type": "code",
   "execution_count": 15,
   "metadata": {
    "collapsed": false
   },
   "outputs": [
    {
     "name": "stdout",
     "output_type": "stream",
     "text": [
      "Test 7224727d-a81f-11e6-b55e-a45e60c4fc6b:\n",
      "\t - workflow: [_WorkflowTest_Change Case (imported from API)] \n",
      "\t - results: {u'OutputText': True}\n",
      "Test 7b272663-a81f-11e6-896c-a45e60c4fc6b:\n",
      "\t - workflow: [_WorkflowTest_Multivariate (imported from API)] \n",
      "\t - results: {u'variableMetadata_out': True, u'sampleMetadata_out': True}\n"
     ]
    }
   ],
   "source": [
    "for r in test_results:\n",
    "    print(\"Test %s:\\n\\t - workflow: [%s] \\n\\t - results: %r\" % (r.test_id, r.workflow.name, r.results))"
   ]
  },
  {
   "cell_type": "code",
   "execution_count": 16,
   "metadata": {
    "collapsed": true
   },
   "outputs": [],
   "source": [
    "a_result = test_results[0]"
   ]
  },
  {
   "cell_type": "code",
   "execution_count": 17,
   "metadata": {
    "collapsed": false
   },
   "outputs": [
    {
     "name": "stdout",
     "output_type": "stream",
     "text": [
      "Help on instance of WorkflowTestResult in module wft4galaxy:\n",
      "\n",
      "class WorkflowTestResult\n",
      " |  Class for representing the result of a workflow test.\n",
      " |  \n",
      " |  Methods defined here:\n",
      " |  \n",
      " |  __init__(self, test_id, workflow, inputs, outputs, output_history, expected_outputs, missing_tools, results, output_file_map, output_folder='results')\n",
      " |  \n",
      " |  __repr__(self)\n",
      " |  \n",
      " |  __str__(self)\n",
      " |  \n",
      " |  check_output(self, output)\n",
      " |      Assert whether the actual `output` is equal to the expected accordingly\n",
      " |      to its associated `comparator` function.\n",
      " |      \n",
      " |      :type output: str or dict\n",
      " |      :param output: output name\n",
      " |      \n",
      " |      :rtype: bool\n",
      " |      :return: ``True`` if the test is passed; ``False`` otherwise.\n",
      " |  \n",
      " |  check_outputs(self)\n",
      " |      Return a map of pairs <OUTPUT_NAME>:<RESULT>, where <RESULT> is ``True``\n",
      " |      if the actual `OUTPUT_NAME` is equal to the expected accordingly\n",
      " |      to its associated `comparator` function.\n",
      " |      \n",
      " |      :rtype: dict\n",
      " |      :return: map of output results\n",
      " |  \n",
      " |  failed(self)\n",
      " |      Assert whether the test is failed.\n",
      " |      \n",
      " |      :rtype: bool\n",
      " |      :return: ``True`` if the test is failed; ``False`` otherwise.\n",
      " |  \n",
      " |  passed(self)\n",
      " |      Assert whether the test is passed.\n",
      " |      \n",
      " |      :rtype: bool\n",
      " |      :return: ``True`` if the test is passed; ``False`` otherwise.\n",
      "\n"
     ]
    }
   ],
   "source": [
    "help(a_result)"
   ]
  },
  {
   "cell_type": "code",
   "execution_count": 18,
   "metadata": {
    "collapsed": false
   },
   "outputs": [
    {
     "name": "stdout",
     "output_type": "stream",
     "text": [
      "Outputs:  [u'OutputText']\n"
     ]
    }
   ],
   "source": [
    "print \"Outputs: \", a_result.results.keys()"
   ]
  },
  {
   "cell_type": "code",
   "execution_count": 19,
   "metadata": {
    "collapsed": false
   },
   "outputs": [
    {
     "data": {
      "text/plain": [
       "(True, False)"
      ]
     },
     "execution_count": 19,
     "metadata": {},
     "output_type": "execute_result"
    }
   ],
   "source": [
    "a_result.passed(), a_result.failed()"
   ]
  },
  {
   "cell_type": "code",
   "execution_count": 20,
   "metadata": {
    "collapsed": false
   },
   "outputs": [
    {
     "data": {
      "text/plain": [
       "True"
      ]
     },
     "execution_count": 20,
     "metadata": {},
     "output_type": "execute_result"
    }
   ],
   "source": [
    "a_result.check_output(\"OutputText\")"
   ]
  }
 ],
 "metadata": {
  "kernelspec": {
   "display_name": "Python 2",
   "language": "python",
   "name": "python2"
  },
  "language_info": {
   "codemirror_mode": {
    "name": "ipython",
    "version": 2
   },
   "file_extension": ".py",
   "mimetype": "text/x-python",
   "name": "python",
   "nbconvert_exporter": "python",
   "pygments_lexer": "ipython2",
   "version": "2.7.11"
  }
 },
 "nbformat": 4,
 "nbformat_minor": 1
}
