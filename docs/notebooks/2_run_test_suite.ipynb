{
 "cells": [
  {
   "cell_type": "markdown",
   "metadata": {},
   "source": [
    "# Run a test suite"
   ]
  },
  {
   "cell_type": "code",
   "execution_count": 15,
   "metadata": {
    "collapsed": false
   },
   "outputs": [],
   "source": [
    "import os, pprint"
   ]
  },
  {
   "cell_type": "code",
   "execution_count": 16,
   "metadata": {
    "collapsed": true
   },
   "outputs": [],
   "source": [
    "EXAMPLES_FOLDER = \"../examples\""
   ]
  },
  {
   "cell_type": "code",
   "execution_count": 17,
   "metadata": {
    "collapsed": false
   },
   "outputs": [
    {
     "data": {
      "text/plain": [
       "['.tools',\n",
       " 'change_case',\n",
       " 'multivariate',\n",
       " 'results',\n",
       " 'sacurine',\n",
       " 'workflow-test-suite-2.yml',\n",
       " 'workflow-test-suite-1.yml',\n",
       " 'workflows.json']"
      ]
     },
     "execution_count": 17,
     "metadata": {},
     "output_type": "execute_result"
    }
   ],
   "source": [
    "[f for f in os.listdir(EXAMPLES_FOLDER) if f not in [\".DS_Store\", \".ipynb_checkpoints\"]]"
   ]
  },
  {
   "cell_type": "code",
   "execution_count": 4,
   "metadata": {
    "collapsed": true
   },
   "outputs": [],
   "source": [
    "suite_conf_filename = os.path.join(EXAMPLES_FOLDER, \"workflow-test-suite-2.yml\")\n",
    "suite_conf_filename = os.path.join(EXAMPLES_FOLDER, \"workflow-test-suite-1.yml\")"
   ]
  },
  {
   "cell_type": "code",
   "execution_count": 5,
   "metadata": {
    "collapsed": false
   },
   "outputs": [
    {
     "name": "stdout",
     "output_type": "stream",
     "text": [
      "enable_logger: false\n",
      "workflows:\n",
      "  change_case:\n",
      "    expected:\n",
      "      output2: expected_output_2\n",
      "      output1: expected_output\n",
      "    inputs:\n",
      "      Input Dataset: input\n",
      "    base_path: change_case\n",
      "    file: workflow.ga\n",
      "\n"
     ]
    }
   ],
   "source": [
    "import ruamel.yaml as yaml\n",
    "with open(suite_conf_filename, \"r\") as fp:\n",
    "    data = yaml.load(fp)\n",
    "    print yaml.round_trip_dump(data, indent=2, block_seq_indent=3)"
   ]
  },
  {
   "cell_type": "code",
   "execution_count": 6,
   "metadata": {
    "collapsed": false
   },
   "outputs": [],
   "source": [
    "from wft4galaxy import WorkflowTestConfiguration"
   ]
  },
  {
   "cell_type": "code",
   "execution_count": 7,
   "metadata": {
    "collapsed": false
   },
   "outputs": [
    {
     "name": "stdout",
     "output_type": "stream",
     "text": [
      "Help on function load in module wft4galaxy:\n",
      "\n",
      "load(filename='workflows.yml', workflow_test_name=None, file_format='YAML', output_folder=None)\n",
      "    Load the configuration of a workflow test suite or a single workflow test\n",
      "    from a YAML or JSON configuration file.\n",
      "    \n",
      "    :type filename: str\n",
      "    :param filename: the path of the file containing the suite definition\n",
      "    \n",
      "    :type workflow_test_name: str\n",
      "    :param workflow_test_name: the optional name of a workflow test\n",
      "    \n",
      "    :type file_format: str\n",
      "    :param file_format: ``YAML`` or ``JSON``\n",
      "    \n",
      "    :rtype: dict or :class:`WorkflowTestConfiguration`\n",
      "    :return: a dictionary containing the configuration of a workflow test suite or\n",
      "        a single workflow test configuration (i.e., an instance of :class:`WorkflowTestConfiguration`)\n",
      "\n"
     ]
    }
   ],
   "source": [
    "help(WorkflowTestConfiguration.load)"
   ]
  },
  {
   "cell_type": "code",
   "execution_count": 8,
   "metadata": {
    "collapsed": true
   },
   "outputs": [],
   "source": [
    "suite_conf = WorkflowTestConfiguration.load(suite_conf_filename)"
   ]
  },
  {
   "cell_type": "code",
   "execution_count": 9,
   "metadata": {
    "collapsed": false
   },
   "outputs": [
    {
     "name": "stdout",
     "output_type": "stream",
     "text": [
      "{   'enable_logger': False,\n",
      "    'galaxy_api_key': None,\n",
      "    'galaxy_url': None,\n",
      "    'output_folder': 'results',\n",
      "    'workflows': {   'change_case': WorkflowTestConfig: name=change_case, file=workflow.ga, inputs=[Input Dataset], expected_outputs=[output2,output1]}}\n"
     ]
    }
   ],
   "source": [
    "pp = pprint.PrettyPrinter(indent=4)\n",
    "pp.pprint(suite_conf)"
   ]
  },
  {
   "cell_type": "code",
   "execution_count": 10,
   "metadata": {
    "collapsed": false
   },
   "outputs": [
    {
     "name": "stdout",
     "output_type": "stream",
     "text": [
      "{'change_case': WorkflowTestConfig: name=change_case, file=workflow.ga, inputs=[Input Dataset], expected_outputs=[output2,output1]}\n"
     ]
    }
   ],
   "source": [
    "import pprint\n",
    "pprint.pprint(suite_conf[\"workflows\"])"
   ]
  },
  {
   "cell_type": "code",
   "execution_count": 11,
   "metadata": {
    "collapsed": false
   },
   "outputs": [
    {
     "name": "stdout",
     "output_type": "stream",
     "text": [
      "WorkflowTestConfig: name=change_case, file=workflow.ga, inputs=[Input Dataset], expected_outputs=[output2,output1]\n"
     ]
    }
   ],
   "source": [
    "print(suite_conf[\"workflows\"][\"change_case\"])"
   ]
  },
  {
   "cell_type": "code",
   "execution_count": 12,
   "metadata": {
    "collapsed": false
   },
   "outputs": [],
   "source": [
    "from wft4galaxy import WorkflowTestSuite\n",
    "suite_runner = WorkflowTestSuite()"
   ]
  },
  {
   "cell_type": "code",
   "execution_count": 13,
   "metadata": {
    "collapsed": false
   },
   "outputs": [
    {
     "name": "stderr",
     "output_type": "stream",
     "text": [
      "Workflow Test: 'change_case' ... 2016-11-09 06:59:39,772 DEBUG: Using default params\n",
      "2016-11-09 06:59:39,803 DEBUG: Checking required tools ...\n",
      "2016-11-09 06:59:39,893 DEBUG: Missing tools: None\n",
      "2016-11-09 06:59:39,894 DEBUG: Checking required tools: DONE\n",
      "2016-11-09 06:59:40,558 INFO: Create a history '_WorkflowTestHistory_b39af94a-a641-11e6-95a9-a8667f33b7fc' (id: u'06ec17aefa2d49dd')\n",
      "2016-11-09 06:59:42,518 INFO: Workflow '_WorkflowTest_Change Case (imported from API)' (id: 06ec17aefa2d49dd) running ...\n",
      "2016-11-09 06:59:42,520 ERROR: Runtime error: not enough datasets for \"InputText\"\n",
      "2016-11-09 06:59:42,522 DEBUG: Cleanup of workflow test 'b39af94a-a641-11e6-95a9-a8667f33b7fc'...\n",
      "2016-11-09 06:59:42,858 DEBUG: Cleanup of workflow test 'b39af94a-a641-11e6-95a9-a8667f33b7fc': DONE\n",
      "2016-11-09 06:59:42,859 ERROR: Runtime error: not enough datasets for \"InputText\"\n",
      "FAIL\n",
      "\n",
      "======================================================================\n",
      "FAIL: Workflow Test: 'change_case'\n",
      "----------------------------------------------------------------------\n",
      "Traceback (most recent call last):\n",
      "  File \"build/bdist.macosx-10.11-x86_64/egg/wft4galaxy.py\", line 1179, in run_test\n",
      "    raise AssertionError(error_msg)\n",
      "AssertionError: Runtime error: not enough datasets for \"InputText\"\n",
      "\n",
      "----------------------------------------------------------------------\n",
      "Ran 1 test in 3.702s\n",
      "\n",
      "FAILED (failures=1)\n",
      "2016-11-09 06:59:42,864 DEBUG: Cleanup of workflow test 'b39af94a-a641-11e6-95a9-a8667f33b7fc'...\n",
      "2016-11-09 06:59:42,866 DEBUG: Cleanup of workflow test 'b39af94a-a641-11e6-95a9-a8667f33b7fc': DONE\n"
     ]
    }
   ],
   "source": [
    "suite_runner.run_test_suite(suite_conf, enable_debug=True)"
   ]
  },
  {
   "cell_type": "code",
   "execution_count": 14,
   "metadata": {
    "collapsed": false
   },
   "outputs": [
    {
     "name": "stderr",
     "output_type": "stream",
     "text": [
      "2016-11-09 06:59:44,021 DEBUG: Using default params\n",
      "2016-11-09 06:59:44,023 DEBUG: Checking required tools ...\n",
      "2016-11-09 06:59:44,394 DEBUG: Missing tools: None\n",
      "2016-11-09 06:59:44,396 DEBUG: Checking required tools: DONE\n",
      "2016-11-09 06:59:45,884 INFO: Create a history '_WorkflowTestHistory_b62353d9-a641-11e6-8421-a8667f33b7fc' (id: u'b8a0d6158b9961df')\n",
      "2016-11-09 06:59:49,459 INFO: Workflow '_WorkflowTest_Change Case (imported from API)' (id: b8a0d6158b9961df) running ...\n",
      "2016-11-09 06:59:49,461 ERROR: Runtime error: not enough datasets for \"InputText\"\n",
      "2016-11-09 06:59:49,463 DEBUG: Cleanup of workflow test 'b62353d9-a641-11e6-8421-a8667f33b7fc'...\n",
      "2016-11-09 06:59:49,956 DEBUG: Cleanup of workflow test 'b62353d9-a641-11e6-8421-a8667f33b7fc': DONE\n",
      "2016-11-09 06:59:49,957 ERROR: Runtime error: not enough datasets for \"InputText\"\n"
     ]
    },
    {
     "ename": "AssertionError",
     "evalue": "Runtime error: not enough datasets for \"InputText\"",
     "output_type": "error",
     "traceback": [
      "\u001b[0;31m---------------------------------------------------------------------------\u001b[0m",
      "\u001b[0;31mAssertionError\u001b[0m                            Traceback (most recent call last)",
      "\u001b[0;32m<ipython-input-14-389ff3219014>\u001b[0m in \u001b[0;36m<module>\u001b[0;34m()\u001b[0m\n\u001b[0;32m----> 1\u001b[0;31m \u001b[0mtest_results\u001b[0m \u001b[0;34m=\u001b[0m \u001b[0msuite_runner\u001b[0m\u001b[0;34m.\u001b[0m\u001b[0mrun_tests\u001b[0m\u001b[0;34m(\u001b[0m\u001b[0msuite_conf\u001b[0m\u001b[0;34m,\u001b[0m \u001b[0menable_debug\u001b[0m\u001b[0;34m=\u001b[0m\u001b[0mTrue\u001b[0m\u001b[0;34m)\u001b[0m\u001b[0;34m\u001b[0m\u001b[0m\n\u001b[0m",
      "\u001b[0;32m/usr/local/lib/python2.7/site-packages/wft4galaxy-0.1-py2.7.egg/wft4galaxy.pyc\u001b[0m in \u001b[0;36mrun_tests\u001b[0;34m(self, workflow_tests_config, enable_logger, enable_debug, disable_cleanup, disable_assertions)\u001b[0m\n\u001b[1;32m    874\u001b[0m         \u001b[0;32mfor\u001b[0m \u001b[0mtest_config\u001b[0m \u001b[0;32min\u001b[0m \u001b[0msuite_config\u001b[0m\u001b[0;34m[\u001b[0m\u001b[0;34m\"workflows\"\u001b[0m\u001b[0;34m]\u001b[0m\u001b[0;34m.\u001b[0m\u001b[0mvalues\u001b[0m\u001b[0;34m(\u001b[0m\u001b[0;34m)\u001b[0m\u001b[0;34m:\u001b[0m\u001b[0;34m\u001b[0m\u001b[0m\n\u001b[1;32m    875\u001b[0m             \u001b[0mrunner\u001b[0m \u001b[0;34m=\u001b[0m \u001b[0mself\u001b[0m\u001b[0;34m.\u001b[0m\u001b[0m_create_test_runner\u001b[0m\u001b[0;34m(\u001b[0m\u001b[0mtest_config\u001b[0m\u001b[0;34m,\u001b[0m \u001b[0msuite_config\u001b[0m\u001b[0;34m)\u001b[0m\u001b[0;34m\u001b[0m\u001b[0m\n\u001b[0;32m--> 876\u001b[0;31m             \u001b[0mresult\u001b[0m \u001b[0;34m=\u001b[0m \u001b[0mrunner\u001b[0m\u001b[0;34m.\u001b[0m\u001b[0mrun_test\u001b[0m\u001b[0;34m(\u001b[0m\u001b[0;34m)\u001b[0m\u001b[0;34m\u001b[0m\u001b[0m\n\u001b[0m\u001b[1;32m    877\u001b[0m             \u001b[0mresults\u001b[0m\u001b[0;34m.\u001b[0m\u001b[0mappend\u001b[0m\u001b[0;34m(\u001b[0m\u001b[0mresult\u001b[0m\u001b[0;34m)\u001b[0m\u001b[0;34m\u001b[0m\u001b[0m\n\u001b[1;32m    878\u001b[0m         \u001b[0;31m# cleanup\u001b[0m\u001b[0;34m\u001b[0m\u001b[0;34m\u001b[0m\u001b[0m\n",
      "\u001b[0;32m/usr/local/lib/python2.7/site-packages/wft4galaxy-0.1-py2.7.egg/wft4galaxy.pyc\u001b[0m in \u001b[0;36mrun_test\u001b[0;34m(self, base_path, inputs, params, expected_outputs, output_folder, disable_assertions, disable_cleanup, enable_logger, enable_debug)\u001b[0m\n\u001b[1;32m   1177\u001b[0m             \u001b[0m_logger\u001b[0m\u001b[0;34m.\u001b[0m\u001b[0merror\u001b[0m\u001b[0;34m(\u001b[0m\u001b[0merror_msg\u001b[0m\u001b[0;34m)\u001b[0m\u001b[0;34m\u001b[0m\u001b[0m\n\u001b[1;32m   1178\u001b[0m             \u001b[0;32mif\u001b[0m \u001b[0;32mnot\u001b[0m \u001b[0mdisable_assertions\u001b[0m\u001b[0;34m:\u001b[0m\u001b[0;34m\u001b[0m\u001b[0m\n\u001b[0;32m-> 1179\u001b[0;31m                 \u001b[0;32mraise\u001b[0m \u001b[0mAssertionError\u001b[0m\u001b[0;34m(\u001b[0m\u001b[0merror_msg\u001b[0m\u001b[0;34m)\u001b[0m\u001b[0;34m\u001b[0m\u001b[0m\n\u001b[0m\u001b[1;32m   1180\u001b[0m \u001b[0;34m\u001b[0m\u001b[0m\n\u001b[1;32m   1181\u001b[0m         \u001b[0;32mreturn\u001b[0m \u001b[0mtest_result\u001b[0m\u001b[0;34m\u001b[0m\u001b[0m\n",
      "\u001b[0;31mAssertionError\u001b[0m: Runtime error: not enough datasets for \"InputText\""
     ]
    }
   ],
   "source": [
    "test_results = suite_runner.run_tests(suite_conf, enable_debug=True)"
   ]
  },
  {
   "cell_type": "code",
   "execution_count": null,
   "metadata": {
    "collapsed": false
   },
   "outputs": [],
   "source": [
    "print test_results"
   ]
  },
  {
   "cell_type": "code",
   "execution_count": null,
   "metadata": {
    "collapsed": false
   },
   "outputs": [],
   "source": [
    "for r in test_results:\n",
    "    print(\"Test %s:\\n\\t - workflow: [%s] \\n\\t - results: %r\" % (r.test_id, r.workflow.name, r.results))"
   ]
  },
  {
   "cell_type": "code",
   "execution_count": null,
   "metadata": {
    "collapsed": true
   },
   "outputs": [],
   "source": [
    "a_result = test_results[0]"
   ]
  },
  {
   "cell_type": "code",
   "execution_count": null,
   "metadata": {
    "collapsed": false
   },
   "outputs": [],
   "source": [
    "help(a_result)"
   ]
  },
  {
   "cell_type": "code",
   "execution_count": null,
   "metadata": {
    "collapsed": false
   },
   "outputs": [],
   "source": [
    "print \"Outputs: \", a_result.results.keys()"
   ]
  },
  {
   "cell_type": "code",
   "execution_count": null,
   "metadata": {
    "collapsed": false
   },
   "outputs": [],
   "source": [
    "a_result.passed(), a_result.failed()"
   ]
  },
  {
   "cell_type": "code",
   "execution_count": null,
   "metadata": {
    "collapsed": false
   },
   "outputs": [],
   "source": [
    "a_result.check_output(\"output1\")"
   ]
  }
 ],
 "metadata": {
  "kernelspec": {
   "display_name": "Python 2",
   "language": "python",
   "name": "python2"
  },
  "language_info": {
   "codemirror_mode": {
    "name": "ipython",
    "version": 2
   },
   "file_extension": ".py",
   "mimetype": "text/x-python",
   "name": "python",
   "nbconvert_exporter": "python",
   "pygments_lexer": "ipython2",
   "version": "2.7.11"
  }
 },
 "nbformat": 4,
 "nbformat_minor": 1
}
