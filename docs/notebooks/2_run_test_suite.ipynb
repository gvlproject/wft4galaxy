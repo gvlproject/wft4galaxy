{
 "cells": [
  {
   "cell_type": "markdown",
   "metadata": {},
   "source": [
    "# Run a test suite"
   ]
  },
  {
   "cell_type": "code",
   "execution_count": 1,
   "metadata": {
    "collapsed": false
   },
   "outputs": [],
   "source": [
    "import os, pprint"
   ]
  },
  {
   "cell_type": "code",
   "execution_count": 3,
   "metadata": {
    "collapsed": true
   },
   "outputs": [],
   "source": [
    "EXAMPLES_FOLDER = \"../examples\""
   ]
  },
  {
   "cell_type": "code",
   "execution_count": 4,
   "metadata": {
    "collapsed": false
   },
   "outputs": [
    {
     "data": {
      "text/plain": [
       "['.tools',\n",
       " 'change_case',\n",
       " 'multivariate',\n",
       " 'results',\n",
       " 'sacurine',\n",
       " 'workflow-testsuite-conf.yml',\n",
       " 'workflows-base.yml',\n",
       " 'workflows.json']"
      ]
     },
     "execution_count": 4,
     "metadata": {},
     "output_type": "execute_result"
    }
   ],
   "source": [
    "[f for f in os.listdir(EXAMPLES_FOLDER) if f not in [\".DS_Store\", \".ipynb_checkpoints\"]]"
   ]
  },
  {
   "cell_type": "code",
   "execution_count": 5,
   "metadata": {
    "collapsed": true
   },
   "outputs": [],
   "source": [
    "suite_conf_filename = os.path.join(EXAMPLES_FOLDER, \"workflow-testsuite-conf.yml\")\n",
    "suite_conf_filename = os.path.join(EXAMPLES_FOLDER, \"workflows-base.yml\")"
   ]
  },
  {
   "cell_type": "code",
   "execution_count": 6,
   "metadata": {
    "collapsed": false
   },
   "outputs": [
    {
     "name": "stdout",
     "output_type": "stream",
     "text": [
      "enable_logger: false\n",
      "workflows:\n",
      "  change_case:\n",
      "    expected:\n",
      "      output2: expected_output_2\n",
      "      output1: expected_output_1\n",
      "    inputs:\n",
      "      Input Dataset: input\n",
      "    base_path: change_case\n",
      "    file: workflow.ga\n",
      "\n"
     ]
    }
   ],
   "source": [
    "import ruamel.yaml as yaml\n",
    "with open(suite_conf_filename, \"r\") as fp:\n",
    "    data = yaml.load(fp)\n",
    "    print yaml.round_trip_dump(data, indent=2, block_seq_indent=3)"
   ]
  },
  {
   "cell_type": "code",
   "execution_count": 7,
   "metadata": {
    "collapsed": false
   },
   "outputs": [],
   "source": [
    "from wft4galaxy import WorkflowTestConfiguration"
   ]
  },
  {
   "cell_type": "code",
   "execution_count": 8,
   "metadata": {
    "collapsed": false
   },
   "outputs": [
    {
     "name": "stdout",
     "output_type": "stream",
     "text": [
      "Help on function load in module wft4galaxy:\n",
      "\n",
      "load(filename='workflows.yml', workflow_test_name=None, file_format='YAML', output_folder=None)\n",
      "    Load the configuration of a workflow test suite or a single workflow test\n",
      "    from a YAML or JSON configuration file.\n",
      "    \n",
      "    :type filename: str\n",
      "    :param filename: the path of the file containing the suite definition\n",
      "    \n",
      "    :type workflow_test_name: str\n",
      "    :param workflow_test_name: the optional name of a workflow test\n",
      "    \n",
      "    :type file_format: str\n",
      "    :param file_format: ``YAML`` or ``JSON``\n",
      "    \n",
      "    :rtype: dict or :class:`WorkflowTestConfiguration`\n",
      "    :return: a dictionary containing the configuration of a workflow test suite or\n",
      "        a single workflow test configuration (i.e., an instance of :class:`WorkflowTestConfiguration`)\n",
      "\n"
     ]
    }
   ],
   "source": [
    "help(WorkflowTestConfiguration.load)"
   ]
  },
  {
   "cell_type": "code",
   "execution_count": 9,
   "metadata": {
    "collapsed": true
   },
   "outputs": [],
   "source": [
    "suite_conf = WorkflowTestConfiguration.load(suite_conf_filename)"
   ]
  },
  {
   "cell_type": "code",
   "execution_count": 10,
   "metadata": {
    "collapsed": false
   },
   "outputs": [
    {
     "name": "stdout",
     "output_type": "stream",
     "text": [
      "{   'enable_logger': False,\n",
      "    'galaxy_api_key': None,\n",
      "    'galaxy_url': None,\n",
      "    'output_folder': 'results',\n",
      "    'workflows': {   'change_case': WorkflowTestConfig: name=change_case, file=workflow.ga, inputs=[Input Dataset], expected_outputs=[output2,output1]}}\n"
     ]
    }
   ],
   "source": [
    "pp = pprint.PrettyPrinter(indent=4)\n",
    "pp.pprint(suite_conf)"
   ]
  },
  {
   "cell_type": "code",
   "execution_count": 11,
   "metadata": {
    "collapsed": false
   },
   "outputs": [
    {
     "name": "stdout",
     "output_type": "stream",
     "text": [
      "{'change_case': WorkflowTestConfig: name=change_case, file=workflow.ga, inputs=[Input Dataset], expected_outputs=[output2,output1]}\n"
     ]
    }
   ],
   "source": [
    "import pprint\n",
    "pprint.pprint(suite_conf[\"workflows\"])"
   ]
  },
  {
   "cell_type": "code",
   "execution_count": 12,
   "metadata": {
    "collapsed": false
   },
   "outputs": [
    {
     "name": "stdout",
     "output_type": "stream",
     "text": [
      "WorkflowTestConfig: name=change_case, file=workflow.ga, inputs=[Input Dataset], expected_outputs=[output2,output1]\n"
     ]
    }
   ],
   "source": [
    "print(suite_conf[\"workflows\"][\"change_case\"])"
   ]
  },
  {
   "cell_type": "code",
   "execution_count": 13,
   "metadata": {
    "collapsed": false
   },
   "outputs": [],
   "source": [
    "from wft4galaxy import WorkflowTestSuite\n",
    "suite_runner = WorkflowTestSuite()"
   ]
  },
  {
   "cell_type": "code",
   "execution_count": 14,
   "metadata": {
    "collapsed": false
   },
   "outputs": [
    {
     "name": "stderr",
     "output_type": "stream",
     "text": [
      "Workflow Test: 'change_case' ... 2016-11-09 04:20:17,929 DEBUG: Using default params\n",
      "2016-11-09 04:20:17,957 DEBUG: Checking required tools ...\n",
      "2016-11-09 04:20:18,080 DEBUG: Missing tools: None\n",
      "2016-11-09 04:20:18,093 DEBUG: Checking required tools: DONE\n",
      "2016-11-09 04:20:18,513 INFO: Create a history '_WorkflowTestHistory_704d66fd-a62b-11e6-bec8-a8667f33b7fc' (id: u'13cea0e6d733b865')\n",
      "2016-11-09 04:20:19,845 INFO: Workflow '_WorkflowTest_TestWorkflow (imported from API)' (id: 915ae9a80309f157) running ...\n",
      "2016-11-09 04:20:36,994 INFO: Workflow '_WorkflowTest_TestWorkflow (imported from API)' (id: 915ae9a80309f157) executed\n",
      "2016-11-09 04:20:36,996 INFO: Checking test output: ...\n",
      "2016-11-09 04:20:36,997 DEBUG: Checking OUTPUT 'output1' ...\n",
      "2016-11-09 04:20:37,153 DEBUG: Downloaded output output1: dataset_id '6d2d4099ead26222', filename 'results/change_case/output1'\n",
      "2016-11-09 04:20:37,159 DEBUG: Configured comparator function: None\n",
      "2016-11-09 04:20:37,161 DEBUG: Using default comparator....\n",
      "2016-11-09 04:20:37,183 DEBUG: Output 'output1' is equal to the expected: dataset '6d2d4099ead26222', actual-output 'results/change_case/output1', expected-output '/Users/kikkomep/CloudDrives/Dropbox/Work/Crs4/Projects/PhenoMeNal/Repositories/WorkflowTester/docs/examples/change_case/expected_output_1'\n",
      "2016-11-09 04:20:37,186 DEBUG: Checking OUTPUT 'output1': DONE\n",
      "2016-11-09 04:20:37,197 DEBUG: Checking OUTPUT 'output2' ...\n",
      "2016-11-09 04:20:37,391 DEBUG: Downloaded output output2: dataset_id '153f67c9d7e0d19a', filename 'results/change_case/output2'\n",
      "2016-11-09 04:20:37,393 DEBUG: Configured comparator function: None\n",
      "2016-11-09 04:20:37,394 DEBUG: Using default comparator....\n",
      "2016-11-09 04:20:37,423 DEBUG: Output 'output2' is equal to the expected: dataset '153f67c9d7e0d19a', actual-output 'results/change_case/output2', expected-output '/Users/kikkomep/CloudDrives/Dropbox/Work/Crs4/Projects/PhenoMeNal/Repositories/WorkflowTester/docs/examples/change_case/expected_output_2'\n",
      "2016-11-09 04:20:37,432 DEBUG: Checking OUTPUT 'output2': DONE\n",
      "2016-11-09 04:20:37,436 INFO: Checking test output: DONE\n",
      "2016-11-09 04:20:37,439 DEBUG: Cleanup of workflow test '704d66fd-a62b-11e6-bec8-a8667f33b7fc'...\n",
      "2016-11-09 04:20:38,050 DEBUG: Cleaning output folder: output2\n",
      "2016-11-09 04:20:38,051 DEBUG: Deleted output file 'results/change_case/output2'.\n",
      "2016-11-09 04:20:38,052 DEBUG: Cleaning output folder: output1\n",
      "2016-11-09 04:20:38,054 DEBUG: Deleted output file 'results/change_case/output1'.\n",
      "2016-11-09 04:20:38,460 DEBUG: Cleanup of workflow test '704d66fd-a62b-11e6-bec8-a8667f33b7fc': DONE\n",
      "ok\n",
      "\n",
      "----------------------------------------------------------------------\n",
      "Ran 1 test in 21.017s\n",
      "\n",
      "OK\n",
      "2016-11-09 04:20:38,462 DEBUG: Cleanup of workflow test '704d66fd-a62b-11e6-bec8-a8667f33b7fc'...\n",
      "2016-11-09 04:20:38,617 DEBUG: Cleaning output folder: output2\n",
      "2016-11-09 04:20:38,617 DEBUG: Cleaning output folder: output1\n",
      "2016-11-09 04:20:38,618 DEBUG: Cleanup of workflow test '704d66fd-a62b-11e6-bec8-a8667f33b7fc': DONE\n"
     ]
    }
   ],
   "source": [
    "suite_runner.run_test_suite(suite_conf, enable_debug=True)"
   ]
  },
  {
   "cell_type": "code",
   "execution_count": 15,
   "metadata": {
    "collapsed": false
   },
   "outputs": [
    {
     "name": "stderr",
     "output_type": "stream",
     "text": [
      "2016-11-09 04:20:44,968 DEBUG: Using default params\n",
      "2016-11-09 04:20:44,969 DEBUG: Checking required tools ...\n",
      "2016-11-09 04:20:45,040 DEBUG: Missing tools: None\n",
      "2016-11-09 04:20:45,042 DEBUG: Checking required tools: DONE\n",
      "2016-11-09 04:20:45,479 INFO: Create a history '_WorkflowTestHistory_806b3819-a62b-11e6-856b-a8667f33b7fc' (id: u'fd767e8b7355e21a')\n",
      "2016-11-09 04:20:47,668 INFO: Workflow '_WorkflowTest_TestWorkflow (imported from API)' (id: 13cea0e6d733b865) running ...\n",
      "2016-11-09 04:21:04,203 INFO: Workflow '_WorkflowTest_TestWorkflow (imported from API)' (id: 13cea0e6d733b865) executed\n",
      "2016-11-09 04:21:04,205 INFO: Checking test output: ...\n",
      "2016-11-09 04:21:04,207 DEBUG: Checking OUTPUT 'output1' ...\n",
      "2016-11-09 04:21:04,332 DEBUG: Downloaded output output1: dataset_id '8ad39366bdad8699', filename 'results/change_case/output1'\n",
      "2016-11-09 04:21:04,335 DEBUG: Configured comparator function: None\n",
      "2016-11-09 04:21:04,336 DEBUG: Using default comparator....\n",
      "2016-11-09 04:21:04,356 DEBUG: Output 'output1' is equal to the expected: dataset '8ad39366bdad8699', actual-output 'results/change_case/output1', expected-output '/Users/kikkomep/CloudDrives/Dropbox/Work/Crs4/Projects/PhenoMeNal/Repositories/WorkflowTester/docs/examples/change_case/expected_output_1'\n",
      "2016-11-09 04:21:04,357 DEBUG: Checking OUTPUT 'output1': DONE\n",
      "2016-11-09 04:21:04,359 DEBUG: Checking OUTPUT 'output2' ...\n",
      "2016-11-09 04:21:04,500 DEBUG: Downloaded output output2: dataset_id '7b326180327c3fcc', filename 'results/change_case/output2'\n",
      "2016-11-09 04:21:04,503 DEBUG: Configured comparator function: None\n",
      "2016-11-09 04:21:04,508 DEBUG: Using default comparator....\n",
      "2016-11-09 04:21:04,538 DEBUG: Output 'output2' is equal to the expected: dataset '7b326180327c3fcc', actual-output 'results/change_case/output2', expected-output '/Users/kikkomep/CloudDrives/Dropbox/Work/Crs4/Projects/PhenoMeNal/Repositories/WorkflowTester/docs/examples/change_case/expected_output_2'\n",
      "2016-11-09 04:21:04,540 DEBUG: Checking OUTPUT 'output2': DONE\n",
      "2016-11-09 04:21:04,542 INFO: Checking test output: DONE\n",
      "2016-11-09 04:21:04,543 DEBUG: Cleanup of workflow test '806b3819-a62b-11e6-856b-a8667f33b7fc'...\n",
      "2016-11-09 04:21:04,850 DEBUG: Cleaning output folder: output2\n",
      "2016-11-09 04:21:04,854 DEBUG: Deleted output file 'results/change_case/output2'.\n",
      "2016-11-09 04:21:04,855 DEBUG: Cleaning output folder: output1\n",
      "2016-11-09 04:21:04,856 DEBUG: Deleted output file 'results/change_case/output1'.\n",
      "2016-11-09 04:21:05,016 DEBUG: Cleanup of workflow test '806b3819-a62b-11e6-856b-a8667f33b7fc': DONE\n",
      "2016-11-09 04:21:05,017 DEBUG: Cleanup of workflow test '704d66fd-a62b-11e6-bec8-a8667f33b7fc'...\n",
      "2016-11-09 04:21:05,180 DEBUG: Cleaning output folder: output2\n",
      "2016-11-09 04:21:05,181 DEBUG: Cleaning output folder: output1\n",
      "2016-11-09 04:21:05,182 DEBUG: Cleanup of workflow test '704d66fd-a62b-11e6-bec8-a8667f33b7fc': DONE\n",
      "2016-11-09 04:21:05,183 DEBUG: Cleanup of workflow test '806b3819-a62b-11e6-856b-a8667f33b7fc'...\n",
      "2016-11-09 04:21:05,375 DEBUG: Cleaning output folder: output2\n",
      "2016-11-09 04:21:05,376 DEBUG: Cleaning output folder: output1\n",
      "2016-11-09 04:21:05,377 DEBUG: Cleanup of workflow test '806b3819-a62b-11e6-856b-a8667f33b7fc': DONE\n"
     ]
    }
   ],
   "source": [
    "test_results = suite_runner.run_tests(suite_conf, enable_debug=True)"
   ]
  },
  {
   "cell_type": "code",
   "execution_count": 16,
   "metadata": {
    "collapsed": false
   },
   "outputs": [
    {
     "name": "stdout",
     "output_type": "stream",
     "text": [
      "[Test 806b3819-a62b-11e6-856b-a8667f33b7fc: workflow _WorkflowTest_TestWorkflow (imported from API), intputs=[Input Dataset], outputs=[output2: OK, output1: OK]]\n"
     ]
    }
   ],
   "source": [
    "print test_results"
   ]
  },
  {
   "cell_type": "code",
   "execution_count": 17,
   "metadata": {
    "collapsed": false
   },
   "outputs": [
    {
     "name": "stdout",
     "output_type": "stream",
     "text": [
      "Test 806b3819-a62b-11e6-856b-a8667f33b7fc:\n",
      "\t - workflow: [_WorkflowTest_TestWorkflow (imported from API)] \n",
      "\t - results: {u'output2': True, u'output1': True}\n"
     ]
    }
   ],
   "source": [
    "for r in test_results:\n",
    "    print(\"Test %s:\\n\\t - workflow: [%s] \\n\\t - results: %r\" % (r.test_id, r.workflow.name, r.results))"
   ]
  },
  {
   "cell_type": "code",
   "execution_count": 18,
   "metadata": {
    "collapsed": true
   },
   "outputs": [],
   "source": [
    "a_result = test_results[0]"
   ]
  },
  {
   "cell_type": "code",
   "execution_count": 19,
   "metadata": {
    "collapsed": false
   },
   "outputs": [
    {
     "name": "stdout",
     "output_type": "stream",
     "text": [
      "Help on instance of WorkflowTestResult in module wft4galaxy:\n",
      "\n",
      "class WorkflowTestResult\n",
      " |  Class for representing the result of a workflow test.\n",
      " |  \n",
      " |  Methods defined here:\n",
      " |  \n",
      " |  __init__(self, test_id, workflow, inputs, outputs, output_history, expected_outputs, missing_tools, results, output_file_map, output_folder='results')\n",
      " |  \n",
      " |  __repr__(self)\n",
      " |  \n",
      " |  __str__(self)\n",
      " |  \n",
      " |  check_output(self, output)\n",
      " |      Assert whether the actual `output` is equal to the expected accordingly\n",
      " |      to its associated `comparator` function.\n",
      " |      \n",
      " |      :type output: str or dict\n",
      " |      :param output: output name\n",
      " |      \n",
      " |      :rtype: bool\n",
      " |      :return: ``True`` if the test is passed; ``False`` otherwise.\n",
      " |  \n",
      " |  check_outputs(self)\n",
      " |      Return a map of pairs <OUTPUT_NAME>:<RESULT>, where <RESULT> is ``True``\n",
      " |      if the actual `OUTPUT_NAME` is equal to the expected accordingly\n",
      " |      to its associated `comparator` function.\n",
      " |      \n",
      " |      :rtype: dict\n",
      " |      :return: map of output results\n",
      " |  \n",
      " |  failed(self)\n",
      " |      Assert whether the test is failed.\n",
      " |      \n",
      " |      :rtype: bool\n",
      " |      :return: ``True`` if the test is failed; ``False`` otherwise.\n",
      " |  \n",
      " |  passed(self)\n",
      " |      Assert whether the test is passed.\n",
      " |      \n",
      " |      :rtype: bool\n",
      " |      :return: ``True`` if the test is passed; ``False`` otherwise.\n",
      "\n"
     ]
    }
   ],
   "source": [
    "help(a_result)"
   ]
  },
  {
   "cell_type": "code",
   "execution_count": 20,
   "metadata": {
    "collapsed": false
   },
   "outputs": [
    {
     "name": "stdout",
     "output_type": "stream",
     "text": [
      "Outputs:  [u'output2', u'output1']\n"
     ]
    }
   ],
   "source": [
    "print \"Outputs: \", a_result.results.keys()"
   ]
  },
  {
   "cell_type": "code",
   "execution_count": 21,
   "metadata": {
    "collapsed": false
   },
   "outputs": [
    {
     "data": {
      "text/plain": [
       "(True, False)"
      ]
     },
     "execution_count": 21,
     "metadata": {},
     "output_type": "execute_result"
    }
   ],
   "source": [
    "a_result.passed(), a_result.failed()"
   ]
  },
  {
   "cell_type": "code",
   "execution_count": 22,
   "metadata": {
    "collapsed": false
   },
   "outputs": [
    {
     "data": {
      "text/plain": [
       "True"
      ]
     },
     "execution_count": 22,
     "metadata": {},
     "output_type": "execute_result"
    }
   ],
   "source": [
    "a_result.check_output(\"output1\")"
   ]
  }
 ],
 "metadata": {
  "kernelspec": {
   "display_name": "Python 2",
   "language": "python",
   "name": "python2"
  },
  "language_info": {
   "codemirror_mode": {
    "name": "ipython",
    "version": 2
   },
   "file_extension": ".py",
   "mimetype": "text/x-python",
   "name": "python",
   "nbconvert_exporter": "python",
   "pygments_lexer": "ipython2",
   "version": "2.7.11"
  }
 },
 "nbformat": 4,
 "nbformat_minor": 1
}
