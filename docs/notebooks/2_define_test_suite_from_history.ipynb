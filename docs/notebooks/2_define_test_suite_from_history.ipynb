{
 "cells": [
  {
   "cell_type": "markdown",
   "metadata": {
    "deletable": true,
    "editable": true
   },
   "source": [
    "# Define a test-suite from a History"
   ]
  },
  {
   "cell_type": "markdown",
   "metadata": {
    "deletable": true,
    "editable": true
   },
   "source": [
    "This example shows how to **wft4galaxy wizard tool** for automatically generate a workflow test suite from a Galaxy history (see also [Wizard Tool](wizard-tool.html))."
   ]
  },
  {
   "cell_type": "markdown",
   "metadata": {
    "deletable": true,
    "editable": true
   },
   "source": [
    "Suppose you have the Galaxy history shown in **Figure 1** obtained by running the *Fluxomics Stationary* workflow (you can find it in ``examples/fluxomics_stationary``). The first five datasets are inputs, while the remaining are obtained by running the workflow."
   ]
  },
  {
   "cell_type": "markdown",
   "metadata": {
    "deletable": true,
    "editable": true
   },
   "source": [
    "<div>\n",
    "<div style=\"display: block; width: 50%; margin: 0 auto;\">\n",
    "<center>![wf-history](../images/History.png \"Workflow “History“\")</center>\n",
    "<center>**Figure 1.** History: \"_WorkflowTestHistory_21b96e0a-130b-11e7-8958-a45e60c4fc6b\"</center>\n",
    "</div>\n"
   ]
  },
  {
   "cell_type": "markdown",
   "metadata": {},
   "source": [
    "If you are somehow confident that the outputs above are exactly what you should obtain running the workflow running the workflow on the first five inputs, then you can use them as *expected output* for defining a workflow test case. "
   ]
  },
  {
   "cell_type": "markdown",
   "metadata": {},
   "source": [
    "That described above is exactly the scenario where the **wft4galaxy-wizard** tool can help you from automatically generate a test case. Knowing that the history name is *_WorkflowTestHistory_21b96e0a-130b-11e7-8958-a45e60c4fc6b* you can obtain such a test case by simply typing:"
   ]
  },
  {
   "cell_type": "code",
   "execution_count": 1,
   "metadata": {
    "collapsed": false
   },
   "outputs": [
    {
     "name": "stdout",
     "output_type": "stream",
     "text": [
      "2017-03-30 04:10:01,139 [wft4galaxy] [ INFO]  Loading Galaxy history info ...\n",
      "2017-03-30 04:10:05,962 [wft4galaxy] [ INFO]  Selected history: _WorkflowTestHistory_21b96e0a-130b-11e7-8958-a45e60c4fc6b (id: u'0a248a1f62a0cc04')\n",
      "2017-03-30 04:10:05,962 [wft4galaxy] [ INFO]  Loading history 0a248a1f62a0cc04 info\n",
      "2017-03-30 04:10:06,285 [wft4galaxy] [ INFO]  Processing history info...\n",
      "2017-03-30 04:10:07,719 [wft4galaxy] [ INFO]  Processing dataset 2fdbd5c5858e78fb ... \n",
      "2017-03-30 04:10:07,836 [wft4galaxy] [ INFO]  Process dataset 2fdbd5c5858e78fb: done \n",
      "2017-03-30 04:10:07,836 [wft4galaxy] [ INFO]  Processing dataset c385e49b9fe1853c ... \n",
      "2017-03-30 04:10:08,025 [wft4galaxy] [ INFO]  Process dataset c385e49b9fe1853c: done \n",
      "2017-03-30 04:10:08,025 [wft4galaxy] [ INFO]  Processing dataset f7bb1edd6b95db62 ... \n",
      "2017-03-30 04:10:08,141 [wft4galaxy] [ INFO]  Process dataset f7bb1edd6b95db62: done \n",
      "2017-03-30 04:10:08,141 [wft4galaxy] [ INFO]  Processing dataset 52e496b945151ee8 ... \n",
      "2017-03-30 04:10:08,257 [wft4galaxy] [ INFO]  Process dataset 52e496b945151ee8: done \n",
      "2017-03-30 04:10:08,257 [wft4galaxy] [ INFO]  Processing dataset b887d74393f85b6d ... \n",
      "2017-03-30 04:10:08,444 [wft4galaxy] [ INFO]  Process dataset b887d74393f85b6d: done \n",
      "2017-03-30 04:10:08,444 [wft4galaxy] [ INFO]  Processing dataset f0f309c56aff0025 ... \n",
      "2017-03-30 04:10:08,561 [wft4galaxy] [ INFO]  Process dataset f0f309c56aff0025: done \n",
      "2017-03-30 04:10:08,561 [wft4galaxy] [ INFO]  Processing dataset 36ddb788a0f14eb3 ... \n",
      "2017-03-30 04:10:08,679 [wft4galaxy] [ INFO]  Process dataset 36ddb788a0f14eb3: done \n",
      "2017-03-30 04:10:08,679 [wft4galaxy] [ INFO]  Processing dataset 72ad249754f05d26 ... \n",
      "2017-03-30 04:10:08,806 [wft4galaxy] [ INFO]  Process dataset 72ad249754f05d26: done \n",
      "2017-03-30 04:10:08,806 [wft4galaxy] [ INFO]  Processing dataset eafb646da3b7aac5 ... \n",
      "2017-03-30 04:10:08,806 [wft4galaxy] [ INFO]  Process dataset eafb646da3b7aac5: done \n",
      "2017-03-30 04:10:08,807 [wft4galaxy] [ INFO]  Processing dataset 42a2c611109e5ed3 ... \n",
      "2017-03-30 04:10:08,807 [wft4galaxy] [ INFO]  Process dataset 42a2c611109e5ed3: done \n",
      "2017-03-30 04:10:08,807 [wft4galaxy] [ INFO]  Processing extra info...\n",
      "2017-03-30 04:10:08,914 [wft4galaxy] [ INFO]  Processing extra info: done\n",
      "2017-03-30 04:10:08,914 [wft4galaxy] [ INFO]  History info processing: done\n",
      "2017-03-30 04:10:08,914 [wft4galaxy] [ INFO]  Extracting Workflow from history...\n",
      "2017-03-30 04:10:08,940 [wft4galaxy] [ INFO]  Saving workflow to file...\n",
      "2017-03-30 04:10:08,943 [wft4galaxy] [ INFO]  Saving workflow to file: done\n",
      "2017-03-30 04:10:08,943 [wft4galaxy] [ INFO]  Extracting Workflow from history: done\n",
      "2017-03-30 04:10:08,944 [wft4galaxy] [ INFO]  Downloading input datasets...\n",
      "2017-03-30 04:10:09,729 [wft4galaxy] [ INFO]  Downloading input datasets: done\n",
      "2017-03-30 04:10:09,729 [wft4galaxy] [ INFO]  Downloading output datasets...\n",
      "2017-03-30 04:10:09,850 [wft4galaxy] [ INFO]  Downloading output datasets: done\n",
      "2017-03-30 04:10:09,852 [wft4galaxy] [ INFO]  Saving workflow test definition ...\n",
      "2017-03-30 04:10:09,888 [wft4galaxy] [ INFO]  Saving workflow test definition: done\n"
     ]
    }
   ],
   "source": [
    "wft4galaxy-wizard -o MyTestSuite generate-test _WorkflowTestHistory_21b96e0a-130b-11e7-8958-a45e60c4fc6b"
   ]
  },
  {
   "cell_type": "markdown",
   "metadata": {},
   "source": [
    "The wizard tool collects all history info which are useful to generate a test case. In particular, it extracts the workflow executed to generate the history and produces its definition file, i.e., the `.ga` definition file. Then, it downloads all history datasets to generate the test case and creates a new folder called ``MyTestSuite`` with the following structure:\n",
    "\n",
    "    \\ MyTestSuite\n",
    "    | -- workflow-test-suite.yml\n",
    "    | -- workflow.ga\n",
    "    + -- inputs\n",
    "    |      | constraints.csv\n",
    "    |      | exchanged_file.csv\n",
    "    |      | sbml_model.csv\n",
    "    |      | tracing_model.csv\n",
    "    |      | wd.zip\n",
    "    + -- expected\n",
    "    |      | best_fit_fluxes.csv\n",
    "    |      | best_fit_label.csv\n",
    "    |      | constrained_sbml_model.xml"
   ]
  },
  {
   "cell_type": "code",
   "execution_count": 2,
   "metadata": {
    "collapsed": false
   },
   "outputs": [
    {
     "name": "stdout",
     "output_type": "stream",
     "text": [
      "expected\t\tworkflow-test-suite.yml\n",
      "inputs\t\t\tworkflow.ga\n"
     ]
    }
   ],
   "source": [
    "ls MyTestSuite"
   ]
  },
  {
   "cell_type": "markdown",
   "metadata": {
    "deletable": true,
    "editable": true
   },
   "source": [
    "As you can see in the `workflow-test-suite.yml` file, datasets uploaded by users are mapped to test case `inputs`,\n",
    "while datasets generated by the workflow execution are mapped to test case `expected-outputs`."
   ]
  },
  {
   "cell_type": "code",
   "execution_count": 3,
   "metadata": {
    "collapsed": false,
    "deletable": true,
    "editable": true
   },
   "outputs": [
    {
     "name": "stdout",
     "output_type": "stream",
     "text": [
      "##########################################################################################\n",
      "#  Global settings\n",
      "##########################################################################################\n",
      "galaxy_url:     \"http://192.168.8.105:30700\"             # default is GALAXY_URL\n",
      "galaxy_api_key: \"a4725a45123fd949d24878143801cd82\"       # default is GALAXY_API_KEY\n",
      "enable_debug:   \"False\"                                  # enable debug level\n",
      "output_folder:  \"results\"                                # path folder for outputs\n",
      "\n",
      "##########################################################################################\n",
      "#  Workflow tests\n",
      "##########################################################################################\n",
      "workflows:\n",
      "\n",
      "  ########################################################################################\n",
      "  # workflow test case: \"workflow_test_case_1\"\n",
      "  ########################################################################################\n",
      "  workflow_test_case_1:\n",
      "\n",
      "    # worflow definition file (i.e., `.ga`file)\n",
      "    file: \"workflow.ga\"\n",
      "\n",
      "    # input section\n",
      "    #######################################################################################\n",
      "    inputs:\n",
      "    \n",
      "      # extended form\n",
      "      zipped_data:\n",
      "        file: \"inputs/wd.zip\"\n",
      "        type: \"zip\"\n",
      "    \n",
      "      # extended form\n",
      "      tracing_model:\n",
      "        file: \"inputs/tracing_model.csv\"\n",
      "        type: \"csv\"\n",
      "    \n",
      "      # extended form\n",
      "      sbml_model:\n",
      "        file: \"inputs/sbml_model.sbml\"\n",
      "        type: \"xml\"\n",
      "    \n",
      "      # extended form\n",
      "      inputExchange:\n",
      "        file: \"inputs/exchanged_file.csv\"\n",
      "        type: \"csv\"\n",
      "    \n",
      "      # extended form\n",
      "      constraints:\n",
      "        file: \"inputs/constraints.csv\"\n",
      "        type: \"csv\"\n",
      "    \n",
      "    # expected outputs\n",
      "    #######################################################################################\n",
      "    expected:\n",
      "    \n",
      "      # extended form\n",
      "      constrained_sbml_model:\n",
      "        file: \"expected/constrained_sbml_model.xml\"\n",
      "        comparator: \"filecmp.cmp\"\n",
      "\n",
      "      # extended form\n",
      "      best_fit_fluxes:\n",
      "        file: \"expected/best_fit_fluxes.csv\"\n",
      "        comparator: \"filecmp.cmp\"\n",
      "    \n",
      "      # extended form\n",
      "      best_fit_label:\n",
      "        file: \"expected/best_fit_label.csv\"\n",
      "        comparator: \"filecmp.cmp\"\n",
      "    \n"
     ]
    }
   ],
   "source": [
    "cat MyTestSuite/workflow-test-suite.yml"
   ]
  }
 ],
 "metadata": {
  "kernelspec": {
   "display_name": "Bash",
   "language": "bash",
   "name": "bash"
  },
  "language_info": {
   "codemirror_mode": "shell",
   "file_extension": ".sh",
   "mimetype": "text/x-sh",
   "name": "bash"
  }
 },
 "nbformat": 4,
 "nbformat_minor": 0
}
