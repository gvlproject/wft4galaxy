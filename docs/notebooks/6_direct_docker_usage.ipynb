{
 "cells": [
  {
   "cell_type": "markdown",
   "metadata": {},
   "source": [
    "# Direct Docker Usage"
   ]
  },
  {
   "cell_type": "code",
   "execution_count": 1,
   "metadata": {
    "collapsed": false
   },
   "outputs": [
    {
     "name": "stdout",
     "output_type": "stream",
     "text": [
      "2016-11-12 13:25:18,992 INFO: Configuration: {'galaxy_url': None, 'enable_logger': True, 'galaxy_api_key': None, 'enable_debug': False, 'disable_cleanup': False, 'output_folder': '/data_output', 'workflows': {'change_case': WorkflowTestConfig: name=change_case, file=workflow.ga, inputs=[InputText], expected_outputs=[OutputText]}, 'disable_assertions': False, 'logger_level': 20}\r\n",
      "Workflow Test: 'change_case' ... 2016-11-12 13:25:19,721 INFO: Create a history '_WorkflowTestHistory_74db7ef5-a8db-11e6-96ae-0242ac110002' (id: u'8f9e5986e31a6d36')\r\n",
      "2016-11-12 13:25:21,666 INFO: Workflow '_WorkflowTest_Change Case (imported from API)' (id: 6d2d4099ead26222) running ...\r\n",
      "2016-11-12 13:25:29,477 INFO: Workflow '_WorkflowTest_Change Case (imported from API)' (id: 6d2d4099ead26222) executed\r\n",
      "2016-11-12 13:25:29,482 INFO: Checking test output: ...\r\n",
      "2016-11-12 13:25:29,623 INFO: Checking test output: DONE\r\n",
      "ok\r\n",
      "\r\n",
      "----------------------------------------------------------------------\r\n",
      "Ran 1 test in 11.003s\r\n",
      "\r\n",
      "OK\r\n"
     ]
    }
   ],
   "source": [
    "# Galaxy settings\n",
    "GALAXY_SERVER=${GALAXY_URL}\n",
    "GALAXY_API_KEY=${GALAXY_API_KEY}\n",
    "\n",
    "# set the working dir: path must be absolute as Docker requirement\n",
    "WORKSPACE=\"$(pwd)/..\" #${WORKSPACE:-$(pwd)}\n",
    "\n",
    "# absolute path of your test definition and test data\n",
    "LOCAL_INPUT_FOLDER=\"${WORKSPACE}/examples/change_case\"\n",
    "LOCAL_OUTPUT_FOLDER=\"${WORKSPACE}/results\"\n",
    "\n",
    "# test definition file relative the $LOCAL_INPUT_FOLDER\n",
    "TEST_DEFINITION_FILENAME=\"workflow-test.yml\" \n",
    "\n",
    "# test to be executed\n",
    "TESTS=\"change_case\"\n",
    "\n",
    "# Docker settings\n",
    "DOCKER_IMAGE=\"crs4/wft4galaxy\"\n",
    "DOCKER_INPUT_FOLDER=\"/data_input\"\n",
    "DOCKER_OUTPUT_FOLDER=\"/data_output\"\n",
    "DOCKER_CONFIG_FILE=\"${DOCKER_INPUT_FOLDER}/${TEST_DEFINITION_FILENAME}\"\n",
    "\n",
    "# run test\n",
    "docker run -i --rm \\\n",
    "              -v \"${LOCAL_INPUT_FOLDER}\":${DOCKER_INPUT_FOLDER} \\\n",
    "              -v \"${LOCAL_OUTPUT_FOLDER}\":${DOCKER_OUTPUT_FOLDER} \\\n",
    "              ${DOCKER_IMAGE} \\\n",
    "              --server ${GALAXY_SERVER} --api-key ${GALAXY_API_KEY} \\\n",
    "              -f ${DOCKER_CONFIG_FILE} \\\n",
    "              -o ${DOCKER_OUTPUT_FOLDER} ${TESTS}"
   ]
  }
 ],
 "metadata": {
  "kernelspec": {
   "display_name": "Bash",
   "language": "bash",
   "name": "bash"
  },
  "language_info": {
   "codemirror_mode": "shell",
   "file_extension": ".sh",
   "mimetype": "text/x-sh",
   "name": "bash"
  }
 },
 "nbformat": 4,
 "nbformat_minor": 1
}
