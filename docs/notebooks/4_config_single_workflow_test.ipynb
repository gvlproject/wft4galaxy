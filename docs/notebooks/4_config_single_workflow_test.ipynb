{
 "cells": [
  {
   "cell_type": "markdown",
   "metadata": {},
   "source": [
    "# Define a single test"
   ]
  },
  {
   "cell_type": "code",
   "execution_count": 1,
   "metadata": {
    "collapsed": true
   },
   "outputs": [],
   "source": [
    "EXAMPLES_FOLDER = \"../examples\""
   ]
  },
  {
   "cell_type": "code",
   "execution_count": 2,
   "metadata": {
    "collapsed": false
   },
   "outputs": [
    {
     "data": {
      "text/plain": [
       "['change_case',\n",
       " 'multivariate',\n",
       " 'sacurine',\n",
       " 'workflow-test-suite-full.yml',\n",
       " 'workflow-test-suite-min.yml',\n",
       " 'workflows.json']"
      ]
     },
     "execution_count": 2,
     "metadata": {},
     "output_type": "execute_result"
    }
   ],
   "source": [
    "import os, pprint\n",
    "[f for f in os.listdir(EXAMPLES_FOLDER) if not f.startswith('.')]"
   ]
  },
  {
   "cell_type": "code",
   "execution_count": 3,
   "metadata": {
    "collapsed": true
   },
   "outputs": [],
   "source": [
    "suite_conf_filename = os.path.join(EXAMPLES_FOLDER, \"workflow-test-suite-min.yml\")"
   ]
  },
  {
   "cell_type": "code",
   "execution_count": 4,
   "metadata": {
    "collapsed": false
   },
   "outputs": [
    {
     "name": "stdout",
     "output_type": "stream",
     "text": [
      "workflows:\n",
      "  change_case:\n",
      "    expected:\n",
      "      OutputText: change_case/expected_output\n",
      "    inputs:\n",
      "      InputText: change_case/input\n",
      "    file: change_case/workflow.ga\n",
      "  multivariate:\n",
      "    expected:\n",
      "      variableMetadata_out: multivariate/variableMetadata_out\n",
      "      sampleMetadata_out: multivariate/sampleMetadata_out\n",
      "    inputs:\n",
      "      DataMatrix: multivariate/dataMatrix.tsv\n",
      "      SampleMetadata: multivariate/sampleMetadata.tsv\n",
      "      VariableMetadata: multivariate/variableMetadata.tsv\n",
      "    params:\n",
      "      3:\n",
      "        predI: '1'\n",
      "        respC: gender\n",
      "        orthoI: NA\n",
      "        testL: 'FALSE'\n",
      "    file: multivariate/workflow.ga\n",
      "\n"
     ]
    }
   ],
   "source": [
    "import ruamel.yaml as yaml\n",
    "with open(suite_conf_filename, \"r\") as fp:\n",
    "    data = yaml.load(fp)\n",
    "    print yaml.round_trip_dump(data, indent=2, block_seq_indent=3)"
   ]
  },
  {
   "cell_type": "markdown",
   "metadata": {},
   "source": [
    "<center>![wf-changecase-workflow](../images/ChangeCaseWorkflow.png \"Workflow ChangeCase\")</center>\n",
    "<center>**Figure 1.** Workflow *\"ChangeCase\"*</center>"
   ]
  },
  {
   "cell_type": "markdown",
   "metadata": {},
   "source": [
    "As Fig. 1 shows, the workflow has one input and one output. To test it, both the input and the output must be uniquely identified. Typically, Galaxy identifies them using **Names** and **Labels**, respectively.  For our sample workflow, the identifiers are:\n",
    "\n",
    "* Name **\"InputText\"** for the input (Fig. 2);\n",
    "* Label **\"OutputText\"** for the output (Fig. 3)."
   ]
  },
  {
   "cell_type": "markdown",
   "metadata": {},
   "source": [
    "<div>\n",
    "<div style=\"display: inline-block; width: 50%; margin: 0 auto;\">\n",
    "<center>![wf-changecase-inputdataset](../images/ChangeCaseInputDataset.png \"Workflow “Input Dataset“\")</center>\n",
    "<center>**Figure 2.** Workflow input: *\"Input Dataset\"*</center>\n",
    "</div>\n",
    "<div style=\"display: inline-block\">\n",
    "<center>![wf-changecase-outputdataset](../images/ChangeCaseOutputDataset.png \"Workflow “Output Dataset“\")</center>\n",
    "<center>**Figure 3.** Workflow output: *\"output1\"*</center>\n",
    "</div>\n",
    "</div>"
   ]
  },
  {
   "cell_type": "code",
   "execution_count": 5,
   "metadata": {
    "collapsed": true
   },
   "outputs": [],
   "source": [
    "from wft4galaxy import Workflow"
   ]
  },
  {
   "cell_type": "code",
   "execution_count": 6,
   "metadata": {
    "collapsed": false
   },
   "outputs": [
    {
     "name": "stdout",
     "output_type": "stream",
     "text": [
      "Help on class Workflow in module wft4galaxy:\n",
      "\n",
      "class Workflow\n",
      " |  Display workflow information which are relevant to configure a workflow test.\n",
      " |  \n",
      " |  Methods defined here:\n",
      " |  \n",
      " |  __init__(self, definition, inputs, params, outputs)\n",
      " |  \n",
      " |  show_inputs(self)\n",
      " |      Print workflow inputs to the standard output.\n",
      " |  \n",
      " |  show_outputs(self)\n",
      " |      Print workflow outputs (indexed by workflow step) to the standard output.\n",
      " |  \n",
      " |  show_params(self)\n",
      " |      Print parameters needed by workflow tools to the standard output.\n",
      " |  \n",
      " |  ----------------------------------------------------------------------\n",
      " |  Static methods defined here:\n",
      " |  \n",
      " |  load(filename, tools_folder='.tools', galaxy_url=None, galaxy_api_key=None)\n",
      " |      Return the :class:`Workflow` instance related to the workflow defined in ``filename``\n",
      " |      \n",
      " |      :type filename: str\n",
      " |      :param filename: the path of the ``.ga`` workflow definition\n",
      " |      \n",
      " |      :type tools_folder: str\n",
      " |      :param tools_folder: optional temp folder where tool definitions are downloaded (``.tools`` by default)\n",
      " |      \n",
      " |      :type galaxy_url: str\n",
      " |      :param galaxy_url: url of your Galaxy server instance.  If ``none``, the environment variable\n",
      " |          ``BIOBLEND_GALAXY_URL`` is used. An error is raised when such a variable cannot be found.\n",
      " |      \n",
      " |      :type galaxy_api_key: str\n",
      " |      :param galaxy_api_key: an API key from your Galaxy server instance.  If ``none``, the environment variable\n",
      " |          ``BIOBLEND_GALAXY_API_KEY`` is used. An error is raised when such a variable cannot be found.\n",
      " |      \n",
      " |      :rtype: :class:`Workflow`\n",
      " |      :return: the :class:`Workflow` instance related to the workflow defined in ``filename``\n",
      "\n"
     ]
    }
   ],
   "source": [
    "help(Workflow)"
   ]
  },
  {
   "cell_type": "code",
   "execution_count": 7,
   "metadata": {
    "collapsed": false
   },
   "outputs": [],
   "source": [
    "wf = Workflow.load(os.path.join(EXAMPLES_FOLDER, \"change_case/workflow.ga\"))"
   ]
  },
  {
   "cell_type": "code",
   "execution_count": 8,
   "metadata": {
    "collapsed": false
   },
   "outputs": [
    {
     "name": "stdout",
     "output_type": "stream",
     "text": [
      "-  InputText \n"
     ]
    }
   ],
   "source": [
    "wf.show_inputs()"
   ]
  },
  {
   "cell_type": "code",
   "execution_count": 9,
   "metadata": {
    "collapsed": false
   },
   "outputs": [
    {
     "name": "stdout",
     "output_type": "stream",
     "text": [
      "'1':\n",
      "  cols: ''  # Change case of columns\n",
      "  delimiter: TAB # Delimited by\n",
      "  casing: up # To\n",
      "\n"
     ]
    }
   ],
   "source": [
    " wf.show_params()"
   ]
  },
  {
   "cell_type": "code",
   "execution_count": 10,
   "metadata": {
    "collapsed": false
   },
   "outputs": [
    {
     "name": "stdout",
     "output_type": "stream",
     "text": [
      "'1': OutputText\n"
     ]
    }
   ],
   "source": [
    " wf.show_outputs()"
   ]
  },
  {
   "cell_type": "code",
   "execution_count": 11,
   "metadata": {
    "collapsed": false
   },
   "outputs": [],
   "source": [
    "from wft4galaxy import WorkflowTestConfiguration"
   ]
  },
  {
   "cell_type": "code",
   "execution_count": 12,
   "metadata": {
    "collapsed": false
   },
   "outputs": [
    {
     "name": "stdout",
     "output_type": "stream",
     "text": [
      "Help on class WorkflowTestConfiguration in module wft4galaxy:\n",
      "\n",
      "class WorkflowTestConfiguration\n",
      " |  A representation of the configuration of a workflow test.\n",
      " |  \n",
      " |  :type base_path: str\n",
      " |  :param base_path: base path for workflow and dataset files (the current working path is assumed as default)\n",
      " |  \n",
      " |  :type workflow_filename: str\n",
      " |  :param workflow_filename: the path (relative to ``base_path``) of the file containing\n",
      " |      the workflow definition (i.e., the ``.ga`` file which can be downloaded from a Galaxy server)\n",
      " |  \n",
      " |  :type name: str\n",
      " |  :param name: a name for the workflow test\n",
      " |  \n",
      " |  :type inputs: dict\n",
      " |  :param inputs: a dictionary which defines the mapping between a workflow input and a test dataset.\n",
      " |  \n",
      " |         :Example:\n",
      " |  \n",
      " |              {\"DataMatrix\": \"dataMatrix.tsv\"} where `DataMatrix` is the name of a workflow input\n",
      " |              and `dataMatrix.tsv` is the file containing the dataset to be used as input for the workflow test.\n",
      " |  \n",
      " |  :type params: dict\n",
      " |  :param params: a dictionary which defines the mapping between steps and the set of parameters which has to be\n",
      " |      used to configure the corresponding tools of each step.\n",
      " |  \n",
      " |  \n",
      " |         :Example:\n",
      " |  \n",
      " |          .. code-block:: python\n",
      " |  \n",
      " |              params = {\n",
      " |                          3: {\n",
      " |                              \"orthoI\": \"NA\"\n",
      " |                              \"predI\": \"1\"\n",
      " |                              \"respC\": \"gender\"\n",
      " |                              \"testL\": \"FALSE\"\n",
      " |                             }\n",
      " |                       }\n",
      " |  \n",
      " |  :type expected_outputs: dict\n",
      " |  :param expected_outputs: a dictionary to configure the expected output, i.e., the output which has to be compared\n",
      " |      to the actual one produced by a workflow execution. Each output of a workflow step is eligible to be compared\n",
      " |      with an expected output. It is also possible to specify the python function which has to be used\n",
      " |      to perform the actual comparison. Such a function takes two parameters, i.e., ``actual_output_filename`` and\n",
      " |      ``expected_output_filename``, and returns ``True`` whether the comparison between the two files succeeds and\n",
      " |      ``False`` otherwise.\n",
      " |  \n",
      " |  \n",
      " |      :Example: Skeleton of a user-defined comparator:\n",
      " |  \n",
      " |          .. code-block:: python\n",
      " |  \n",
      " |                  def compare_outputs(actual_output_filename, expected_output_filename):\n",
      " |                      ....\n",
      " |                      return True | False\n",
      " |  \n",
      " |  \n",
      " |      :Example: The example below shows an ``expected_outputs`` dictionary that configures\n",
      " |          the expected output datasets for the two actual workflow outputs ``output1`` and ``output2``.\n",
      " |          A user defined 'comparator' is also given to compare the expected to the actual ``output2``.\n",
      " |  \n",
      " |          .. code-block:: python\n",
      " |  \n",
      " |              {\n",
      " |                  'output1': 'change_case/expected_output_1',\n",
      " |                  'output2': {\n",
      " |                      'comparator': 'filecmp.cmp',\n",
      " |                      'file': 'change_case_2/expected_output_2'\n",
      " |                  }\n",
      " |              }\n",
      " |  \n",
      " |  \n",
      " |  \n",
      " |  :type output_folder: str\n",
      " |  :param output_folder: path (relative to ``base_path``) of the folder where workflow outputs are written.\n",
      " |      By default, it is the folder ``results/<name>`` within the ``base_path``\n",
      " |      (where ``name`` is the name of the workflow test).\n",
      " |  \n",
      " |  :type disable_cleanup: bool\n",
      " |  :param disable_cleanup: ``True`` to avoid the clean up of the workflow and history created on the Galaxy server;\n",
      " |      ``False`` (default) otherwise.\n",
      " |  \n",
      " |  :type disable_assertions: bool\n",
      " |  :param disable_assertions: ``True`` to disable assertions during the execution of the workflow test;\n",
      " |      ``False`` (default) otherwise.\n",
      " |  \n",
      " |  Methods defined here:\n",
      " |  \n",
      " |  __init__(self, name=None, base_path='.', workflow_filename='workflow.ga', inputs={}, params={}, expected_outputs={}, output_folder=None, disable_cleanup=False, disable_assertions=True)\n",
      " |  \n",
      " |  __repr__(self)\n",
      " |  \n",
      " |  __str__(self)\n",
      " |  \n",
      " |  add_expected_output(self, name, filename, comparator='filecmp.cmp')\n",
      " |      Add a new expected output to the workflow test configuration.\n",
      " |      \n",
      " |      :type name: str\n",
      " |      :param name: the Galaxy name of the output which the expected dataset has to be mapped.\n",
      " |      \n",
      " |      :type filename: str\n",
      " |      :param filename: the path (relative to the ``base_path``) of the file containing the expected output dataset\n",
      " |      \n",
      " |      :type comparator: str\n",
      " |      :param comparator: a fully qualified name of a `comparator`function (see :class:`WorkflowTestConfiguration`)\n",
      " |  \n",
      " |  add_input(self, name, file)\n",
      " |      Add a new input mapping.\n",
      " |      \n",
      " |      :type name: str\n",
      " |      :param name: the Galaxy label of an input\n",
      " |      \n",
      " |      :type file: str\n",
      " |      :param file: the path (relative to the ``base_path``) of the file containing an input dataset\n",
      " |  \n",
      " |  add_param(self, step_id, name, value)\n",
      " |      Add a new parameter to the step identified by ``step_id``.\n",
      " |      \n",
      " |      :type step_id: int\n",
      " |      :param step_id: step index\n",
      " |      \n",
      " |      :type name: str\n",
      " |      :param name: parameter name\n",
      " |      \n",
      " |      :type value: str\n",
      " |      :param value: parameter value\n",
      " |  \n",
      " |  get_expected_output(self, name)\n",
      " |      Return the configuration of an expected output.\n",
      " |      \n",
      " |      :type name: str\n",
      " |      :param name: the Galaxy name of the output which the expected output has to be mapped.\n",
      " |      \n",
      " |      :rtype: dict\n",
      " |      :return: a dictionary containing the configuration of the expected output as specified\n",
      " |          in :class:`WorkflowTestConfiguration`\n",
      " |  \n",
      " |  get_input(self, name)\n",
      " |      Return the input mapping for the input labeled as ``name``.\n",
      " |      \n",
      " |      :type name: str\n",
      " |      :param name: the Galaxy label of the input\n",
      " |      \n",
      " |      :rtype: dict\n",
      " |      :return: input configuration as dict (e.g., {'name': 'Input Dataset', 'file': \"input.txt\"})\n",
      " |  \n",
      " |  get_param(self, step_id, name)\n",
      " |      Return the value of a specific step parameter.\n",
      " |      \n",
      " |      :type step_id: int\n",
      " |      :param step_id: the index of the step which the parameter is related to\n",
      " |      \n",
      " |      :type name: str\n",
      " |      :param name: the name of the parameter to be returned\n",
      " |      \n",
      " |      :return: the value of the requested parameter\n",
      " |  \n",
      " |  get_params(self, step_id)\n",
      " |      Return the dictionary of parameters related to the step identified by 'step_id'.\n",
      " |      \n",
      " |      :type step_id: int\n",
      " |      :param step_id: the step index\n",
      " |      \n",
      " |      :rtype: dict\n",
      " |      :return: the dictionary of parameters related to the step identified by 'step_id'\n",
      " |  \n",
      " |  remove_expected_output(self, name)\n",
      " |      Remove an expected output from the workflow test configuration.\n",
      " |      \n",
      " |      :type name: str\n",
      " |      :param name: the Galaxy name of the output which the expected output has to be mapped\n",
      " |  \n",
      " |  remove_input(self, name)\n",
      " |      Remove an input mapping.\n",
      " |      \n",
      " |      :type name: str\n",
      " |      :param name: the Galaxy label of an input\n",
      " |  \n",
      " |  remove_param(self, step_id, name)\n",
      " |      Remove the parameter labeled ``name`` from the step identified by ``step_id``.\n",
      " |      \n",
      " |      :type step_id: int\n",
      " |      :param step_id: step index\n",
      " |      \n",
      " |      :type name: str\n",
      " |      :param name: name of the parameter to be removed\n",
      " |  \n",
      " |  save(self, filename=None, file_format='YAML')\n",
      " |      Serialize this workflow test configuration to a file (YAML or JSON).\n",
      " |      \n",
      " |      :type filename: str\n",
      " |      :param filename: absolute path of the file\n",
      " |      \n",
      " |      :type file_format: str\n",
      " |      :param file_format: ``YAML`` or ``JSON``\n",
      " |  \n",
      " |  set_base_path(self, base_path)\n",
      " |      Set the base path of the workflow file definition and the input and output datasets.\n",
      " |      \n",
      " |      :type base_path: str\n",
      " |      :param base_path: a path within the local file system\n",
      " |  \n",
      " |  set_expected_outputs(self, expected_outputs)\n",
      " |      Add a new set of expected outputs (see :class:`WorkflowTestConfiguration`).\n",
      " |      \n",
      " |      :type expected_outputs: dict\n",
      " |      :param expected_outputs: a dictionary structured as specified in :class:`WorkflowTestConfiguration`\n",
      " |  \n",
      " |  set_filename(self, filename)\n",
      " |      Set the filename (relative to ``base_path``) containing the workflow definition.\n",
      " |      \n",
      " |      :type filename: str\n",
      " |      :param filename: the path (relative to the ``base_path``) to the ``.ga`` file\n",
      " |  \n",
      " |  set_inputs(self, inputs)\n",
      " |      Update the mapping between workflow inputs and test datasets.\n",
      " |      \n",
      " |      :param inputs: dict\n",
      " |      :return: a dictionary of mappings (see :class:`WorkflowTestConfiguration`)\n",
      " |  \n",
      " |  set_params(self, params)\n",
      " |      Add a new set of parameters.\n",
      " |      \n",
      " |      :type params: dict\n",
      " |      :param params: dictionary of parameters indexed by step id (see :class:`WorkflowTestConfiguration`)\n",
      " |  \n",
      " |  to_dict(self)\n",
      " |      Return a dictionary representation of the current class instance.\n",
      " |      \n",
      " |      :rtype: dict\n",
      " |      :return:\n",
      " |  \n",
      " |  ----------------------------------------------------------------------\n",
      " |  Static methods defined here:\n",
      " |  \n",
      " |  dump(filename, worflow_tests_config, file_format='YAML')\n",
      " |      Write the configuration of a workflow test suite to a YAML or JSON file.\n",
      " |      \n",
      " |      :type filename: str\n",
      " |      :param filename: the absolute path of the YAML or JSON configuration file\n",
      " |      \n",
      " |      :type worflow_tests_config: dict or list\n",
      " |      :param worflow_tests_config: a dictionary which maps a workflow test name\n",
      " |             to the corresponding configuration (:class:`WorkflowTestConfiguration`)\n",
      " |             or a list of :class:`WorkflowTestConfiguration` instances\n",
      " |      \n",
      " |      :type file_format: str\n",
      " |      :param file_format: ``YAML`` or ``JSON``\n",
      " |  \n",
      " |  load(filename='workflow-test-suite.yml', workflow_test_name=None, file_format='YAML', output_folder=None)\n",
      " |      Load the configuration of a workflow test suite or a single workflow test\n",
      " |      from a YAML or JSON configuration file.\n",
      " |      \n",
      " |      :type filename: str\n",
      " |      :param filename: the path of the file containing the suite definition\n",
      " |      \n",
      " |      :type workflow_test_name: str\n",
      " |      :param workflow_test_name: the optional name of a workflow test\n",
      " |      \n",
      " |      :type file_format: str\n",
      " |      :param file_format: ``YAML`` or ``JSON``\n",
      " |      \n",
      " |      :rtype: dict or :class:`WorkflowTestConfiguration`\n",
      " |      :return: a dictionary containing the configuration of a workflow test suite or\n",
      " |          a single workflow test configuration (i.e., an instance of :class:`WorkflowTestConfiguration`)\n",
      " |  \n",
      " |  ----------------------------------------------------------------------\n",
      " |  Data descriptors defined here:\n",
      " |  \n",
      " |  base_path\n",
      " |      The base path of the workflow file definition and the input and output datasets.\n",
      " |  \n",
      " |  expected_outputs\n",
      " |      A dictionary to configure the expected output, i.e., the output which has to be compared\n",
      " |      to the actual one produced by a workflow execution (see :class:`WorkflowTestConfiguration`).\n",
      " |  \n",
      " |  filename\n",
      " |      The filename (relative to ``base_paht``) of the workflow definition.\n",
      " |  \n",
      " |  inputs\n",
      " |      Return the dictionary which defines the mapping between workflow inputs and test datasets.\n",
      " |  \n",
      " |  params\n",
      " |      Return the dictionary containing the configured parameters (see :class:`WorkflowTestConfiguration`)\n",
      " |      \n",
      " |      :rtype: dict\n",
      " |      :return: a dictionary of configured parameters\n",
      " |  \n",
      " |  ----------------------------------------------------------------------\n",
      " |  Data and other attributes defined here:\n",
      " |  \n",
      " |  DEFAULT_CONFIG_FILENAME = 'workflow-test-suite.yml'\n",
      " |  \n",
      " |  DEFAULT_HISTORY_NAME_PREFIX = '_WorkflowTestHistory_'\n",
      " |  \n",
      " |  DEFAULT_OUTPUT_FOLDER = 'results'\n",
      " |  \n",
      " |  DEFAULT_WORKFLOW_CONFIG = {'expected': {'output1': {'comparator': 'fil...\n",
      " |  \n",
      " |  DEFAULT_WORKFLOW_NAME_PREFIX = '_WorkflowTest_'\n",
      "\n"
     ]
    }
   ],
   "source": [
    "help(WorkflowTestConfiguration)"
   ]
  },
  {
   "cell_type": "code",
   "execution_count": 13,
   "metadata": {
    "collapsed": true
   },
   "outputs": [],
   "source": [
    "# main params to create a WorkflowTestConfiguration: base_path, inputs, params, expected_outputs"
   ]
  },
  {
   "cell_type": "code",
   "execution_count": 14,
   "metadata": {
    "collapsed": true
   },
   "outputs": [],
   "source": [
    "base_path = os.path.join(EXAMPLES_FOLDER, \"change_case\")"
   ]
  },
  {
   "cell_type": "code",
   "execution_count": 15,
   "metadata": {
    "collapsed": true
   },
   "outputs": [],
   "source": [
    "workflow_filename = \"workflow.ga\""
   ]
  },
  {
   "cell_type": "code",
   "execution_count": 16,
   "metadata": {
    "collapsed": true
   },
   "outputs": [],
   "source": [
    "inputs = {\"InputText\": {\"file\": \"input\"}}"
   ]
  },
  {
   "cell_type": "code",
   "execution_count": 17,
   "metadata": {
    "collapsed": true
   },
   "outputs": [],
   "source": [
    "expected_outputs = {\"OutputText\": {\"file\": \"expected_output\"}}"
   ]
  },
  {
   "cell_type": "code",
   "execution_count": 18,
   "metadata": {
    "collapsed": false
   },
   "outputs": [],
   "source": [
    "test_conf = WorkflowTestConfiguration(base_path=base_path, workflow_filename=workflow_filename, inputs=inputs, expected_outputs=expected_outputs)"
   ]
  },
  {
   "cell_type": "code",
   "execution_count": 19,
   "metadata": {
    "collapsed": false
   },
   "outputs": [
    {
     "name": "stdout",
     "output_type": "stream",
     "text": [
      "WorkflowTestConfig: name=3a0860ab-a820-11e6-aa71-a45e60c4fc6b, file=workflow.ga, inputs=[InputText], expected_outputs=[OutputText]\n"
     ]
    }
   ],
   "source": [
    "print test_conf"
   ]
  },
  {
   "cell_type": "code",
   "execution_count": 20,
   "metadata": {
    "collapsed": false
   },
   "outputs": [],
   "source": [
    "from wft4galaxy import WorkflowTestRunner"
   ]
  },
  {
   "cell_type": "code",
   "execution_count": 21,
   "metadata": {
    "collapsed": false
   },
   "outputs": [],
   "source": [
    "test_runner = WorkflowTestRunner.new_instance(test_conf)"
   ]
  },
  {
   "cell_type": "code",
   "execution_count": 22,
   "metadata": {
    "collapsed": false
   },
   "outputs": [
    {
     "name": "stderr",
     "output_type": "stream",
     "text": [
      "2016-11-11 16:05:18,910 INFO: Create a history '_WorkflowTestHistory_423a30dc-a820-11e6-b5e5-a45e60c4fc6b' (id: u'52d6bdfafedbb5e5')\n",
      "2016-11-11 16:05:20,387 INFO: Workflow '_WorkflowTest_Change Case (imported from API)' (id: d448712f90897b61) running ...\n",
      "2016-11-11 16:05:29,599 INFO: Workflow '_WorkflowTest_Change Case (imported from API)' (id: d448712f90897b61) executed\n",
      "2016-11-11 16:05:29,602 INFO: Checking test output: ...\n",
      "2016-11-11 16:05:29,692 INFO: Checking test output: DONE\n"
     ]
    }
   ],
   "source": [
    "test_result = test_runner.run_test(enable_logger=True)"
   ]
  },
  {
   "cell_type": "code",
   "execution_count": 23,
   "metadata": {
    "collapsed": false
   },
   "outputs": [
    {
     "name": "stdout",
     "output_type": "stream",
     "text": [
      "Test 423a30dc-a820-11e6-b5e5-a45e60c4fc6b:\n",
      "\t - workflow: [_WorkflowTest_Change Case (imported from API)] \n",
      "\t - results: {u'OutputText': True}\n"
     ]
    }
   ],
   "source": [
    "print(\"Test %s:\\n\\t - workflow: [%s] \\n\\t - results: %r\" % \\\n",
    "      (test_result.test_id, test_result.workflow.name, test_result.results))"
   ]
  },
  {
   "cell_type": "code",
   "execution_count": 24,
   "metadata": {
    "collapsed": false
   },
   "outputs": [
    {
     "name": "stdout",
     "output_type": "stream",
     "text": [
      "Outputs:  [u'OutputText']\n"
     ]
    }
   ],
   "source": [
    "print \"Outputs: \", test_result.results.keys()"
   ]
  },
  {
   "cell_type": "code",
   "execution_count": 25,
   "metadata": {
    "collapsed": false
   },
   "outputs": [
    {
     "data": {
      "text/plain": [
       "(True, False)"
      ]
     },
     "execution_count": 25,
     "metadata": {},
     "output_type": "execute_result"
    }
   ],
   "source": [
    "test_result.passed(), test_result.failed()"
   ]
  },
  {
   "cell_type": "code",
   "execution_count": 26,
   "metadata": {
    "collapsed": false
   },
   "outputs": [
    {
     "data": {
      "text/plain": [
       "True"
      ]
     },
     "execution_count": 26,
     "metadata": {},
     "output_type": "execute_result"
    }
   ],
   "source": [
    "test_result.check_output(\"OutputText\")"
   ]
  },
  {
   "cell_type": "code",
   "execution_count": 27,
   "metadata": {
    "collapsed": false
   },
   "outputs": [
    {
     "data": {
      "text/plain": [
       "Workflow({u'inputs': {u'0': {u'uuid': u'00bd81ab-17f6-4722-98b6-3217a8144b9c', u'value': u'', u'label': u'InputText'}}, u'name': u'_WorkflowTest_Change Case (imported from API)', u'tags': [], u'deleted': False, u'latest_workflow_uuid': u'29d5dd98-c529-433e-91ba-94bfa714da3f', u'annotation': None, u'url': u'/api/workflows/d448712f90897b61', u'steps': {u'1': Step({u'tool_id': u'ChangeCase', u'tool_version': u'1.0.0', u'annotation': None, u'input_steps': {u'input': {u'step_output': u'output', u'source_step': u'0'}}, u'tool_inputs': {u'input': {u'__class__': u'RuntimeValue'}, u'delimiter': u'TAB', u'casing': u'up', u'cols': u'c1,c2'}, u'type': u'tool', u'id': u'1'}), u'0': Step({u'tool_id': None, u'tool_version': None, u'annotation': None, u'input_steps': {}, u'tool_inputs': {u'name': u'InputText'}, u'type': u'data_input', u'id': u'0'})}, u'published': False, u'owner': u'phenomenal', u'model_class': u'StoredWorkflow', u'id': u'd448712f90897b61'})"
      ]
     },
     "execution_count": 27,
     "metadata": {},
     "output_type": "execute_result"
    }
   ],
   "source": [
    "test_result.workflow"
   ]
  }
 ],
 "metadata": {
  "kernelspec": {
   "display_name": "Python 2",
   "language": "python",
   "name": "python2"
  },
  "language_info": {
   "codemirror_mode": {
    "name": "ipython",
    "version": 2
   },
   "file_extension": ".py",
   "mimetype": "text/x-python",
   "name": "python",
   "nbconvert_exporter": "python",
   "pygments_lexer": "ipython2",
   "version": "2.7.11"
  }
 },
 "nbformat": 4,
 "nbformat_minor": 1
}
