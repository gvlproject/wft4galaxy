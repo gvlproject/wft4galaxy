{
 "cells": [
  {
   "cell_type": "markdown",
   "metadata": {},
   "source": [
    "# Programmatic Usage"
   ]
  },
  {
   "cell_type": "markdown",
   "metadata": {},
   "source": [
    "\n",
    "## Run a test suite interactively"
   ]
  },
  {
   "cell_type": "code",
   "execution_count": 19,
   "metadata": {
    "collapsed": true
   },
   "outputs": [],
   "source": [
    "# import the required module\n",
    "import workflow_tester as wt"
   ]
  },
  {
   "cell_type": "markdown",
   "metadata": {},
   "source": [
    "### suite configured in a file"
   ]
  },
  {
   "cell_type": "code",
   "execution_count": 2,
   "metadata": {
    "collapsed": true
   },
   "outputs": [],
   "source": [
    "# create a new WorkflowTestSuite instance\n",
    "suite = wt.WorkflowTestSuite()"
   ]
  },
  {
   "cell_type": "code",
   "execution_count": 3,
   "metadata": {
    "collapsed": false
   },
   "outputs": [
    {
     "name": "stdout",
     "output_type": "stream",
     "text": [
      "{'galaxy_url': 'http://192.168.64.6:30700', 'enable_logger': True, 'galaxy_api_key': '6603ee13f655cb2a8a27d720c3cb7045', 'enable_debug': False, 'disable_cleanup': False, 'output_folder': 'results', 'workflows': {'example2': WorkflowTestConfig: name=example2, file=change_case_1/workflow.ga, inputs=[Input Dataset], expected_outputs=[output2,output1], 'example': WorkflowTestConfig: name=example, file=change_case_1/workflow.ga, inputs=[Input Dataset], expected_outputs=[output2,output1]}, 'disable_assertions': False}\n"
     ]
    }
   ],
   "source": [
    "# load test suite from a configuration file (see above)\n",
    "suite.load(\"examples/workflows.yml\")\n",
    "# the current suite configuration \n",
    "print suite.configuration"
   ]
  },
  {
   "cell_type": "code",
   "execution_count": 4,
   "metadata": {
    "collapsed": false
   },
   "outputs": [
    {
     "name": "stderr",
     "output_type": "stream",
     "text": [
      "2016-10-14 11:41:08,370 INFO: Create a history '_WorkflowTestHistory_553bf62b-91f2-11e6-a5db-a45e60c4fc6b' (id: u'32c70b5011288952')\n",
      "2016-10-14 11:41:09,945 INFO: Workflow '_WorkflowTest_TestWorkflow (imported from API)' (id: 2f5f01f38a8b48d1) running ...\n",
      "2016-10-14 11:41:26,126 INFO: Workflow '_WorkflowTest_TestWorkflow (imported from API)' (id: 2f5f01f38a8b48d1) executed\n",
      "2016-10-14 11:41:26,127 INFO: Checking test output: ...\n",
      "2016-10-14 11:41:26,553 INFO: Checking test output: DONE\n",
      "2016-10-14 11:41:26,554 ERROR: The following outputs differ from the expected ones: output1\n",
      "2016-10-14 11:41:27,567 INFO: Create a history '_WorkflowTestHistory_60533cee-91f2-11e6-bdb1-a45e60c4fc6b' (id: u'85b413e771c184a9')\n",
      "2016-10-14 11:41:28,755 INFO: Workflow '_WorkflowTest_TestWorkflow (imported from API)' (id: 2f5f01f38a8b48d1) running ...\n",
      "2016-10-14 11:41:44,655 INFO: Workflow '_WorkflowTest_TestWorkflow (imported from API)' (id: 2f5f01f38a8b48d1) executed\n",
      "2016-10-14 11:41:44,657 INFO: Checking test output: ...\n",
      "2016-10-14 11:41:44,804 INFO: Checking test output: DONE\n"
     ]
    }
   ],
   "source": [
    "# run the suite and collect results\n",
    "results = suite.run_tests(enable_logger=True, disable_assertions=True)"
   ]
  },
  {
   "cell_type": "code",
   "execution_count": 5,
   "metadata": {
    "collapsed": false
   },
   "outputs": [
    {
     "name": "stdout",
     "output_type": "stream",
     "text": [
      "[Test 553bf62b-91f2-11e6-a5db-a45e60c4fc6b: workflow _WorkflowTest_TestWorkflow (imported from API), intputs=[Input Dataset], outputs=[output2: OK, output1: ERROR], Test 60533cee-91f2-11e6-bdb1-a45e60c4fc6b: workflow _WorkflowTest_TestWorkflow (imported from API), intputs=[Input Dataset], outputs=[output2: OK, output1: OK]]\n"
     ]
    }
   ],
   "source": [
    "print results"
   ]
  },
  {
   "cell_type": "markdown",
   "metadata": {},
   "source": [
    "### suite defined interactively"
   ]
  },
  {
   "cell_type": "code",
   "execution_count": 20,
   "metadata": {
    "collapsed": true
   },
   "outputs": [],
   "source": [
    "# create a new WorkflowTestSuite instance\n",
    "suite = wt.WorkflowTestSuite()"
   ]
  },
  {
   "cell_type": "code",
   "execution_count": 22,
   "metadata": {
    "collapsed": false
   },
   "outputs": [],
   "source": [
    "# create a new WorkflowTestConfiguration\n",
    "workflow_test_config = wt.WorkflowTestConfiguration(\n",
    "    base_path=\"./examples/change_case_1\",\n",
    "    filename=\"workflow.ga\",\n",
    "    name=\"Example\",\n",
    "    inputs={\"Input Dataset\": {\"name\": \"Input Dataset\", \"file\": [\"input\"]}},\n",
    "    expected_outputs={ \n",
    "        \"output1\": {\"file\": \"expected_output_1\", \"comparator\": \"filecmp.cmp\", \"name\": \"output1\"},\n",
    "        \"output2\": {\"file\": \"expected_output_2\", \"comparator\": \"filecmp.cmp\", \"name\": \"output2\"}\n",
    "    }\n",
    ")"
   ]
  },
  {
   "cell_type": "code",
   "execution_count": 23,
   "metadata": {
    "collapsed": false
   },
   "outputs": [],
   "source": [
    "# add the workflow test to the suite\n",
    "suite.add_workflow_test(workflow_test_config)"
   ]
  },
  {
   "cell_type": "code",
   "execution_count": 24,
   "metadata": {
    "collapsed": false
   },
   "outputs": [
    {
     "name": "stderr",
     "output_type": "stream",
     "text": [
      "2016-10-14 11:50:04,471 INFO: Create a history '_WorkflowTestHistory_94ad1997-91f3-11e6-8ace-a45e60c4fc6b' (id: u'ced8c2628bac3950')\n",
      "2016-10-14 11:50:05,775 INFO: Workflow '_WorkflowTest_TestWorkflow (imported from API)' (id: 6c528a25ae52bbbf) running ...\n",
      "2016-10-14 11:50:22,123 INFO: Workflow '_WorkflowTest_TestWorkflow (imported from API)' (id: 6c528a25ae52bbbf) executed\n",
      "2016-10-14 11:50:22,124 INFO: Checking test output: ...\n",
      "2016-10-14 11:50:22,209 INFO: Checking test output: DONE\n"
     ]
    }
   ],
   "source": [
    "# run suite tests and collect results\n",
    "results = suite.run_tests(enable_logger=True)"
   ]
  },
  {
   "cell_type": "code",
   "execution_count": 25,
   "metadata": {
    "collapsed": false
   },
   "outputs": [
    {
     "name": "stdout",
     "output_type": "stream",
     "text": [
      "[Test 94ad1997-91f3-11e6-8ace-a45e60c4fc6b: workflow _WorkflowTest_TestWorkflow (imported from API), intputs=[Input Dataset], outputs=[output1: OK]]\n"
     ]
    }
   ],
   "source": [
    "print results"
   ]
  },
  {
   "cell_type": "markdown",
   "metadata": {},
   "source": [
    "## run a single workflow test"
   ]
  },
  {
   "cell_type": "code",
   "execution_count": 26,
   "metadata": {
    "collapsed": true
   },
   "outputs": [],
   "source": [
    "# create a new WorkflowTestConfiguration\n",
    "workflow_test_config = wt.WorkflowTestConfiguration(\n",
    "    base_path=\"./examples/change_case_1\",\n",
    "    filename=\"workflow.ga\",\n",
    "    name=\"Example\",\n",
    "    inputs={\"Input Dataset\": {\"name\": \"Input Dataset\", \"file\": [\"input\"]}},\n",
    "    expected_outputs={ \n",
    "        \"output1\": {\"file\": \"expected_output_1\", \"comparator\": \"filecmp.cmp\", \"name\": \"output1\"},\n",
    "        \"output2\": {\"file\": \"expected_output_2\", \"comparator\": \"filecmp.cmp\", \"name\": \"output2\"}\n",
    "    }\n",
    ")"
   ]
  },
  {
   "cell_type": "code",
   "execution_count": 27,
   "metadata": {
    "collapsed": true
   },
   "outputs": [],
   "source": [
    "# create a test runner\n",
    "runner = wt.WorkflowTestRunner.new_instance(workflow_test_config)"
   ]
  },
  {
   "cell_type": "code",
   "execution_count": 28,
   "metadata": {
    "collapsed": false
   },
   "outputs": [
    {
     "name": "stderr",
     "output_type": "stream",
     "text": [
      "2016-10-14 11:56:36,040 INFO: Create a history '_WorkflowTestHistory_7e2a26b8-91f4-11e6-b0ed-a45e60c4fc6b' (id: u'd90c1a42648bfe83')\n",
      "2016-10-14 11:56:38,326 INFO: Workflow '_WorkflowTest_TestWorkflow (imported from API)' (id: b7ea60de91649a75) running ...\n",
      "2016-10-14 11:56:54,887 INFO: Workflow '_WorkflowTest_TestWorkflow (imported from API)' (id: b7ea60de91649a75) executed\n",
      "2016-10-14 11:56:54,887 INFO: Checking test output: ...\n",
      "2016-10-14 11:56:55,022 INFO: Checking test output: DONE\n"
     ]
    }
   ],
   "source": [
    "# run test and collect results\n",
    "results = runner.run_test()"
   ]
  },
  {
   "cell_type": "code",
   "execution_count": 29,
   "metadata": {
    "collapsed": false
   },
   "outputs": [
    {
     "name": "stdout",
     "output_type": "stream",
     "text": [
      "Test 7e2a26b8-91f4-11e6-b0ed-a45e60c4fc6b: workflow _WorkflowTest_TestWorkflow (imported from API), intputs=[Input Dataset], outputs=[output2: OK, output1: OK]\n"
     ]
    }
   ],
   "source": [
    "print results"
   ]
  },
  {
   "cell_type": "code",
   "execution_count": null,
   "metadata": {
    "collapsed": true
   },
   "outputs": [],
   "source": []
  }
 ],
 "metadata": {
  "kernelspec": {
   "display_name": "Python 2",
   "language": "python",
   "name": "python2"
  },
  "language_info": {
   "codemirror_mode": {
    "name": "ipython",
    "version": 2
   },
   "file_extension": ".py",
   "mimetype": "text/x-python",
   "name": "python",
   "nbconvert_exporter": "python",
   "pygments_lexer": "ipython2",
   "version": "2.7.11"
  }
 },
 "nbformat": 4,
 "nbformat_minor": 0
}
